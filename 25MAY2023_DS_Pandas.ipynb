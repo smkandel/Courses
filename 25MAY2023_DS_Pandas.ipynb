{
  "nbformat": 4,
  "nbformat_minor": 0,
  "metadata": {
    "colab": {
      "provenance": [],
      "include_colab_link": true
    },
    "kernelspec": {
      "name": "python3",
      "display_name": "Python 3"
    },
    "language_info": {
      "name": "python"
    }
  },
  "cells": [
    {
      "cell_type": "markdown",
      "metadata": {
        "id": "view-in-github",
        "colab_type": "text"
      },
      "source": [
        "<a href=\"https://colab.research.google.com/github/smkandel/Courses/blob/main/25MAY2023_DS_Pandas.ipynb\" target=\"_parent\"><img src=\"https://colab.research.google.com/assets/colab-badge.svg\" alt=\"Open In Colab\"/></a>"
      ]
    },
    {
      "cell_type": "code",
      "execution_count": null,
      "metadata": {
        "id": "7UykUHPL8YAJ"
      },
      "outputs": [],
      "source": [
        "import pandas as pd"
      ]
    },
    {
      "cell_type": "code",
      "source": [
        "df_csv = pd.read_csv('/content/Churn_Modelling.csv')"
      ],
      "metadata": {
        "id": "-Aho2eC5NgBS"
      },
      "execution_count": null,
      "outputs": []
    },
    {
      "cell_type": "code",
      "source": [
        "df_xml = pd.read_xml('/content/churn_modelling_xml.xml')"
      ],
      "metadata": {
        "id": "ls9mOykjadau"
      },
      "execution_count": null,
      "outputs": []
    },
    {
      "cell_type": "code",
      "source": [
        "df_xlsx = pd.read_excel('/content/churn_modelling_xlsx.xlsx')"
      ],
      "metadata": {
        "id": "wzwOxFzEaoh1"
      },
      "execution_count": null,
      "outputs": []
    },
    {
      "cell_type": "code",
      "source": [
        "df_html = pd.read_html('/content/churn_modelling_html.html')"
      ],
      "metadata": {
        "id": "16CQQggma2YU"
      },
      "execution_count": null,
      "outputs": []
    },
    {
      "cell_type": "code",
      "source": [
        "df_json = pd.read_json('/content/churn_modelling_json.json')"
      ],
      "metadata": {
        "id": "P0hsomqRa9ph"
      },
      "execution_count": null,
      "outputs": []
    },
    {
      "cell_type": "code",
      "source": [
        "print(df_csv, df_xml, df_xlsx, df_html, df_json)"
      ],
      "metadata": {
        "colab": {
          "base_uri": "https://localhost:8080/"
        },
        "id": "xrFwTJPaNvQW",
        "outputId": "a4b14249-3da5-48ca-bda5-866274ac3e16"
      },
      "execution_count": null,
      "outputs": [
        {
          "output_type": "stream",
          "name": "stdout",
          "text": [
            "      RowNumber  CustomerId    Surname  CreditScore Geography  Gender  Age  \\\n",
            "0             1    15634602   Hargrave          619    France  Female   42   \n",
            "1             2    15647311       Hill          608     Spain  Female   41   \n",
            "2             3    15619304       Onio          502    France  Female   42   \n",
            "3             4    15701354       Boni          699    France  Female   39   \n",
            "4             5    15737888   Mitchell          850     Spain  Female   43   \n",
            "...         ...         ...        ...          ...       ...     ...  ...   \n",
            "9995       9996    15606229   Obijiaku          771    France    Male   39   \n",
            "9996       9997    15569892  Johnstone          516    France    Male   35   \n",
            "9997       9998    15584532        Liu          709    France  Female   36   \n",
            "9998       9999    15682355  Sabbatini          772   Germany    Male   42   \n",
            "9999      10000    15628319     Walker          792    France  Female   28   \n",
            "\n",
            "      Tenure    Balance  NumOfProducts  HasCrCard  IsActiveMember  \\\n",
            "0          2       0.00              1          1               1   \n",
            "1          1   83807.86              1          0               1   \n",
            "2          8  159660.80              3          1               0   \n",
            "3          1       0.00              2          0               0   \n",
            "4          2  125510.82              1          1               1   \n",
            "...      ...        ...            ...        ...             ...   \n",
            "9995       5       0.00              2          1               0   \n",
            "9996      10   57369.61              1          1               1   \n",
            "9997       7       0.00              1          0               1   \n",
            "9998       3   75075.31              2          1               0   \n",
            "9999       4  130142.79              1          1               0   \n",
            "\n",
            "      EstimatedSalary  Exited  \n",
            "0           101348.88       1  \n",
            "1           112542.58       0  \n",
            "2           113931.57       1  \n",
            "3            93826.63       0  \n",
            "4            79084.10       0  \n",
            "...               ...     ...  \n",
            "9995         96270.64       0  \n",
            "9996        101699.77       0  \n",
            "9997         42085.58       1  \n",
            "9998         92888.52       1  \n",
            "9999         38190.78       0  \n",
            "\n",
            "[10000 rows x 14 columns]       index  RowNumber  CustomerId    Surname  CreditScore Geography  Gender  \\\n",
            "0         0          1    15634602   Hargrave          619    France  Female   \n",
            "1         1          2    15647311       Hill          608     Spain  Female   \n",
            "2         2          3    15619304       Onio          502    France  Female   \n",
            "3         3          4    15701354       Boni          699    France  Female   \n",
            "4         4          5    15737888   Mitchell          850     Spain  Female   \n",
            "...     ...        ...         ...        ...          ...       ...     ...   \n",
            "9995   9995       9996    15606229   Obijiaku          771    France    Male   \n",
            "9996   9996       9997    15569892  Johnstone          516    France    Male   \n",
            "9997   9997       9998    15584532        Liu          709    France  Female   \n",
            "9998   9998       9999    15682355  Sabbatini          772   Germany    Male   \n",
            "9999   9999      10000    15628319     Walker          792    France  Female   \n",
            "\n",
            "      Age  Tenure    Balance  NumOfProducts  HasCrCard  IsActiveMember  \\\n",
            "0      42       2       0.00              1          1               1   \n",
            "1      41       1   83807.86              1          0               1   \n",
            "2      42       8  159660.80              3          1               0   \n",
            "3      39       1       0.00              2          0               0   \n",
            "4      43       2  125510.82              1          1               1   \n",
            "...   ...     ...        ...            ...        ...             ...   \n",
            "9995   39       5       0.00              2          1               0   \n",
            "9996   35      10   57369.61              1          1               1   \n",
            "9997   36       7       0.00              1          0               1   \n",
            "9998   42       3   75075.31              2          1               0   \n",
            "9999   28       4  130142.79              1          1               0   \n",
            "\n",
            "      EstimatedSalary  Exited  \n",
            "0           101348.88       1  \n",
            "1           112542.58       0  \n",
            "2           113931.57       1  \n",
            "3            93826.63       0  \n",
            "4            79084.10       0  \n",
            "...               ...     ...  \n",
            "9995         96270.64       0  \n",
            "9996        101699.77       0  \n",
            "9997         42085.58       1  \n",
            "9998         92888.52       1  \n",
            "9999         38190.78       0  \n",
            "\n",
            "[10000 rows x 15 columns]       Unnamed: 0  RowNumber  CustomerId    Surname  CreditScore Geography  \\\n",
            "0              0          1    15634602   Hargrave          619    France   \n",
            "1              1          2    15647311       Hill          608     Spain   \n",
            "2              2          3    15619304       Onio          502    France   \n",
            "3              3          4    15701354       Boni          699    France   \n",
            "4              4          5    15737888   Mitchell          850     Spain   \n",
            "...          ...        ...         ...        ...          ...       ...   \n",
            "9995        9995       9996    15606229   Obijiaku          771    France   \n",
            "9996        9996       9997    15569892  Johnstone          516    France   \n",
            "9997        9997       9998    15584532        Liu          709    France   \n",
            "9998        9998       9999    15682355  Sabbatini          772   Germany   \n",
            "9999        9999      10000    15628319     Walker          792    France   \n",
            "\n",
            "      Gender  Age  Tenure    Balance  NumOfProducts  HasCrCard  \\\n",
            "0     Female   42       2       0.00              1          1   \n",
            "1     Female   41       1   83807.86              1          0   \n",
            "2     Female   42       8  159660.80              3          1   \n",
            "3     Female   39       1       0.00              2          0   \n",
            "4     Female   43       2  125510.82              1          1   \n",
            "...      ...  ...     ...        ...            ...        ...   \n",
            "9995    Male   39       5       0.00              2          1   \n",
            "9996    Male   35      10   57369.61              1          1   \n",
            "9997  Female   36       7       0.00              1          0   \n",
            "9998    Male   42       3   75075.31              2          1   \n",
            "9999  Female   28       4  130142.79              1          1   \n",
            "\n",
            "      IsActiveMember  EstimatedSalary  Exited  \n",
            "0                  1        101348.88       1  \n",
            "1                  1        112542.58       0  \n",
            "2                  0        113931.57       1  \n",
            "3                  0         93826.63       0  \n",
            "4                  1         79084.10       0  \n",
            "...              ...              ...     ...  \n",
            "9995               0         96270.64       0  \n",
            "9996               1        101699.77       0  \n",
            "9997               1         42085.58       1  \n",
            "9998               0         92888.52       1  \n",
            "9999               0         38190.78       0  \n",
            "\n",
            "[10000 rows x 15 columns] [      Unnamed: 0  RowNumber  CustomerId    Surname  CreditScore Geography  \\\n",
            "0              0          1    15634602   Hargrave          619    France   \n",
            "1              1          2    15647311       Hill          608     Spain   \n",
            "2              2          3    15619304       Onio          502    France   \n",
            "3              3          4    15701354       Boni          699    France   \n",
            "4              4          5    15737888   Mitchell          850     Spain   \n",
            "...          ...        ...         ...        ...          ...       ...   \n",
            "9995        9995       9996    15606229   Obijiaku          771    France   \n",
            "9996        9996       9997    15569892  Johnstone          516    France   \n",
            "9997        9997       9998    15584532        Liu          709    France   \n",
            "9998        9998       9999    15682355  Sabbatini          772   Germany   \n",
            "9999        9999      10000    15628319     Walker          792    France   \n",
            "\n",
            "      Gender  Age  Tenure    Balance  NumOfProducts  HasCrCard  \\\n",
            "0     Female   42       2       0.00              1          1   \n",
            "1     Female   41       1   83807.86              1          0   \n",
            "2     Female   42       8  159660.80              3          1   \n",
            "3     Female   39       1       0.00              2          0   \n",
            "4     Female   43       2  125510.82              1          1   \n",
            "...      ...  ...     ...        ...            ...        ...   \n",
            "9995    Male   39       5       0.00              2          1   \n",
            "9996    Male   35      10   57369.61              1          1   \n",
            "9997  Female   36       7       0.00              1          0   \n",
            "9998    Male   42       3   75075.31              2          1   \n",
            "9999  Female   28       4  130142.79              1          1   \n",
            "\n",
            "      IsActiveMember  EstimatedSalary  Exited  \n",
            "0                  1        101348.88       1  \n",
            "1                  1        112542.58       0  \n",
            "2                  0        113931.57       1  \n",
            "3                  0         93826.63       0  \n",
            "4                  1         79084.10       0  \n",
            "...              ...              ...     ...  \n",
            "9995               0         96270.64       0  \n",
            "9996               1        101699.77       0  \n",
            "9997               1         42085.58       1  \n",
            "9998               0         92888.52       1  \n",
            "9999               0         38190.78       0  \n",
            "\n",
            "[10000 rows x 15 columns]]       RowNumber  CustomerId    Surname  CreditScore Geography  Gender  Age  \\\n",
            "0             1    15634602   Hargrave          619    France  Female   42   \n",
            "1             2    15647311       Hill          608     Spain  Female   41   \n",
            "2             3    15619304       Onio          502    France  Female   42   \n",
            "3             4    15701354       Boni          699    France  Female   39   \n",
            "4             5    15737888   Mitchell          850     Spain  Female   43   \n",
            "...         ...         ...        ...          ...       ...     ...  ...   \n",
            "9995       9996    15606229   Obijiaku          771    France    Male   39   \n",
            "9996       9997    15569892  Johnstone          516    France    Male   35   \n",
            "9997       9998    15584532        Liu          709    France  Female   36   \n",
            "9998       9999    15682355  Sabbatini          772   Germany    Male   42   \n",
            "9999      10000    15628319     Walker          792    France  Female   28   \n",
            "\n",
            "      Tenure    Balance  NumOfProducts  HasCrCard  IsActiveMember  \\\n",
            "0          2       0.00              1          1               1   \n",
            "1          1   83807.86              1          0               1   \n",
            "2          8  159660.80              3          1               0   \n",
            "3          1       0.00              2          0               0   \n",
            "4          2  125510.82              1          1               1   \n",
            "...      ...        ...            ...        ...             ...   \n",
            "9995       5       0.00              2          1               0   \n",
            "9996      10   57369.61              1          1               1   \n",
            "9997       7       0.00              1          0               1   \n",
            "9998       3   75075.31              2          1               0   \n",
            "9999       4  130142.79              1          1               0   \n",
            "\n",
            "      EstimatedSalary  Exited  \n",
            "0           101348.88       1  \n",
            "1           112542.58       0  \n",
            "2           113931.57       1  \n",
            "3            93826.63       0  \n",
            "4            79084.10       0  \n",
            "...               ...     ...  \n",
            "9995         96270.64       0  \n",
            "9996        101699.77       0  \n",
            "9997         42085.58       1  \n",
            "9998         92888.52       1  \n",
            "9999         38190.78       0  \n",
            "\n",
            "[10000 rows x 14 columns]\n"
          ]
        }
      ]
    },
    {
      "cell_type": "code",
      "source": [
        "df1.to_html('churn_modelling_html.html')"
      ],
      "metadata": {
        "id": "oxoFthszPULx"
      },
      "execution_count": null,
      "outputs": []
    },
    {
      "cell_type": "code",
      "source": [
        "df1.to_excel('churn_modelling_xlsx.xlsx')"
      ],
      "metadata": {
        "id": "1vLmLSx-WBW0"
      },
      "execution_count": null,
      "outputs": []
    },
    {
      "cell_type": "code",
      "source": [
        "!pip install xlwt\n",
        "import xlwt\n",
        "df1.to_excel('churn_modelling_xls.xls')"
      ],
      "metadata": {
        "colab": {
          "base_uri": "https://localhost:8080/"
        },
        "id": "HWueJI63WL8z",
        "outputId": "a9b81d7a-29ee-4155-c75c-437299e86dae"
      },
      "execution_count": null,
      "outputs": [
        {
          "output_type": "stream",
          "name": "stdout",
          "text": [
            "Looking in indexes: https://pypi.org/simple, https://us-python.pkg.dev/colab-wheels/public/simple/\n",
            "Requirement already satisfied: xlwt in /usr/local/lib/python3.10/dist-packages (1.3.0)\n"
          ]
        },
        {
          "output_type": "stream",
          "name": "stderr",
          "text": [
            "<ipython-input-32-957ccbfcdb8a>:3: FutureWarning: As the xlwt package is no longer maintained, the xlwt engine will be removed in a future version of pandas. This is the only engine in pandas that supports writing in the xls format. Install openpyxl and write to an xlsx file instead. You can set the option io.excel.xls.writer to 'xlwt' to silence this warning. While this option is deprecated and will also raise a warning, it can be globally set and the warning suppressed.\n",
            "  df1.to_excel('churn_modelling_xls.xls')\n"
          ]
        }
      ]
    },
    {
      "cell_type": "code",
      "source": [
        "df1.to_json('churn_modelling_json.json')"
      ],
      "metadata": {
        "id": "wvvT9ss0XP1-"
      },
      "execution_count": null,
      "outputs": []
    },
    {
      "cell_type": "code",
      "source": [
        "df1.to_xml('churn_modelling_xml.xml')"
      ],
      "metadata": {
        "id": "xgK3Z0G0ZBX1"
      },
      "execution_count": null,
      "outputs": []
    },
    {
      "cell_type": "markdown",
      "source": [
        "# Python Pandas Series"
      ],
      "metadata": {
        "id": "2UxJ-gyGK3PL"
      }
    },
    {
      "cell_type": "code",
      "source": [
        "import pandas as pd\n",
        "\n",
        "lst1 = [21,32,43,54,65,76,87,98,9,10]\n",
        "ser1 = pd.Series(lst1)\n",
        "print(ser1)\n",
        "print(type(ser1))\n",
        "ser1.ndim, ser1.shape, ser1.size"
      ],
      "metadata": {
        "colab": {
          "base_uri": "https://localhost:8080/"
        },
        "id": "OSJf8jC0F5Lc",
        "outputId": "3b666fee-91a6-4ac3-cffb-c77531397633"
      },
      "execution_count": null,
      "outputs": [
        {
          "output_type": "stream",
          "name": "stdout",
          "text": [
            "0    21\n",
            "1    32\n",
            "2    43\n",
            "3    54\n",
            "4    65\n",
            "5    76\n",
            "6    87\n",
            "7    98\n",
            "8     9\n",
            "9    10\n",
            "dtype: int64\n",
            "<class 'pandas.core.series.Series'>\n"
          ]
        },
        {
          "output_type": "execute_result",
          "data": {
            "text/plain": [
              "(1, (10,), 10)"
            ]
          },
          "metadata": {},
          "execution_count": 2
        }
      ]
    },
    {
      "cell_type": "code",
      "source": [
        "tup1 = ('a','b','c','d','e','f','g','h','i','j')\n",
        "ser2 = pd.Series(tup1)\n",
        "print(ser2)\n",
        "print(type(ser2))\n",
        "ser2.ndim, ser2.shape, ser2.size"
      ],
      "metadata": {
        "colab": {
          "base_uri": "https://localhost:8080/"
        },
        "id": "fzYi3vMwOzhh",
        "outputId": "ae8a8392-7154-471b-a7c3-7bb5b3bc844b"
      },
      "execution_count": null,
      "outputs": [
        {
          "output_type": "stream",
          "name": "stdout",
          "text": [
            "0    a\n",
            "1    b\n",
            "2    c\n",
            "3    d\n",
            "4    e\n",
            "5    f\n",
            "6    g\n",
            "7    h\n",
            "8    i\n",
            "9    j\n",
            "dtype: object\n",
            "<class 'pandas.core.series.Series'>\n"
          ]
        },
        {
          "output_type": "execute_result",
          "data": {
            "text/plain": [
              "(1, (10,), 10)"
            ]
          },
          "metadata": {},
          "execution_count": 3
        }
      ]
    },
    {
      "cell_type": "code",
      "source": [
        "set1 = {1,2,3,4,5,6,7,8,9,0}\n",
        "ser3 = pd.Series(set1)"
      ],
      "metadata": {
        "colab": {
          "base_uri": "https://localhost:8080/",
          "height": 341
        },
        "id": "Hjl-0FPiPYck",
        "outputId": "dcc65b33-825f-4348-9099-ef0dfb360180"
      },
      "execution_count": null,
      "outputs": [
        {
          "output_type": "error",
          "ename": "TypeError",
          "evalue": "ignored",
          "traceback": [
            "\u001b[0;31m---------------------------------------------------------------------------\u001b[0m",
            "\u001b[0;31mTypeError\u001b[0m                                 Traceback (most recent call last)",
            "\u001b[0;32m<ipython-input-4-6f3d5613d82c>\u001b[0m in \u001b[0;36m<cell line: 2>\u001b[0;34m()\u001b[0m\n\u001b[1;32m      1\u001b[0m \u001b[0mset1\u001b[0m \u001b[0;34m=\u001b[0m \u001b[0;34m{\u001b[0m\u001b[0;36m1\u001b[0m\u001b[0;34m,\u001b[0m\u001b[0;36m2\u001b[0m\u001b[0;34m,\u001b[0m\u001b[0;36m3\u001b[0m\u001b[0;34m,\u001b[0m\u001b[0;36m4\u001b[0m\u001b[0;34m,\u001b[0m\u001b[0;36m5\u001b[0m\u001b[0;34m,\u001b[0m\u001b[0;36m6\u001b[0m\u001b[0;34m,\u001b[0m\u001b[0;36m7\u001b[0m\u001b[0;34m,\u001b[0m\u001b[0;36m8\u001b[0m\u001b[0;34m,\u001b[0m\u001b[0;36m9\u001b[0m\u001b[0;34m,\u001b[0m\u001b[0;36m0\u001b[0m\u001b[0;34m}\u001b[0m\u001b[0;34m\u001b[0m\u001b[0;34m\u001b[0m\u001b[0m\n\u001b[0;32m----> 2\u001b[0;31m \u001b[0mser3\u001b[0m \u001b[0;34m=\u001b[0m \u001b[0mpd\u001b[0m\u001b[0;34m.\u001b[0m\u001b[0mSeries\u001b[0m\u001b[0;34m(\u001b[0m\u001b[0mset1\u001b[0m\u001b[0;34m)\u001b[0m\u001b[0;34m\u001b[0m\u001b[0;34m\u001b[0m\u001b[0m\n\u001b[0m",
            "\u001b[0;32m/usr/local/lib/python3.10/dist-packages/pandas/core/series.py\u001b[0m in \u001b[0;36m__init__\u001b[0;34m(self, data, index, dtype, name, copy, fastpath)\u001b[0m\n\u001b[1;32m    468\u001b[0m                     \u001b[0mdata\u001b[0m \u001b[0;34m=\u001b[0m \u001b[0mdata\u001b[0m\u001b[0;34m.\u001b[0m\u001b[0mcopy\u001b[0m\u001b[0;34m(\u001b[0m\u001b[0;34m)\u001b[0m\u001b[0;34m\u001b[0m\u001b[0;34m\u001b[0m\u001b[0m\n\u001b[1;32m    469\u001b[0m             \u001b[0;32melse\u001b[0m\u001b[0;34m:\u001b[0m\u001b[0;34m\u001b[0m\u001b[0;34m\u001b[0m\u001b[0m\n\u001b[0;32m--> 470\u001b[0;31m                 \u001b[0mdata\u001b[0m \u001b[0;34m=\u001b[0m \u001b[0msanitize_array\u001b[0m\u001b[0;34m(\u001b[0m\u001b[0mdata\u001b[0m\u001b[0;34m,\u001b[0m \u001b[0mindex\u001b[0m\u001b[0;34m,\u001b[0m \u001b[0mdtype\u001b[0m\u001b[0;34m,\u001b[0m \u001b[0mcopy\u001b[0m\u001b[0;34m)\u001b[0m\u001b[0;34m\u001b[0m\u001b[0;34m\u001b[0m\u001b[0m\n\u001b[0m\u001b[1;32m    471\u001b[0m \u001b[0;34m\u001b[0m\u001b[0m\n\u001b[1;32m    472\u001b[0m                 \u001b[0mmanager\u001b[0m \u001b[0;34m=\u001b[0m \u001b[0mget_option\u001b[0m\u001b[0;34m(\u001b[0m\u001b[0;34m\"mode.data_manager\"\u001b[0m\u001b[0;34m)\u001b[0m\u001b[0;34m\u001b[0m\u001b[0;34m\u001b[0m\u001b[0m\n",
            "\u001b[0;32m/usr/local/lib/python3.10/dist-packages/pandas/core/construction.py\u001b[0m in \u001b[0;36msanitize_array\u001b[0;34m(data, index, dtype, copy, raise_cast_failure, allow_2d)\u001b[0m\n\u001b[1;32m    609\u001b[0m         \u001b[0;32mif\u001b[0m \u001b[0misinstance\u001b[0m\u001b[0;34m(\u001b[0m\u001b[0mdata\u001b[0m\u001b[0;34m,\u001b[0m \u001b[0;34m(\u001b[0m\u001b[0mset\u001b[0m\u001b[0;34m,\u001b[0m \u001b[0mfrozenset\u001b[0m\u001b[0;34m)\u001b[0m\u001b[0;34m)\u001b[0m\u001b[0;34m:\u001b[0m\u001b[0;34m\u001b[0m\u001b[0;34m\u001b[0m\u001b[0m\n\u001b[1;32m    610\u001b[0m             \u001b[0;31m# Raise only for unordered sets, e.g., not for dict_keys\u001b[0m\u001b[0;34m\u001b[0m\u001b[0;34m\u001b[0m\u001b[0m\n\u001b[0;32m--> 611\u001b[0;31m             \u001b[0;32mraise\u001b[0m \u001b[0mTypeError\u001b[0m\u001b[0;34m(\u001b[0m\u001b[0;34mf\"'{type(data).__name__}' type is unordered\"\u001b[0m\u001b[0;34m)\u001b[0m\u001b[0;34m\u001b[0m\u001b[0;34m\u001b[0m\u001b[0m\n\u001b[0m\u001b[1;32m    612\u001b[0m \u001b[0;34m\u001b[0m\u001b[0m\n\u001b[1;32m    613\u001b[0m         \u001b[0;31m# materialize e.g. generators, convert e.g. tuples, abc.ValueView\u001b[0m\u001b[0;34m\u001b[0m\u001b[0;34m\u001b[0m\u001b[0m\n",
            "\u001b[0;31mTypeError\u001b[0m: 'set' type is unordered"
          ]
        }
      ]
    },
    {
      "cell_type": "code",
      "source": [
        "dict1 = {'a':'b','c':'d','e':'f','g':'h','i':'j'}\n",
        "ser4 = pd.Series(dict1)\n",
        "print(ser4)\n",
        "print(type(ser4))\n",
        "ser4.dtypes, ser4.shape, ser4.size, ser4.ndim"
      ],
      "metadata": {
        "colab": {
          "base_uri": "https://localhost:8080/"
        },
        "id": "cbl2DX2BT48r",
        "outputId": "71b06b6c-911c-4947-f1c6-daed73cb45e3"
      },
      "execution_count": null,
      "outputs": [
        {
          "output_type": "stream",
          "name": "stdout",
          "text": [
            "a    b\n",
            "c    d\n",
            "e    f\n",
            "g    h\n",
            "i    j\n",
            "dtype: object\n",
            "<class 'pandas.core.series.Series'>\n"
          ]
        },
        {
          "output_type": "execute_result",
          "data": {
            "text/plain": [
              "(dtype('O'), (5,), 5, 1)"
            ]
          },
          "metadata": {},
          "execution_count": 5
        }
      ]
    },
    {
      "cell_type": "code",
      "source": [
        "str1 = 'Python Programming'\n",
        "ser5 = pd.Series(str1)\n",
        "print(ser5)\n",
        "print(type(ser5))\n",
        "ser5.ndim, ser5.dtypes, ser5.shape, ser5.size"
      ],
      "metadata": {
        "colab": {
          "base_uri": "https://localhost:8080/"
        },
        "id": "3zg-IZTOSj0l",
        "outputId": "3db80fd7-4060-4554-d616-0b05d7afa23e"
      },
      "execution_count": null,
      "outputs": [
        {
          "output_type": "stream",
          "name": "stdout",
          "text": [
            "0    Python Programming\n",
            "dtype: object\n",
            "<class 'pandas.core.series.Series'>\n"
          ]
        },
        {
          "output_type": "execute_result",
          "data": {
            "text/plain": [
              "(1, dtype('O'), (1,), 1)"
            ]
          },
          "metadata": {},
          "execution_count": 6
        }
      ]
    },
    {
      "cell_type": "code",
      "source": [
        "ser1.dtypes, ser2.dtypes, ser4.dtypes, ser5.dtypes"
      ],
      "metadata": {
        "colab": {
          "base_uri": "https://localhost:8080/"
        },
        "id": "FfpxlmrRTwTS",
        "outputId": "39e35430-64cd-46bc-f26a-0df7335c7520"
      },
      "execution_count": null,
      "outputs": [
        {
          "output_type": "execute_result",
          "data": {
            "text/plain": [
              "(dtype('int64'), dtype('O'), dtype('O'), dtype('O'))"
            ]
          },
          "metadata": {},
          "execution_count": 7
        }
      ]
    },
    {
      "cell_type": "code",
      "source": [
        "ser1.shape, ser2.shape, ser4.shape, ser5.shape"
      ],
      "metadata": {
        "colab": {
          "base_uri": "https://localhost:8080/"
        },
        "id": "ai6d5b6rUlg5",
        "outputId": "9beb2e57-9d78-452e-8856-6c9f3370cd4a"
      },
      "execution_count": null,
      "outputs": [
        {
          "output_type": "execute_result",
          "data": {
            "text/plain": [
              "((10,), (10,), (5,), (1,))"
            ]
          },
          "metadata": {},
          "execution_count": 8
        }
      ]
    },
    {
      "cell_type": "code",
      "source": [
        "ser1.size, ser2.size, ser4.size, ser5.size"
      ],
      "metadata": {
        "colab": {
          "base_uri": "https://localhost:8080/"
        },
        "id": "-0MZDv_nUupQ",
        "outputId": "c955625b-102e-404f-d4e6-aac712033e7e"
      },
      "execution_count": null,
      "outputs": [
        {
          "output_type": "execute_result",
          "data": {
            "text/plain": [
              "(10, 10, 5, 1)"
            ]
          },
          "metadata": {},
          "execution_count": 9
        }
      ]
    },
    {
      "cell_type": "code",
      "source": [
        "# Series.itemsize is deprecated and will be removed in a future version\n",
        "ser1.itemsize, ser2.itemsize, ser4.itemsize, ser5.itemsize"
      ],
      "metadata": {
        "colab": {
          "base_uri": "https://localhost:8080/",
          "height": 287
        },
        "id": "QX4rP4YlU2Pw",
        "outputId": "ff233c71-57eb-4a48-db0f-b95cf7a8c6e6"
      },
      "execution_count": null,
      "outputs": [
        {
          "output_type": "error",
          "ename": "AttributeError",
          "evalue": "ignored",
          "traceback": [
            "\u001b[0;31m---------------------------------------------------------------------------\u001b[0m",
            "\u001b[0;31mAttributeError\u001b[0m                            Traceback (most recent call last)",
            "\u001b[0;32m<ipython-input-16-e8d9dbd07184>\u001b[0m in \u001b[0;36m<cell line: 1>\u001b[0;34m()\u001b[0m\n\u001b[0;32m----> 1\u001b[0;31m \u001b[0mser1\u001b[0m\u001b[0;34m.\u001b[0m\u001b[0mitemsize\u001b[0m\u001b[0;34m,\u001b[0m \u001b[0mser2\u001b[0m\u001b[0;34m.\u001b[0m\u001b[0mitemsize\u001b[0m\u001b[0;34m,\u001b[0m \u001b[0mser4\u001b[0m\u001b[0;34m.\u001b[0m\u001b[0mitemsize\u001b[0m\u001b[0;34m,\u001b[0m \u001b[0mser5\u001b[0m\u001b[0;34m.\u001b[0m\u001b[0mitemsize\u001b[0m\u001b[0;34m\u001b[0m\u001b[0;34m\u001b[0m\u001b[0m\n\u001b[0m",
            "\u001b[0;32m/usr/local/lib/python3.10/dist-packages/pandas/core/generic.py\u001b[0m in \u001b[0;36m__getattr__\u001b[0;34m(self, name)\u001b[0m\n\u001b[1;32m   5900\u001b[0m         ):\n\u001b[1;32m   5901\u001b[0m             \u001b[0;32mreturn\u001b[0m \u001b[0mself\u001b[0m\u001b[0;34m[\u001b[0m\u001b[0mname\u001b[0m\u001b[0;34m]\u001b[0m\u001b[0;34m\u001b[0m\u001b[0;34m\u001b[0m\u001b[0m\n\u001b[0;32m-> 5902\u001b[0;31m         \u001b[0;32mreturn\u001b[0m \u001b[0mobject\u001b[0m\u001b[0;34m.\u001b[0m\u001b[0m__getattribute__\u001b[0m\u001b[0;34m(\u001b[0m\u001b[0mself\u001b[0m\u001b[0;34m,\u001b[0m \u001b[0mname\u001b[0m\u001b[0;34m)\u001b[0m\u001b[0;34m\u001b[0m\u001b[0;34m\u001b[0m\u001b[0m\n\u001b[0m\u001b[1;32m   5903\u001b[0m \u001b[0;34m\u001b[0m\u001b[0m\n\u001b[1;32m   5904\u001b[0m     \u001b[0;32mdef\u001b[0m \u001b[0m__setattr__\u001b[0m\u001b[0;34m(\u001b[0m\u001b[0mself\u001b[0m\u001b[0;34m,\u001b[0m \u001b[0mname\u001b[0m\u001b[0;34m:\u001b[0m \u001b[0mstr\u001b[0m\u001b[0;34m,\u001b[0m \u001b[0mvalue\u001b[0m\u001b[0;34m)\u001b[0m \u001b[0;34m->\u001b[0m \u001b[0;32mNone\u001b[0m\u001b[0;34m:\u001b[0m\u001b[0;34m\u001b[0m\u001b[0;34m\u001b[0m\u001b[0m\n",
            "\u001b[0;31mAttributeError\u001b[0m: 'Series' object has no attribute 'itemsize'"
          ]
        }
      ]
    },
    {
      "cell_type": "code",
      "source": [
        "ser1.nbytes, ser2.nbytes, ser4.nbytes, ser5.nbytes"
      ],
      "metadata": {
        "colab": {
          "base_uri": "https://localhost:8080/"
        },
        "id": "xWVByWumVN_y",
        "outputId": "f1a074c7-d432-41d3-b18e-261738c1654f"
      },
      "execution_count": null,
      "outputs": [
        {
          "output_type": "execute_result",
          "data": {
            "text/plain": [
              "(80, 80, 40, 8)"
            ]
          },
          "metadata": {},
          "execution_count": 10
        }
      ]
    },
    {
      "cell_type": "code",
      "source": [
        "ser1.ndim, ser2.ndim, ser4.ndim, ser5.ndim"
      ],
      "metadata": {
        "colab": {
          "base_uri": "https://localhost:8080/"
        },
        "id": "9t1aqPobVdY4",
        "outputId": "fb6ce3ca-db53-4c15-ae2a-258323721397"
      },
      "execution_count": null,
      "outputs": [
        {
          "output_type": "execute_result",
          "data": {
            "text/plain": [
              "(1, 1, 1, 1)"
            ]
          },
          "metadata": {},
          "execution_count": 18
        }
      ]
    },
    {
      "cell_type": "code",
      "source": [
        "ser1.count(), ser2.count(), ser4.count(), ser5.count()"
      ],
      "metadata": {
        "colab": {
          "base_uri": "https://localhost:8080/"
        },
        "id": "C0_OA3dVVpwg",
        "outputId": "1f322840-9517-4e31-a831-4b4558947b76"
      },
      "execution_count": null,
      "outputs": [
        {
          "output_type": "execute_result",
          "data": {
            "text/plain": [
              "(10, 10, 5, 1)"
            ]
          },
          "metadata": {},
          "execution_count": 11
        }
      ]
    },
    {
      "cell_type": "code",
      "source": [
        "len(ser1), len(ser2), len(ser4), len(ser5), len(str1)"
      ],
      "metadata": {
        "colab": {
          "base_uri": "https://localhost:8080/"
        },
        "id": "5BT2iOM9V2gC",
        "outputId": "352898dd-e7ff-4862-e496-a7315b344416"
      },
      "execution_count": null,
      "outputs": [
        {
          "output_type": "execute_result",
          "data": {
            "text/plain": [
              "(10, 10, 5, 1, 18)"
            ]
          },
          "metadata": {},
          "execution_count": 12
        }
      ]
    },
    {
      "cell_type": "code",
      "source": [
        "ser1, lst1"
      ],
      "metadata": {
        "colab": {
          "base_uri": "https://localhost:8080/"
        },
        "id": "I90ePpBwWybw",
        "outputId": "6c5aad4a-6cc4-4d2f-d756-4d5752027a4a"
      },
      "execution_count": null,
      "outputs": [
        {
          "output_type": "execute_result",
          "data": {
            "text/plain": [
              "(0    21\n",
              " 1    32\n",
              " 2    43\n",
              " 3    54\n",
              " 4    65\n",
              " 5    76\n",
              " 6    87\n",
              " 7    98\n",
              " 8     9\n",
              " 9    10\n",
              " dtype: int64,\n",
              " [21, 32, 43, 54, 65, 76, 87, 98, 9, 10])"
            ]
          },
          "metadata": {},
          "execution_count": 23
        }
      ]
    },
    {
      "cell_type": "code",
      "source": [
        "ser6 = pd.Series(lst1, index=[11,22,33,44,55,66,77,88,99,110])\n",
        "print(ser6)\n",
        "print(type(ser6))\n",
        "ser6.ndim, ser6.size , ser6.nbytes , ser6.shape , len(ser6) , ser6.count() , ser6.dtypes  "
      ],
      "metadata": {
        "colab": {
          "base_uri": "https://localhost:8080/"
        },
        "id": "efAgWbfOW_Ef",
        "outputId": "fe128c71-0c29-4f10-8897-04eb332bc268"
      },
      "execution_count": null,
      "outputs": [
        {
          "output_type": "stream",
          "name": "stdout",
          "text": [
            "11     21\n",
            "22     32\n",
            "33     43\n",
            "44     54\n",
            "55     65\n",
            "66     76\n",
            "77     87\n",
            "88     98\n",
            "99      9\n",
            "110    10\n",
            "dtype: int64\n",
            "<class 'pandas.core.series.Series'>\n"
          ]
        },
        {
          "output_type": "execute_result",
          "data": {
            "text/plain": [
              "(1, 10, 80, (10,), 10, 10, dtype('int64'))"
            ]
          },
          "metadata": {},
          "execution_count": 25
        }
      ]
    },
    {
      "cell_type": "code",
      "source": [
        "ser6"
      ],
      "metadata": {
        "colab": {
          "base_uri": "https://localhost:8080/"
        },
        "id": "2coZJEg9Zivh",
        "outputId": "097d316d-7cb0-452b-9d50-10091ff65f41"
      },
      "execution_count": null,
      "outputs": [
        {
          "output_type": "execute_result",
          "data": {
            "text/plain": [
              "11     21\n",
              "22     32\n",
              "33     43\n",
              "44     54\n",
              "55     65\n",
              "66     76\n",
              "77     87\n",
              "88     98\n",
              "99      9\n",
              "110    10\n",
              "dtype: int64"
            ]
          },
          "metadata": {},
          "execution_count": 26
        }
      ]
    },
    {
      "cell_type": "code",
      "source": [
        "ser6.index = ['a','b','c','d','e','f','g','h', 'i', 'j']"
      ],
      "metadata": {
        "id": "X9hRu1tiZkeJ"
      },
      "execution_count": null,
      "outputs": []
    },
    {
      "cell_type": "code",
      "source": [
        "ser6"
      ],
      "metadata": {
        "colab": {
          "base_uri": "https://localhost:8080/"
        },
        "id": "kMvmYoDTZxe1",
        "outputId": "9da14acf-fbb2-4e56-c578-81a5912b6ac5"
      },
      "execution_count": null,
      "outputs": [
        {
          "output_type": "execute_result",
          "data": {
            "text/plain": [
              "a    21\n",
              "b    32\n",
              "c    43\n",
              "d    54\n",
              "e    65\n",
              "f    76\n",
              "g    87\n",
              "h    98\n",
              "i     9\n",
              "j    10\n",
              "dtype: int64"
            ]
          },
          "metadata": {},
          "execution_count": 28
        }
      ]
    },
    {
      "cell_type": "code",
      "source": [
        "ser6, ser6[:], ser6[:5], ser6[3:7]"
      ],
      "metadata": {
        "colab": {
          "base_uri": "https://localhost:8080/"
        },
        "id": "EvixeiM2fDvX",
        "outputId": "9bfdc461-36ea-4fc6-dcc8-2d6e8e20936c"
      },
      "execution_count": null,
      "outputs": [
        {
          "output_type": "execute_result",
          "data": {
            "text/plain": [
              "(a    21\n",
              " b    32\n",
              " c    43\n",
              " d    54\n",
              " e    65\n",
              " f    76\n",
              " g    87\n",
              " h    98\n",
              " i     9\n",
              " j    10\n",
              " dtype: int64,\n",
              " a    21\n",
              " b    32\n",
              " c    43\n",
              " d    54\n",
              " e    65\n",
              " f    76\n",
              " g    87\n",
              " h    98\n",
              " i     9\n",
              " j    10\n",
              " dtype: int64,\n",
              " a    21\n",
              " b    32\n",
              " c    43\n",
              " d    54\n",
              " e    65\n",
              " dtype: int64,\n",
              " d    54\n",
              " e    65\n",
              " f    76\n",
              " g    87\n",
              " dtype: int64)"
            ]
          },
          "metadata": {},
          "execution_count": 34
        }
      ]
    },
    {
      "cell_type": "code",
      "source": [
        "ser6"
      ],
      "metadata": {
        "colab": {
          "base_uri": "https://localhost:8080/"
        },
        "id": "i_CJbpCKgg4e",
        "outputId": "25cb3732-095e-4a70-caf8-64c67e4efb58"
      },
      "execution_count": null,
      "outputs": [
        {
          "output_type": "execute_result",
          "data": {
            "text/plain": [
              "a    21\n",
              "b    32\n",
              "c    43\n",
              "d    54\n",
              "e    65\n",
              "f    76\n",
              "g    87\n",
              "h    98\n",
              "i     9\n",
              "j    10\n",
              "dtype: int64"
            ]
          },
          "metadata": {},
          "execution_count": 35
        }
      ]
    },
    {
      "cell_type": "code",
      "source": [
        "cp_ser6 = ser6.copy()"
      ],
      "metadata": {
        "id": "ApKbO7_ejWTa"
      },
      "execution_count": null,
      "outputs": []
    },
    {
      "cell_type": "code",
      "source": [
        "cp_ser6"
      ],
      "metadata": {
        "colab": {
          "base_uri": "https://localhost:8080/"
        },
        "id": "HqMuAx6vjcVo",
        "outputId": "28b3b6d1-6a1b-409d-bbf1-8e79e382ef54"
      },
      "execution_count": null,
      "outputs": [
        {
          "output_type": "execute_result",
          "data": {
            "text/plain": [
              "a    21\n",
              "b    32\n",
              "c    43\n",
              "d    54\n",
              "e    65\n",
              "f    76\n",
              "g    87\n",
              "h    98\n",
              "i     9\n",
              "j    10\n",
              "dtype: int64"
            ]
          },
          "metadata": {},
          "execution_count": 37
        }
      ]
    },
    {
      "cell_type": "code",
      "source": [
        "ser7 = cp_ser6.append(ser6)"
      ],
      "metadata": {
        "colab": {
          "base_uri": "https://localhost:8080/"
        },
        "id": "9twcWD5SjgnX",
        "outputId": "0c8f679b-bb96-4dec-b5a8-252c2b45f51c"
      },
      "execution_count": null,
      "outputs": [
        {
          "output_type": "stream",
          "name": "stderr",
          "text": [
            "<ipython-input-38-1113602d82b5>:1: FutureWarning: The series.append method is deprecated and will be removed from pandas in a future version. Use pandas.concat instead.\n",
            "  ser7 = cp_ser6.append(ser6)\n"
          ]
        }
      ]
    },
    {
      "cell_type": "code",
      "source": [
        "ser7"
      ],
      "metadata": {
        "colab": {
          "base_uri": "https://localhost:8080/"
        },
        "id": "qYY0MhUqjyH-",
        "outputId": "5c9501eb-d03d-4327-e298-738c925e7f59"
      },
      "execution_count": null,
      "outputs": [
        {
          "output_type": "execute_result",
          "data": {
            "text/plain": [
              "a    21\n",
              "b    32\n",
              "c    43\n",
              "d    54\n",
              "e    65\n",
              "f    76\n",
              "g    87\n",
              "h    98\n",
              "i     9\n",
              "j    10\n",
              "a    21\n",
              "b    32\n",
              "c    43\n",
              "d    54\n",
              "e    65\n",
              "f    76\n",
              "g    87\n",
              "h    98\n",
              "i     9\n",
              "j    10\n",
              "dtype: int64"
            ]
          },
          "metadata": {},
          "execution_count": 39
        }
      ]
    },
    {
      "cell_type": "code",
      "source": [
        "ser7.drop('j', inplace=True)\n",
        "ser7"
      ],
      "metadata": {
        "colab": {
          "base_uri": "https://localhost:8080/"
        },
        "id": "gocv4AWjj979",
        "outputId": "6152a02a-9cfe-4fb5-80ad-8908b39a498d"
      },
      "execution_count": null,
      "outputs": [
        {
          "output_type": "execute_result",
          "data": {
            "text/plain": [
              "a    21\n",
              "b    32\n",
              "c    43\n",
              "d    54\n",
              "e    65\n",
              "f    76\n",
              "g    87\n",
              "h    98\n",
              "i     9\n",
              "a    21\n",
              "b    32\n",
              "c    43\n",
              "d    54\n",
              "e    65\n",
              "f    76\n",
              "g    87\n",
              "h    98\n",
              "i     9\n",
              "dtype: int64"
            ]
          },
          "metadata": {},
          "execution_count": 41
        }
      ]
    },
    {
      "cell_type": "code",
      "source": [
        "ser6.mean()"
      ],
      "metadata": {
        "colab": {
          "base_uri": "https://localhost:8080/"
        },
        "id": "_b0G_xBqmTNs",
        "outputId": "589beeb4-f287-422b-a30b-b9948595d514"
      },
      "execution_count": null,
      "outputs": [
        {
          "output_type": "execute_result",
          "data": {
            "text/plain": [
              "49.5"
            ]
          },
          "metadata": {},
          "execution_count": 42
        }
      ]
    },
    {
      "cell_type": "code",
      "source": [
        "ser6.median()"
      ],
      "metadata": {
        "colab": {
          "base_uri": "https://localhost:8080/"
        },
        "id": "-VSK-MX6mdrF",
        "outputId": "f4ac9093-2140-44e9-9d8e-9c8de6822312"
      },
      "execution_count": null,
      "outputs": [
        {
          "output_type": "execute_result",
          "data": {
            "text/plain": [
              "48.5"
            ]
          },
          "metadata": {},
          "execution_count": 43
        }
      ]
    },
    {
      "cell_type": "code",
      "source": [
        "ser6.mode()"
      ],
      "metadata": {
        "id": "OwxfoNH9mhwl",
        "outputId": "345a1ad6-42eb-49dd-a783-6a8b785b4660",
        "colab": {
          "base_uri": "https://localhost:8080/"
        }
      },
      "execution_count": null,
      "outputs": [
        {
          "output_type": "execute_result",
          "data": {
            "text/plain": [
              "0     9\n",
              "1    10\n",
              "2    21\n",
              "3    32\n",
              "4    43\n",
              "5    54\n",
              "6    65\n",
              "7    76\n",
              "8    87\n",
              "9    98\n",
              "dtype: int64"
            ]
          },
          "metadata": {},
          "execution_count": 44
        }
      ]
    }
  ]
}