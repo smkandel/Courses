{
  "nbformat": 4,
  "nbformat_minor": 0,
  "metadata": {
    "colab": {
      "provenance": [],
      "authorship_tag": "ABX9TyNUifb1eZyKdKdLn4J/1nsl",
      "include_colab_link": true
    },
    "kernelspec": {
      "name": "python3",
      "display_name": "Python 3"
    },
    "language_info": {
      "name": "python"
    }
  },
  "cells": [
    {
      "cell_type": "markdown",
      "metadata": {
        "id": "view-in-github",
        "colab_type": "text"
      },
      "source": [
        "<a href=\"https://colab.research.google.com/github/smkandel/Courses/blob/main/Week4_parctice.ipynb\" target=\"_parent\"><img src=\"https://colab.research.google.com/assets/colab-badge.svg\" alt=\"Open In Colab\"/></a>"
      ]
    },
    {
      "cell_type": "code",
      "execution_count": null,
      "metadata": {
        "colab": {
          "base_uri": "https://localhost:8080/"
        },
        "id": "IYgrrZO39-P4",
        "outputId": "1699db05-1f0d-4c6a-a280-4c3a04c4e1a9"
      },
      "outputs": [
        {
          "output_type": "stream",
          "name": "stdout",
          "text": [
            "Enter a colorblack\n",
            "Exception occured: Invalid color combination\n"
          ]
        }
      ],
      "source": [
        "class InvalidColour(Exception):\n",
        "  \"raised when the input value is less than 7\"\n",
        "  pass\n",
        "\n",
        "colors= ['red','green','blue','yellow','violet','orange','indigo']\n",
        "\n",
        "try:\n",
        "  input_color=input(\"Enter a color\")\n",
        "  if input_color not in colors:\n",
        "    raise InvalidColour\n",
        "  else:\n",
        "    print('Perfect Rainbow')\n",
        "\n",
        "except InvalidColour:\n",
        "  print('Exception occured: Invalid color combination')        \n"
      ]
    },
    {
      "cell_type": "code",
      "source": [
        "class InvalidConsonant(Exception):\n",
        "  \"raised when input is vowel\"\n",
        "  pass\n",
        "\n",
        "letters=['a','e','i','o','u']\n",
        "\n",
        "try:\n",
        "  input_letter=input('Enter a letter')\n",
        "  if input_letter in letters:\n",
        "    raise InvalidConsonant\n",
        "  else:\n",
        "    print('The letter is consonant')  \n",
        "\n",
        "except InvalidConsonant:\n",
        "  print('Exception occured: Invalid letter combination')    "
      ],
      "metadata": {
        "colab": {
          "base_uri": "https://localhost:8080/"
        },
        "id": "MDtd_GWsGY4j",
        "outputId": "114058dc-a87c-4854-ef4d-e96ac897cba7"
      },
      "execution_count": null,
      "outputs": [
        {
          "output_type": "stream",
          "name": "stdout",
          "text": [
            "Enter a letterh\n",
            "The letter is consonant\n"
          ]
        }
      ]
    },
    {
      "cell_type": "code",
      "source": [
        "class Invalidage(Exception):\n",
        "  'raised when age is not valid'\n",
        "  pass\n",
        "class Invalidgender(Exception):\n",
        "  'raised when gender is not valid'\n",
        "class Invalidheight(Exception):\n",
        "  'raised when height is not valid'\n",
        "class Invalidweight(Exception):\n",
        "  'raised when weight is not valid'\n",
        "class Invalidnationality(Exception):\n",
        "  'raised when nationality is not valid'    \n",
        "\n",
        "\n",
        "\n",
        "try:\n",
        "  input_age=int(input('Enter a number'))\n",
        "  if input_age:\n",
        "    raise InvalidInformation\n",
        "  else:\n",
        "    print('This informatin is valid')  \n",
        "except InvalidInformation:\n",
        "  print('Exception occured: Invalid information')  \n",
        "\n",
        "\n"
      ],
      "metadata": {
        "colab": {
          "base_uri": "https://localhost:8080/"
        },
        "id": "YpzVgtBxPJj8",
        "outputId": "f8a261bc-58a0-48d0-fa8c-e6bbdfd2738e"
      },
      "execution_count": null,
      "outputs": [
        {
          "output_type": "stream",
          "name": "stdout",
          "text": [
            "Enter a number20\n",
            "Exception occured: Invalid information\n"
          ]
        }
      ]
    },
    {
      "cell_type": "code",
      "source": [
        "#Write a Python program to create a Vehicle class with max_speed and mileage instance attributes.\n",
        "\n",
        "class Vehicle:\n",
        "  def __init__(self,max_speed,milage):\n",
        "    self.max_speed=max_speed\n",
        "    self.milage=milage\n",
        "    \n",
        "  def print_info(self):\n",
        "    print(\"max_speed:\", self.max_speed, \"milage:\", self.milage)\n",
        "   \n",
        "\n",
        "a1=Vehicle(80, 35)\n",
        "a1.print_info()"
      ],
      "metadata": {
        "colab": {
          "base_uri": "https://localhost:8080/"
        },
        "id": "ox-betisczoX",
        "outputId": "c8b154a9-da81-4e87-9b7b-5f282cb3d85a"
      },
      "execution_count": null,
      "outputs": [
        {
          "output_type": "stream",
          "name": "stdout",
          "text": [
            "max_speed: 80 milage: 35\n"
          ]
        }
      ]
    },
    {
      "cell_type": "code",
      "source": [
        "#Create a child class Bus that will inherit all of the variables and methods of the Vehicle class\n",
        "\n",
        "class Vehicle:\n",
        "  def __init__(self,max_speed,milage):\n",
        "    self.max_speed=max_speed\n",
        "    self.milage=milage\n",
        "  def print_info(self):\n",
        "    print(\"max_speed:\", self.max_speed, \"milage:\", self.milage)\n",
        "\n",
        "class Bus(Vehicle):\n",
        " print(\"Buss class\")\n",
        "\n",
        "Bus=Bus(80,350)\n",
        "Bus.print_info() \n"
      ],
      "metadata": {
        "colab": {
          "base_uri": "https://localhost:8080/"
        },
        "id": "dKJA2KMfesyG",
        "outputId": "03af89f6-7151-49c7-a789-2e2bd88106bf"
      },
      "execution_count": null,
      "outputs": [
        {
          "output_type": "stream",
          "name": "stdout",
          "text": [
            "Buss class\n",
            "max_speed: 80 milage: 350\n"
          ]
        }
      ]
    },
    {
      "cell_type": "code",
      "source": [
        "#Create a Bus class that inherits from the Vehicle class. Give the capacity argument of Bus.seating_capacity() a default value of 50.\n",
        "\n",
        "class Vehicle:\n",
        "  def __init__(self,max_speed,milage):\n",
        "    self.max_speed=max_speed\n",
        "    self.milage=milage\n",
        "  def print_info(self):\n",
        "    print(\"max_speed:\", self.max_speed, \"milage:\", self.milage)\n",
        "\n",
        "class Bus(Vehicle):\n",
        "  def __init__(self,max_speed,milage,capacity):\n",
        "    capacity=50\n",
        "    super().__init__(max_speed, milage)\n",
        "    self.capacity=capacity\n",
        "  def seating_capacity(self):\n",
        "    print('seating capacity is:', self.capacity)  \n",
        "\n",
        "Bus=Bus(80,350,50)\n",
        "Bus.print_info()\n",
        "Bus.seating_capacity() \n",
        "\n",
        "Bus.capacity=100\n",
        "Bus.seating_capacity()\n",
        "\n",
        "\n"
      ],
      "metadata": {
        "colab": {
          "base_uri": "https://localhost:8080/"
        },
        "id": "cdaenXxQeskW",
        "outputId": "b8e046d5-df97-4fae-c286-e22f4a1698ee"
      },
      "execution_count": null,
      "outputs": [
        {
          "output_type": "stream",
          "name": "stdout",
          "text": [
            "max_speed: 80 milage: 350\n",
            "seating capacity is: 50\n",
            "seating capacity is: 100\n"
          ]
        }
      ]
    },
    {
      "cell_type": "code",
      "source": [
        "# Write a Python class Employee with attributes like emp_id, emp_name, emp_salary, and emp_department and methods like calculate_emp_salary, emp_assign_department, and print_employee_details.\n",
        "\n",
        "# Use 'assign_department' method to change the department of an employee.\n",
        "\n",
        "# Use 'print_employee_details' method to print the details of an employee.\n",
        "\n",
        "# Use 'calculate_emp_salary' method takes two arguments: salary and hours_worked, which is the number of hours worked by the employee."
      ],
      "metadata": {
        "id": "9TUDs7gfj_ZJ"
      },
      "execution_count": null,
      "outputs": []
    },
    {
      "cell_type": "code",
      "source": [
        "class Employee:\n",
        "  def __init__(self, emp_id, emp_name, emp_salary, emp_department):\n",
        "    self.emp_id=emp_id\n",
        "    self.emp_name=emp_name\n",
        "    self.emp_salary=emp_salary\n",
        "    self.emp_department=emp_department\n",
        "  \n",
        "  def assign_department(self,emp_department):\n",
        "    self.department=emp_department\n",
        "    \n",
        "  \n",
        "  def calculate_emp_salary(self, salary, hours_worked):\n",
        "    salary_per_hour=45\n",
        "    hours_worked=20\n",
        "    self.salary=salary_per_hour*hours_worked\n",
        "\n",
        "  def print_employee_details(self):\n",
        "    print('emp_id:', self.emp_id, 'emp_name:', self.emp_name, 'emp_salary:', self.emp_salary, 'emp_department:', self.emp_department )  \n",
        "\n",
        "employee1=Employee('ID1', 'JOHN', '45000','IT') \n",
        "employee1.print_employee_details()\n",
        "\n",
        "employee1.assign_department('Data Scientist')\n",
        "print('Updated Employee Details:')"
      ],
      "metadata": {
        "colab": {
          "base_uri": "https://localhost:8080/"
        },
        "id": "yv-0WyC2km7e",
        "outputId": "2306d20b-4fec-4735-9356-dd8abf85169e"
      },
      "execution_count": null,
      "outputs": [
        {
          "output_type": "stream",
          "name": "stdout",
          "text": [
            "emp_id: ID1 emp_name: JOHN emp_salary: 45000 emp_department: IT\n",
            "Updated Employee Details:\n"
          ]
        }
      ]
    },
    {
      "cell_type": "code",
      "source": [
        "# Write a function which takes in 5 arguments id,first name,last name,salary,department and puts all details in list if ID already not exists\n",
        "\n",
        "def prog_add(*args):\n",
        "  print (args)\n",
        "\n",
        "prog_add(['id:', 1, 'first_name:', 'ADAM', 'Last_name:', 'SMITH', 'Salary:', 100000, 'Department:', 'MUSIC'] )\n",
        "\n",
        "\n"
      ],
      "metadata": {
        "colab": {
          "base_uri": "https://localhost:8080/"
        },
        "id": "T6DSqUYdvzcv",
        "outputId": "7265f14a-9107-4871-db37-c06b3f1abf77"
      },
      "execution_count": null,
      "outputs": [
        {
          "output_type": "stream",
          "name": "stdout",
          "text": [
            "(['id:', 1, 'first_name:', 'ADAM', 'Last_name:', 'SMITH', 'Salary:', 100000, 'Department:', 'MUSIC'],)\n"
          ]
        }
      ]
    },
    {
      "cell_type": "code",
      "source": [
        "user_input=-1\n",
        "while user_input!=7:\n",
        "  emp_first_name_list=[]\n",
        "  emp_last_name_list=[]\n",
        "  emp_id_list=[]\n",
        "  emp_salary_list=[]\n",
        "  emp_department_list=[]\n",
        "  print(\"1) Add employee\")\n",
        "  print(\"2) Remove employee by id\")\n",
        "  print(\"3) remove employee by name\")\n",
        "  print(\"4) Update details of employee ID\")\n",
        "  print(\"5) Display details of employee ID\")\n",
        "  print(\"6)  Display details of all employee\")\n",
        "  print(\"7) Exit the EMS system\")\n",
        "  user_input=int(input(\"Please enter a choice between 1-7\"))\n",
        "  if user_input==1:\n",
        "    addd_employee\n"
      ],
      "metadata": {
        "id": "xHg-K8ku0R1B"
      },
      "execution_count": null,
      "outputs": []
    },
    {
      "cell_type": "code",
      "source": [],
      "metadata": {
        "id": "U1fIaVBx0Rxc"
      },
      "execution_count": null,
      "outputs": []
    },
    {
      "cell_type": "code",
      "source": [],
      "metadata": {
        "id": "uYkuG_qL0Ruw"
      },
      "execution_count": null,
      "outputs": []
    },
    {
      "cell_type": "code",
      "source": [],
      "metadata": {
        "id": "7d2uF3v60Rro"
      },
      "execution_count": null,
      "outputs": []
    },
    {
      "cell_type": "code",
      "source": [],
      "metadata": {
        "id": "v0D-gUuP0Ro1"
      },
      "execution_count": null,
      "outputs": []
    },
    {
      "cell_type": "code",
      "source": [],
      "metadata": {
        "id": "wxIOL4HJ0RlI"
      },
      "execution_count": null,
      "outputs": []
    },
    {
      "cell_type": "code",
      "source": [],
      "metadata": {
        "id": "xgzg_B_o0Rho"
      },
      "execution_count": null,
      "outputs": []
    }
  ]
}