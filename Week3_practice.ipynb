{
  "nbformat": 4,
  "nbformat_minor": 0,
  "metadata": {
    "colab": {
      "provenance": [],
      "authorship_tag": "ABX9TyO6Dup07/+l6TFTC1J6xAFD",
      "include_colab_link": true
    },
    "kernelspec": {
      "name": "python3",
      "display_name": "Python 3"
    },
    "language_info": {
      "name": "python"
    }
  },
  "cells": [
    {
      "cell_type": "markdown",
      "metadata": {
        "id": "view-in-github",
        "colab_type": "text"
      },
      "source": [
        "<a href=\"https://colab.research.google.com/github/smkandel/Courses/blob/main/Week3_practice.ipynb\" target=\"_parent\"><img src=\"https://colab.research.google.com/assets/colab-badge.svg\" alt=\"Open In Colab\"/></a>"
      ]
    },
    {
      "cell_type": "code",
      "execution_count": null,
      "metadata": {
        "id": "UQ3zZlf67r-O"
      },
      "outputs": [],
      "source": [
        "def prog_add(*smriti):\n",
        "  print(smriti)"
      ]
    },
    {
      "cell_type": "code",
      "source": [
        "prog_add([3,'apple',3.3,-33,-22,2+3j,True,False],(2,3,'apple',-33,4.11,-22,2+3j,True,False),{1,'apple',-33,-22,2+3j,True,False})"
      ],
      "metadata": {
        "colab": {
          "base_uri": "https://localhost:8080/"
        },
        "id": "dlZnwvu477Oz",
        "outputId": "cebe2f17-2ac0-4767-a2ad-985f473704f8"
      },
      "execution_count": null,
      "outputs": [
        {
          "output_type": "stream",
          "name": "stdout",
          "text": [
            "([3, 'apple', 3.3, -33, -22, (2+3j), True, False], (2, 3, 'apple', -33, 4.11, -22, (2+3j), True, False), {'apple', 1, False, -22, (2+3j), -33})\n"
          ]
        }
      ]
    },
    {
      "cell_type": "code",
      "source": [
        "def arthi_op(*python):\n",
        "  a=0\n",
        "  for i in range python:\n",
        "    print(i)"
      ],
      "metadata": {
        "id": "fM5ExdFu-hco"
      },
      "execution_count": null,
      "outputs": []
    },
    {
      "cell_type": "code",
      "source": [
        "def my_func(*argv):\n",
        "  #print('First argument:', argv)\n",
        "  for arg in argv:\n",
        "    print('Other arguments:', arg)\n",
        "\n",
        "my_func('Hello', 'everyone', 'how', 'are', 'you','doing','today')    "
      ],
      "metadata": {
        "colab": {
          "base_uri": "https://localhost:8080/"
        },
        "id": "m8hEJjYTB2ER",
        "outputId": "c27ce3fa-c9ff-438f-f01e-f24b34665e0f"
      },
      "execution_count": null,
      "outputs": [
        {
          "output_type": "stream",
          "name": "stdout",
          "text": [
            "Other arguments: Hello\n",
            "Other arguments: everyone\n",
            "Other arguments: how\n",
            "Other arguments: are\n",
            "Other arguments: you\n",
            "Other arguments: doing\n",
            "Other arguments: today\n"
          ]
        }
      ]
    },
    {
      "cell_type": "code",
      "source": [
        "def my_func(*args, arg1, arg2, arg3):\n",
        "  for arg in argv:\n",
        "    print(arg)\n",
        "\n",
        "my_func(1,2,3,4,5)    \n"
      ],
      "metadata": {
        "colab": {
          "base_uri": "https://localhost:8080/",
          "height": 208
        },
        "id": "z7gB8mUrD7w3",
        "outputId": "e659c3d9-a444-4245-e95d-a39e2307dd78"
      },
      "execution_count": null,
      "outputs": [
        {
          "output_type": "error",
          "ename": "TypeError",
          "evalue": "ignored",
          "traceback": [
            "\u001b[0;31m---------------------------------------------------------------------------\u001b[0m",
            "\u001b[0;31mTypeError\u001b[0m                                 Traceback (most recent call last)",
            "\u001b[0;32m<ipython-input-29-801dcd6ac902>\u001b[0m in \u001b[0;36m<cell line: 5>\u001b[0;34m()\u001b[0m\n\u001b[1;32m      3\u001b[0m     \u001b[0mprint\u001b[0m\u001b[0;34m(\u001b[0m\u001b[0marg\u001b[0m\u001b[0;34m)\u001b[0m\u001b[0;34m\u001b[0m\u001b[0;34m\u001b[0m\u001b[0m\n\u001b[1;32m      4\u001b[0m \u001b[0;34m\u001b[0m\u001b[0m\n\u001b[0;32m----> 5\u001b[0;31m \u001b[0mmy_func\u001b[0m\u001b[0;34m(\u001b[0m\u001b[0;36m1\u001b[0m\u001b[0;34m,\u001b[0m\u001b[0;36m2\u001b[0m\u001b[0;34m,\u001b[0m\u001b[0;36m3\u001b[0m\u001b[0;34m,\u001b[0m\u001b[0;36m4\u001b[0m\u001b[0;34m,\u001b[0m\u001b[0;36m5\u001b[0m\u001b[0;34m)\u001b[0m\u001b[0;34m\u001b[0m\u001b[0;34m\u001b[0m\u001b[0m\n\u001b[0m",
            "\u001b[0;31mTypeError\u001b[0m: my_func() missing 3 required keyword-only arguments: 'arg1', 'arg2', and 'arg3'"
          ]
        }
      ]
    },
    {
      "cell_type": "code",
      "source": [
        "def display_val(**smriti):\n",
        "  return(smriti)"
      ],
      "metadata": {
        "id": "ws1y-V7OF8cL"
      },
      "execution_count": null,
      "outputs": []
    },
    {
      "cell_type": "code",
      "source": [
        "display_val(num1=1,num2=2,num3='apple',num4='banana',num5=2.5,num6=True,num7=3+4j,num8=False)"
      ],
      "metadata": {
        "colab": {
          "base_uri": "https://localhost:8080/"
        },
        "id": "S1Rh62e1GEPV",
        "outputId": "60d8e2f9-d963-427d-973d-f5d8d7a395d6"
      },
      "execution_count": null,
      "outputs": [
        {
          "output_type": "execute_result",
          "data": {
            "text/plain": [
              "{'num1': 1,\n",
              " 'num2': 2,\n",
              " 'num3': 'apple',\n",
              " 'num4': 'banana',\n",
              " 'num5': 2.5,\n",
              " 'num6': True,\n",
              " 'num7': (3+4j),\n",
              " 'num8': False}"
            ]
          },
          "metadata": {},
          "execution_count": 31
        }
      ]
    },
    {
      "cell_type": "code",
      "source": [
        "def func_together(arg1,arg2,arg3,*argy, **argz):\n",
        "  return arg1,arg2,arg3, argy, argz\n",
        "\n",
        "func_together(1,2,3,['practice','python','programming',7,14.4],num1=6,num2=12,num3=18,num4='multiple')  "
      ],
      "metadata": {
        "colab": {
          "base_uri": "https://localhost:8080/"
        },
        "id": "W61dqnbEHPzC",
        "outputId": "b9301714-16ef-4e4f-f55f-1557ce36db22"
      },
      "execution_count": null,
      "outputs": [
        {
          "output_type": "execute_result",
          "data": {
            "text/plain": [
              "(1,\n",
              " 2,\n",
              " 3,\n",
              " (['practice', 'python', 'programming', 7, 14.4],),\n",
              " {'num1': 6, 'num2': 12, 'num3': 18, 'num4': 'multiple'})"
            ]
          },
          "metadata": {},
          "execution_count": 39
        }
      ]
    },
    {
      "cell_type": "markdown",
      "source": [
        "ROHIT SESSION\n"
      ],
      "metadata": {
        "id": "QW4PSKcJjjkL"
      }
    },
    {
      "cell_type": "code",
      "source": [
        "#Write a program to print twin primes less than 1000. If two consecutive odd numbers are both prime then they are known as twin primes.\n",
        "\n",
        "def is_prime(n):\n",
        "  for i in range(2,n//2):\n",
        "   if n%i==0:\n",
        "     return False\n",
        "  return True     \n",
        "\n",
        "def generate_twins(start,end):\n",
        "  for i in range(start,end):\n",
        "    j=i+2\n",
        "    if (is_prime(i) and is_prime(j)):\n",
        "      print('twin prime numbers:', i,j)\n",
        "\n",
        "generate_twins(3,1000)      \n",
        "       \n",
        "\n"
      ],
      "metadata": {
        "colab": {
          "base_uri": "https://localhost:8080/"
        },
        "id": "llRpvh1Ejn36",
        "outputId": "700f64f6-1592-4aa7-e0b2-61b3403989f6"
      },
      "execution_count": null,
      "outputs": [
        {
          "output_type": "stream",
          "name": "stdout",
          "text": [
            "twin prime numbers: 3 5\n",
            "twin prime numbers: 5 7\n",
            "twin prime numbers: 11 13\n",
            "twin prime numbers: 17 19\n",
            "twin prime numbers: 29 31\n",
            "twin prime numbers: 41 43\n",
            "twin prime numbers: 59 61\n",
            "twin prime numbers: 71 73\n",
            "twin prime numbers: 101 103\n",
            "twin prime numbers: 107 109\n",
            "twin prime numbers: 137 139\n",
            "twin prime numbers: 149 151\n",
            "twin prime numbers: 179 181\n",
            "twin prime numbers: 191 193\n",
            "twin prime numbers: 197 199\n",
            "twin prime numbers: 227 229\n",
            "twin prime numbers: 239 241\n",
            "twin prime numbers: 269 271\n",
            "twin prime numbers: 281 283\n",
            "twin prime numbers: 311 313\n",
            "twin prime numbers: 347 349\n",
            "twin prime numbers: 419 421\n",
            "twin prime numbers: 431 433\n",
            "twin prime numbers: 461 463\n",
            "twin prime numbers: 521 523\n",
            "twin prime numbers: 569 571\n",
            "twin prime numbers: 599 601\n",
            "twin prime numbers: 617 619\n",
            "twin prime numbers: 641 643\n",
            "twin prime numbers: 659 661\n",
            "twin prime numbers: 809 811\n",
            "twin prime numbers: 821 823\n",
            "twin prime numbers: 827 829\n",
            "twin prime numbers: 857 859\n",
            "twin prime numbers: 881 883\n"
          ]
        }
      ]
    },
    {
      "cell_type": "code",
      "source": [
        "tup1=(1,2,3,4,5)\n",
        "tup1.index(3), tup1.count(4)"
      ],
      "metadata": {
        "colab": {
          "base_uri": "https://localhost:8080/"
        },
        "id": "IIFQmsrPGE9T",
        "outputId": "c36e9813-0efe-4ecf-cf62-98f552b559ac"
      },
      "execution_count": null,
      "outputs": [
        {
          "output_type": "execute_result",
          "data": {
            "text/plain": [
              "(2, 1)"
            ]
          },
          "metadata": {},
          "execution_count": 5
        }
      ]
    },
    {
      "cell_type": "code",
      "source": [
        "for i in lst1:\n",
        "    print(lst1[i])"
      ],
      "metadata": {
        "id": "TcYz0uJaN74w",
        "outputId": "636187e1-0b83-48a9-a192-bf413f18c38c",
        "colab": {
          "base_uri": "https://localhost:8080/",
          "height": 190
        }
      },
      "execution_count": null,
      "outputs": [
        {
          "output_type": "error",
          "ename": "IndexError",
          "evalue": "ignored",
          "traceback": [
            "\u001b[0;31m---------------------------------------------------------------------------\u001b[0m",
            "\u001b[0;31mIndexError\u001b[0m                                Traceback (most recent call last)",
            "\u001b[0;32m<ipython-input-8-d627647d6e37>\u001b[0m in \u001b[0;36m<cell line: 1>\u001b[0;34m()\u001b[0m\n\u001b[1;32m      1\u001b[0m \u001b[0;32mfor\u001b[0m \u001b[0mi\u001b[0m \u001b[0;32min\u001b[0m \u001b[0mlst1\u001b[0m\u001b[0;34m:\u001b[0m\u001b[0;34m\u001b[0m\u001b[0;34m\u001b[0m\u001b[0m\n\u001b[0;32m----> 2\u001b[0;31m     \u001b[0mprint\u001b[0m\u001b[0;34m(\u001b[0m\u001b[0mlst1\u001b[0m\u001b[0;34m[\u001b[0m\u001b[0mi\u001b[0m\u001b[0;34m]\u001b[0m\u001b[0;34m)\u001b[0m\u001b[0;34m\u001b[0m\u001b[0;34m\u001b[0m\u001b[0m\n\u001b[0m",
            "\u001b[0;31mIndexError\u001b[0m: list index out of range"
          ]
        }
      ]
    },
    {
      "cell_type": "code",
      "source": [
        "try:\n",
        "  lst1=[11,21,13,1,413,32]\n",
        "\n",
        "  for i in lst1:\n",
        "    print(lst1[i])\n",
        "except Exception as ie:\n",
        "    print('Exception', ie)  "
      ],
      "metadata": {
        "colab": {
          "base_uri": "https://localhost:8080/"
        },
        "id": "4tDLc8FPGMmr",
        "outputId": "7eae5e08-c4bd-4b5c-da06-767668872926"
      },
      "execution_count": null,
      "outputs": [
        {
          "output_type": "stream",
          "name": "stdout",
          "text": [
            "Exception list index out of range\n"
          ]
        }
      ]
    },
    {
      "cell_type": "code",
      "source": [
        "try:\n",
        "  tup1 = (1,2,3,4,5)\n",
        "\n",
        "  tup1.append(6)\n",
        "except AttributeError as ae:\n",
        "  print('exception AttributeError ', ae)"
      ],
      "metadata": {
        "colab": {
          "base_uri": "https://localhost:8080/"
        },
        "id": "yX7ZkVaMRUoe",
        "outputId": "38fccbad-54aa-4fc0-f76b-0149c2a0ed08"
      },
      "execution_count": null,
      "outputs": [
        {
          "output_type": "stream",
          "name": "stdout",
          "text": [
            "exception AttributeError  'tuple' object has no attribute 'append'\n"
          ]
        }
      ]
    },
    {
      "cell_type": "code",
      "source": [
        "try:\n",
        "  lst1 = [11,12,13,14,15,16,17,18,19,20]\n",
        "\n",
        "  for i in lst1:\n",
        "    print(lst1[i])\n",
        "except IndexError as ie:\n",
        "  print('Exception IndexError ', ie)\n",
        "\n",
        "except Exception as ie:\n",
        "  print('Exception ', ie)\n"
      ],
      "metadata": {
        "colab": {
          "base_uri": "https://localhost:8080/"
        },
        "id": "k3cQYphnRz3P",
        "outputId": "d084da47-5e62-4789-8445-2b13a4ec8524"
      },
      "execution_count": null,
      "outputs": [
        {
          "output_type": "stream",
          "name": "stdout",
          "text": [
            "Exception IndexError  list index out of range\n"
          ]
        }
      ]
    },
    {
      "cell_type": "code",
      "source": [
        "try:\n",
        "  tup1 = (11,12,13,14,15,16,17,18,19,20)\n",
        "\n",
        "  for i in tup1:\n",
        "    tup1.append(tup1[i])\n",
        "    print(tup1[i])    \n",
        "except Exception as ie:\n",
        "  print('Exception IndexError ', ie)  \n",
        "except Exception as ie:\n",
        "  print('Exception ', ie)  "
      ],
      "metadata": {
        "colab": {
          "base_uri": "https://localhost:8080/"
        },
        "id": "G5vTP78WR8t2",
        "outputId": "0acc66e6-336a-4624-c359-a8549c813306"
      },
      "execution_count": null,
      "outputs": [
        {
          "output_type": "stream",
          "name": "stdout",
          "text": [
            "Exception IndexError  'tuple' object has no attribute 'append'\n"
          ]
        }
      ]
    },
    {
      "cell_type": "code",
      "source": [
        "tup1=('a','b','c','d')\n",
        "for i in tup1:\n",
        "    tup1.append('e')\n",
        "    print(tup1)"
      ],
      "metadata": {
        "colab": {
          "base_uri": "https://localhost:8080/",
          "height": 226
        },
        "id": "Ach4bCKNTDOR",
        "outputId": "4d0596f1-0dae-4840-ead6-9447f5f34e48"
      },
      "execution_count": null,
      "outputs": [
        {
          "output_type": "error",
          "ename": "AttributeError",
          "evalue": "ignored",
          "traceback": [
            "\u001b[0;31m---------------------------------------------------------------------------\u001b[0m",
            "\u001b[0;31mAttributeError\u001b[0m                            Traceback (most recent call last)",
            "\u001b[0;32m<ipython-input-22-4a155b74309b>\u001b[0m in \u001b[0;36m<cell line: 2>\u001b[0;34m()\u001b[0m\n\u001b[1;32m      1\u001b[0m \u001b[0mtup1\u001b[0m\u001b[0;34m=\u001b[0m\u001b[0;34m(\u001b[0m\u001b[0;34m'a'\u001b[0m\u001b[0;34m,\u001b[0m\u001b[0;34m'b'\u001b[0m\u001b[0;34m,\u001b[0m\u001b[0;34m'c'\u001b[0m\u001b[0;34m,\u001b[0m\u001b[0;34m'd'\u001b[0m\u001b[0;34m)\u001b[0m\u001b[0;34m\u001b[0m\u001b[0;34m\u001b[0m\u001b[0m\n\u001b[1;32m      2\u001b[0m \u001b[0;32mfor\u001b[0m \u001b[0mi\u001b[0m \u001b[0;32min\u001b[0m \u001b[0mtup1\u001b[0m\u001b[0;34m:\u001b[0m\u001b[0;34m\u001b[0m\u001b[0;34m\u001b[0m\u001b[0m\n\u001b[0;32m----> 3\u001b[0;31m     \u001b[0mtup1\u001b[0m\u001b[0;34m.\u001b[0m\u001b[0mappend\u001b[0m\u001b[0;34m(\u001b[0m\u001b[0;34m'e'\u001b[0m\u001b[0;34m)\u001b[0m\u001b[0;34m\u001b[0m\u001b[0;34m\u001b[0m\u001b[0m\n\u001b[0m\u001b[1;32m      4\u001b[0m     \u001b[0mprint\u001b[0m\u001b[0;34m(\u001b[0m\u001b[0mtup1\u001b[0m\u001b[0;34m)\u001b[0m\u001b[0;34m\u001b[0m\u001b[0;34m\u001b[0m\u001b[0m\n",
            "\u001b[0;31mAttributeError\u001b[0m: 'tuple' object has no attribute 'append'"
          ]
        }
      ]
    },
    {
      "cell_type": "code",
      "source": [
        "#Exception \n",
        "try:\n",
        "  lst1=[1,2,3,4,5,6,7,8,9,10]\n",
        "\n",
        "  for i in lst1:\n",
        "    lst1[i]\n",
        "    print(lst1)\n",
        "except Exception as ex:\n",
        "  print(\"Exception error\", ex)"
      ],
      "metadata": {
        "colab": {
          "base_uri": "https://localhost:8080/"
        },
        "id": "DXWNRsLbSmg5",
        "outputId": "c4b622d8-c457-454e-d5a0-37744c6889be"
      },
      "execution_count": null,
      "outputs": [
        {
          "output_type": "stream",
          "name": "stdout",
          "text": [
            "[1, 2, 3, 4, 5, 6, 7, 8, 9, 10]\n",
            "[1, 2, 3, 4, 5, 6, 7, 8, 9, 10]\n",
            "[1, 2, 3, 4, 5, 6, 7, 8, 9, 10]\n",
            "[1, 2, 3, 4, 5, 6, 7, 8, 9, 10]\n",
            "[1, 2, 3, 4, 5, 6, 7, 8, 9, 10]\n",
            "[1, 2, 3, 4, 5, 6, 7, 8, 9, 10]\n",
            "[1, 2, 3, 4, 5, 6, 7, 8, 9, 10]\n",
            "[1, 2, 3, 4, 5, 6, 7, 8, 9, 10]\n",
            "[1, 2, 3, 4, 5, 6, 7, 8, 9, 10]\n",
            "Exception error list index out of range\n"
          ]
        }
      ]
    },
    {
      "cell_type": "code",
      "source": [
        "\n",
        "forc= 50\n",
        "are=int(input('Enter a value'))\n",
        "pres=(forc/are)\n",
        "pres\n"
      ],
      "metadata": {
        "colab": {
          "base_uri": "https://localhost:8080/",
          "height": 244
        },
        "id": "Sl-7dgjgUsZi",
        "outputId": "0748381c-0f93-4af7-ece1-e2485f337fcf"
      },
      "execution_count": null,
      "outputs": [
        {
          "name": "stdout",
          "output_type": "stream",
          "text": [
            "Enter a value0\n"
          ]
        },
        {
          "output_type": "error",
          "ename": "ZeroDivisionError",
          "evalue": "ignored",
          "traceback": [
            "\u001b[0;31m---------------------------------------------------------------------------\u001b[0m",
            "\u001b[0;31mZeroDivisionError\u001b[0m                         Traceback (most recent call last)",
            "\u001b[0;32m<ipython-input-37-e1af5a1b3f2a>\u001b[0m in \u001b[0;36m<cell line: 4>\u001b[0;34m()\u001b[0m\n\u001b[1;32m      2\u001b[0m \u001b[0mforc\u001b[0m\u001b[0;34m=\u001b[0m \u001b[0;36m50\u001b[0m\u001b[0;34m\u001b[0m\u001b[0;34m\u001b[0m\u001b[0m\n\u001b[1;32m      3\u001b[0m \u001b[0mare\u001b[0m\u001b[0;34m=\u001b[0m\u001b[0mint\u001b[0m\u001b[0;34m(\u001b[0m\u001b[0minput\u001b[0m\u001b[0;34m(\u001b[0m\u001b[0;34m'Enter a value'\u001b[0m\u001b[0;34m)\u001b[0m\u001b[0;34m)\u001b[0m\u001b[0;34m\u001b[0m\u001b[0;34m\u001b[0m\u001b[0m\n\u001b[0;32m----> 4\u001b[0;31m \u001b[0mpres\u001b[0m\u001b[0;34m=\u001b[0m\u001b[0;34m(\u001b[0m\u001b[0mforc\u001b[0m\u001b[0;34m/\u001b[0m\u001b[0mare\u001b[0m\u001b[0;34m)\u001b[0m\u001b[0;34m\u001b[0m\u001b[0;34m\u001b[0m\u001b[0m\n\u001b[0m\u001b[1;32m      5\u001b[0m \u001b[0mpres\u001b[0m\u001b[0;34m\u001b[0m\u001b[0;34m\u001b[0m\u001b[0m\n",
            "\u001b[0;31mZeroDivisionError\u001b[0m: division by zero"
          ]
        }
      ]
    },
    {
      "cell_type": "code",
      "source": [
        "#ZeroDivisionError\n",
        "try:\n",
        "  forc= 50\n",
        "  are=int(input('Enter a value'))\n",
        "  pres=(forc/are)\n",
        "  pres\n",
        "\n",
        "except ZeroDivisionError as ze:\n",
        "  print('Exception ZeroDivisionError', ze)  \n",
        "\n"
      ],
      "metadata": {
        "colab": {
          "base_uri": "https://localhost:8080/"
        },
        "id": "ENNMc1FuWS_u",
        "outputId": "d7fc9903-a16f-4ba5-a4a5-97b4b5f72c60"
      },
      "execution_count": null,
      "outputs": [
        {
          "output_type": "stream",
          "name": "stdout",
          "text": [
            "Enter a value0\n",
            "Exception ZeroDivisionError division by zero\n"
          ]
        }
      ]
    },
    {
      "cell_type": "code",
      "source": [
        "#3. AttributeError\n",
        "try:\n",
        "  tup1=('a','b','c','d')\n",
        "  for i in tup1:\n",
        "    tup1.append('e')\n",
        "    print(tup1)\n",
        "\n",
        "except AttributeError as ae:\n",
        "  print('AttributeError', ae)    "
      ],
      "metadata": {
        "colab": {
          "base_uri": "https://localhost:8080/"
        },
        "id": "KcFRU4aESmdI",
        "outputId": "b47acae5-2028-4d6c-f196-0e90a5c7f02f"
      },
      "execution_count": null,
      "outputs": [
        {
          "output_type": "stream",
          "name": "stdout",
          "text": [
            "AttributeError 'tuple' object has no attribute 'append'\n"
          ]
        }
      ]
    },
    {
      "cell_type": "code",
      "source": [
        "#Index Error\n",
        "\n",
        "try:\n",
        "   lst1=[10,2,3,40,5,6,7,8,9]\n",
        "   for i in lst1:\n",
        "    print(lst1[i])\n",
        "except IndexError as ie:\n",
        "  print(\"Except IndexError\", ie)\n"
      ],
      "metadata": {
        "colab": {
          "base_uri": "https://localhost:8080/"
        },
        "id": "L4LuZKuySmY1",
        "outputId": "ebe17d96-cdfb-44d5-fc2b-effc3098d51d"
      },
      "execution_count": null,
      "outputs": [
        {
          "output_type": "stream",
          "name": "stdout",
          "text": [
            "Except IndexError list index out of range\n"
          ]
        }
      ]
    },
    {
      "cell_type": "code",
      "source": [
        "#Exception\n",
        "try:\n",
        "  str1=\"Hello everyone\"\n",
        "\n",
        "  for i in str1:\n",
        "    print(str1.extend('learning'))\n",
        "except Exception as ie:\n",
        "  print('Exception ', ie)"
      ],
      "metadata": {
        "colab": {
          "base_uri": "https://localhost:8080/"
        },
        "id": "hwylVJAZSmR8",
        "outputId": "384b2699-97ac-4761-a851-469499b7a08b"
      },
      "execution_count": null,
      "outputs": [
        {
          "output_type": "stream",
          "name": "stdout",
          "text": [
            "Exception  'str' object has no attribute 'extend'\n"
          ]
        }
      ]
    },
    {
      "cell_type": "markdown",
      "source": [
        "File Handling "
      ],
      "metadata": {
        "id": "7-uzC1EQPBvb"
      }
    },
    {
      "cell_type": "code",
      "source": [
        "# File Handling\n",
        "\n",
        "\"r\" - Read - Default value. Opens a file for reading, error if the file does not exist\n",
        "\n",
        "\"a\" - Append - Opens a file for appending, creates the file if it does not exist\n",
        "\n",
        "\"w\" - Write - Opens a file for writing, creates the file if it does not exist\n",
        "\n",
        "\"x\" - Create - Creates the specified file, returns an error if the file exists"
      ],
      "metadata": {
        "id": "J9VhCFmpRHp-"
      },
      "execution_count": null,
      "outputs": []
    },
    {
      "cell_type": "code",
      "source": [],
      "metadata": {
        "id": "QMfyazZ_Sd_4"
      },
      "execution_count": null,
      "outputs": []
    },
    {
      "cell_type": "code",
      "source": [
        "f=open(\"NewFile.txt\", 'x')"
      ],
      "metadata": {
        "id": "lP0H0L4sgizU"
      },
      "execution_count": null,
      "outputs": []
    },
    {
      "cell_type": "code",
      "source": [
        "f=open(\"NewFile.txt\")"
      ],
      "metadata": {
        "id": "BpH6Zpj0KMo7"
      },
      "execution_count": null,
      "outputs": []
    },
    {
      "cell_type": "code",
      "source": [
        "f=open(\"NewFile.txt\", 'rt')"
      ],
      "metadata": {
        "id": "pSVbAEYRKMg7"
      },
      "execution_count": null,
      "outputs": []
    },
    {
      "cell_type": "code",
      "source": [
        "f=open(\"NewFile.txt\", 'w')"
      ],
      "metadata": {
        "id": "Ozh4QRt2KMce"
      },
      "execution_count": null,
      "outputs": []
    },
    {
      "cell_type": "code",
      "source": [
        "f.write('I am taking Data Science Bootcamp.')"
      ],
      "metadata": {
        "id": "TQEod4yBKMYD",
        "colab": {
          "base_uri": "https://localhost:8080/"
        },
        "outputId": "bea7259c-4061-45d9-f070-e6ccf4dd9e5f"
      },
      "execution_count": null,
      "outputs": [
        {
          "output_type": "execute_result",
          "data": {
            "text/plain": [
              "34"
            ]
          },
          "metadata": {},
          "execution_count": 59
        }
      ]
    },
    {
      "cell_type": "code",
      "source": [
        "f.close()"
      ],
      "metadata": {
        "id": "qTNJHxu3KMNx"
      },
      "execution_count": null,
      "outputs": []
    },
    {
      "cell_type": "code",
      "source": [
        "f= open(\"NewFile.txt\", 'r')"
      ],
      "metadata": {
        "id": "sFiRHnerQLyE"
      },
      "execution_count": null,
      "outputs": []
    },
    {
      "cell_type": "code",
      "source": [
        "print(f.read())"
      ],
      "metadata": {
        "colab": {
          "base_uri": "https://localhost:8080/"
        },
        "id": "IAeeNdzwQLuu",
        "outputId": "18931d52-9caa-4c52-e191-e369d8197dab"
      },
      "execution_count": null,
      "outputs": [
        {
          "output_type": "stream",
          "name": "stdout",
          "text": [
            "I am taking Data Science Bootcamp.\n"
          ]
        }
      ]
    },
    {
      "cell_type": "code",
      "source": [
        "f=open(\"NewFile.txt\", 'a')"
      ],
      "metadata": {
        "id": "pWe67OdXQLsV"
      },
      "execution_count": null,
      "outputs": []
    },
    {
      "cell_type": "code",
      "source": [
        "f.write(' I want to be a Data scientist.')"
      ],
      "metadata": {
        "colab": {
          "base_uri": "https://localhost:8080/"
        },
        "id": "XfbeocGSQLpw",
        "outputId": "b3df0d25-4620-4ec3-b5d9-6fbbf1f89079"
      },
      "execution_count": null,
      "outputs": [
        {
          "output_type": "execute_result",
          "data": {
            "text/plain": [
              "31"
            ]
          },
          "metadata": {},
          "execution_count": 64
        }
      ]
    },
    {
      "cell_type": "code",
      "source": [
        "f.close()"
      ],
      "metadata": {
        "id": "e9IzfgpYQLm6"
      },
      "execution_count": null,
      "outputs": []
    },
    {
      "cell_type": "code",
      "source": [
        "f=open(\"NewFile.txt\", 'r')"
      ],
      "metadata": {
        "id": "VZ75p5_gQLkQ"
      },
      "execution_count": null,
      "outputs": []
    },
    {
      "cell_type": "code",
      "source": [
        "print(f.read())"
      ],
      "metadata": {
        "colab": {
          "base_uri": "https://localhost:8080/"
        },
        "id": "i_ewhlPlQLhp",
        "outputId": "80123c82-bfe4-4cd1-d80b-ca49c1d21e4f"
      },
      "execution_count": null,
      "outputs": [
        {
          "output_type": "stream",
          "name": "stdout",
          "text": [
            "I am taking Data Science Bootcamp. I want to be a Data scientist.\n"
          ]
        }
      ]
    },
    {
      "cell_type": "code",
      "source": [
        "class my_3rd_class:\n",
        "  x1 = \"x1 is variable inside my_3rd_class\"\n",
        "  print(type(x1))\n",
        "  x2 = \"x2 is variable inside my_3rd_class\"\n",
        "  print(type(x2))"
      ],
      "metadata": {
        "colab": {
          "base_uri": "https://localhost:8080/"
        },
        "id": "4ittLnMsQLaD",
        "outputId": "d87698bc-fdc5-4e06-ab4d-bda3cbf4879c"
      },
      "execution_count": null,
      "outputs": [
        {
          "output_type": "stream",
          "name": "stdout",
          "text": [
            "<class 'str'>\n",
            "<class 'str'>\n"
          ]
        }
      ]
    },
    {
      "cell_type": "code",
      "source": [
        "z = my_3rd_class()\n",
        "print(type(z))"
      ],
      "metadata": {
        "colab": {
          "base_uri": "https://localhost:8080/"
        },
        "id": "uOqr7j_mlgks",
        "outputId": "f3ba029d-7dd7-47dd-925d-4d698d74d7ff"
      },
      "execution_count": null,
      "outputs": [
        {
          "output_type": "stream",
          "name": "stdout",
          "text": [
            "<class '__main__.my_3rd_class'>\n"
          ]
        }
      ]
    },
    {
      "cell_type": "code",
      "source": [
        "class iPhone15Pro:\n",
        "  a = \"#@^iPhone15Pro^@#\""
      ],
      "metadata": {
        "id": "UfDFmlB-WF6i"
      },
      "execution_count": null,
      "outputs": []
    },
    {
      "cell_type": "code",
      "source": [
        "a1 = iPhone15Pro() # Object 'a1' is instance of class iPhone15Pro\n",
        "print(type(a1))\n",
        "a1.a"
      ],
      "metadata": {
        "colab": {
          "base_uri": "https://localhost:8080/",
          "height": 54
        },
        "id": "uTzPmswfWH-J",
        "outputId": "1fd485d3-c2c9-4885-d94c-fb5e64586456"
      },
      "execution_count": null,
      "outputs": [
        {
          "output_type": "stream",
          "name": "stdout",
          "text": [
            "<class '__main__.iPhone15Pro'>\n"
          ]
        },
        {
          "output_type": "execute_result",
          "data": {
            "text/plain": [
              "'#@^iPhone15Pro^@#'"
            ],
            "application/vnd.google.colaboratory.intrinsic+json": {
              "type": "string"
            }
          },
          "metadata": {},
          "execution_count": 2
        }
      ]
    },
    {
      "cell_type": "code",
      "source": [
        "class dellXzen:\n",
        "  dell1=\"dellXzen2010\"\n",
        "  dell2='dellZxen2015'\n",
        "  dell3='dellXxen2020'"
      ],
      "metadata": {
        "id": "Z3dlOSIdW1Mq"
      },
      "execution_count": null,
      "outputs": []
    },
    {
      "cell_type": "code",
      "source": [
        "\n",
        "# create 3 objects dXz1, dXz2, dXz3\n",
        "dXz1 = dellXzen()\n",
        "print(type(dXz1))\n",
        "dXz1.dell1\n"
      ],
      "metadata": {
        "colab": {
          "base_uri": "https://localhost:8080/",
          "height": 54
        },
        "id": "61dIWMWFW1Jc",
        "outputId": "eb4df182-b6b8-4449-9d0b-597cd456f56f"
      },
      "execution_count": null,
      "outputs": [
        {
          "output_type": "stream",
          "name": "stdout",
          "text": [
            "<class '__main__.dellXzen'>\n"
          ]
        },
        {
          "output_type": "execute_result",
          "data": {
            "text/plain": [
              "'dellXzen2010'"
            ],
            "application/vnd.google.colaboratory.intrinsic+json": {
              "type": "string"
            }
          },
          "metadata": {},
          "execution_count": 11
        }
      ]
    },
    {
      "cell_type": "code",
      "source": [
        "dXz2=dellXzen()\n",
        "print(type(dXz1))\n",
        "dXz2.dell2"
      ],
      "metadata": {
        "colab": {
          "base_uri": "https://localhost:8080/",
          "height": 54
        },
        "id": "KufvtePTW1Gg",
        "outputId": "0b617d5f-0756-4721-aba1-36ed583e5c8a"
      },
      "execution_count": null,
      "outputs": [
        {
          "output_type": "stream",
          "name": "stdout",
          "text": [
            "<class '__main__.dellXzen'>\n"
          ]
        },
        {
          "output_type": "execute_result",
          "data": {
            "text/plain": [
              "'dellZxen2015'"
            ],
            "application/vnd.google.colaboratory.intrinsic+json": {
              "type": "string"
            }
          },
          "metadata": {},
          "execution_count": 8
        }
      ]
    },
    {
      "cell_type": "code",
      "source": [
        "dXz3=dellXzen()\n",
        "print(type(dXz3))\n",
        "dXz3.dell3"
      ],
      "metadata": {
        "colab": {
          "base_uri": "https://localhost:8080/",
          "height": 54
        },
        "id": "UmR6d6EgW1Dy",
        "outputId": "b76a52cb-ff76-402d-b569-6d7079eb432d"
      },
      "execution_count": null,
      "outputs": [
        {
          "output_type": "stream",
          "name": "stdout",
          "text": [
            "<class '__main__.dellXzen'>\n"
          ]
        },
        {
          "output_type": "execute_result",
          "data": {
            "text/plain": [
              "'dellXxen2020'"
            ],
            "application/vnd.google.colaboratory.intrinsic+json": {
              "type": "string"
            }
          },
          "metadata": {},
          "execution_count": 9
        }
      ]
    },
    {
      "cell_type": "code",
      "source": [
        "class iPhone15Pro:\n",
        "  def __init__(smriti, model, price):\n",
        "    smriti.model = model\n",
        "    smriti.price = price\n",
        "  def print_info(smriti):\n",
        "    print(\"model: \", smriti.model , \"price: \", smriti.price)"
      ],
      "metadata": {
        "id": "M1KyaxZGW1Aq"
      },
      "execution_count": null,
      "outputs": []
    },
    {
      "cell_type": "code",
      "source": [
        "a1=iPhone15Pro('i 15 Pro', 12345)\n",
        "a1.print_info()"
      ],
      "metadata": {
        "colab": {
          "base_uri": "https://localhost:8080/"
        },
        "id": "H0yqwKedW09b",
        "outputId": "2a691a2c-eab7-4a5b-b75b-4c9564004350"
      },
      "execution_count": null,
      "outputs": [
        {
          "output_type": "stream",
          "name": "stdout",
          "text": [
            "model:  i 15 Pro price:  12345\n"
          ]
        }
      ]
    },
    {
      "cell_type": "code",
      "source": [
        "class iPhone15Pro:\n",
        "  def __init__(self,processor,ram,int_mem,display,camera):\n",
        "    self.processor=processor\n",
        "    self.ram=ram\n",
        "    self.int_mem=int_mem\n",
        "    self.display=display\n",
        "    self.camera=camera\n",
        "\n",
        "  def print_details(self):\n",
        "    print(\"Processor:\", self.processor,\n",
        "          \"RAM:\", self.ram,\n",
        "          \"Internal Memory:\", self.int_mem,\n",
        "          \"Display:\", self.display,\n",
        "          \"camera:\", self.camera)  "
      ],
      "metadata": {
        "id": "N1Ge-bWyW03j"
      },
      "execution_count": null,
      "outputs": []
    },
    {
      "cell_type": "code",
      "source": [
        "a1=iPhone15Pro('i15', 60, 150, 89, 850)\n",
        "a1.print_details()"
      ],
      "metadata": {
        "colab": {
          "base_uri": "https://localhost:8080/"
        },
        "id": "Woe00AdNWH2T",
        "outputId": "2205ffb7-9230-4102-e5b9-a45e2373d96f"
      },
      "execution_count": null,
      "outputs": [
        {
          "output_type": "stream",
          "name": "stdout",
          "text": [
            "Processor: i15 RAM: 60 Internal Memory: 150 Display: 89 camera: 850\n"
          ]
        }
      ]
    },
    {
      "cell_type": "code",
      "source": [
        "class mobile: ##parent\n",
        "  def __init__(self,company,series):\n",
        "    self.company= company\n",
        "    self.series= series\n",
        "  def print_details(self):\n",
        "    print(\"Model name is:\", self.company, 'Series is:', self.series)\n",
        "\n",
        "class android(mobile): ###child\n",
        "  pass\n",
        "                "
      ],
      "metadata": {
        "id": "m8T8nxGzk6hJ"
      },
      "execution_count": null,
      "outputs": []
    },
    {
      "cell_type": "code",
      "source": [
        "mob1=mobile('SamsungGalaxy', 'S23')\n",
        "mob1.print_details()\n",
        "print(type(mob1))"
      ],
      "metadata": {
        "colab": {
          "base_uri": "https://localhost:8080/"
        },
        "id": "UNVf1d1czgEc",
        "outputId": "68bdf7cc-c6aa-4936-a6c2-10a4d422d941"
      },
      "execution_count": null,
      "outputs": [
        {
          "output_type": "stream",
          "name": "stdout",
          "text": [
            "Model name is: SamsungGalaxy Series is: S23\n",
            "<class '__main__.mobile'>\n"
          ]
        }
      ]
    },
    {
      "cell_type": "code",
      "source": [
        "mob1=android('Googlepixel', 'notebook')\n",
        "mob1.print_details()\n",
        "print(type(mob1))"
      ],
      "metadata": {
        "colab": {
          "base_uri": "https://localhost:8080/"
        },
        "id": "hbt1g5q-odgk",
        "outputId": "ee5ef8f6-9dd8-4314-9ae6-ffd60eae94f4"
      },
      "execution_count": null,
      "outputs": [
        {
          "output_type": "stream",
          "name": "stdout",
          "text": [
            "Model name is: Googlepixel Series is: notebook\n",
            "<class '__main__.android'>\n"
          ]
        }
      ]
    },
    {
      "cell_type": "code",
      "source": [
        "class person:\n",
        "  def __init__(self,name,lname):\n",
        "    self.firstname=name\n",
        "    self.lastname=lname\n",
        "\n",
        "  def printname(self):\n",
        "    print(\"First Name:\", self.firstname, \"Last name:\", self.lastname)  "
      ],
      "metadata": {
        "id": "pDv0XxLcodYs"
      },
      "execution_count": null,
      "outputs": []
    },
    {
      "cell_type": "code",
      "source": [
        "class computer:\n",
        "  def __init__(self,version,year):\n",
        "    self.version=version\n",
        "    self.year=year\n",
        "\n",
        "  def printname(self):\n",
        "    print(\"Computer type:\", self.version, \"Model is:\", self.year)  \n",
        "\n"
      ],
      "metadata": {
        "id": "LwZg_8T6odQH"
      },
      "execution_count": null,
      "outputs": []
    },
    {
      "cell_type": "code",
      "source": [
        "class laptop(computer):\n",
        "  def __init__(self,version,year):\n",
        "    self.version=version\n",
        "    self.year=year\n",
        "\n",
        "  def printname(self):\n",
        "    print(\"Series is:\", self.version, \"Inch is:\", self.year)   "
      ],
      "metadata": {
        "id": "70Y3MWP-BZXJ"
      },
      "execution_count": null,
      "outputs": []
    },
    {
      "cell_type": "code",
      "source": [
        "class desktop(computer):\n",
        "  def __init__(self,version,year):\n",
        "    self.version=version\n",
        "    self.year=year\n",
        "\n",
        "  def printname(self):\n",
        "    print(\"Desktop name:\", self.version, \"Desktop inch:\", self.year)  "
      ],
      "metadata": {
        "id": "ec3vlEXOCw9u"
      },
      "execution_count": null,
      "outputs": []
    },
    {
      "cell_type": "code",
      "source": [
        "comp=computer('Laptop', 'hp')\n",
        "comp.printname()"
      ],
      "metadata": {
        "colab": {
          "base_uri": "https://localhost:8080/"
        },
        "id": "7l_F20wVodIf",
        "outputId": "f8981484-b6a4-4df9-8126-d36098a57ab2"
      },
      "execution_count": null,
      "outputs": [
        {
          "output_type": "stream",
          "name": "stdout",
          "text": [
            "Computer type: Laptop Model is: hp\n"
          ]
        }
      ]
    },
    {
      "cell_type": "code",
      "source": [
        "lap=laptop('Chromebook', 12)\n",
        "lap.printname()"
      ],
      "metadata": {
        "colab": {
          "base_uri": "https://localhost:8080/"
        },
        "id": "CGelStUgoc7J",
        "outputId": "2f9b201e-8964-4e84-9b5f-8c1aacf2608b"
      },
      "execution_count": null,
      "outputs": [
        {
          "output_type": "stream",
          "name": "stdout",
          "text": [
            "Series is: Chromebook Inch is: 12\n"
          ]
        }
      ]
    },
    {
      "cell_type": "code",
      "source": [
        "desk=desktop('Samsung', 16)\n",
        "desk.printname()"
      ],
      "metadata": {
        "colab": {
          "base_uri": "https://localhost:8080/"
        },
        "id": "iDDN5AvZk6ac",
        "outputId": "6472356a-5670-4fa3-ed16-6cb90dd626e0"
      },
      "execution_count": null,
      "outputs": [
        {
          "output_type": "stream",
          "name": "stdout",
          "text": [
            "Desktop name: Samsung Desktop inch: 16\n"
          ]
        }
      ]
    },
    {
      "cell_type": "code",
      "source": [
        "class computer:\n",
        "  def __init__(self,brand):\n",
        "     self.brand=brand\n",
        "     def printme(self):\n",
        "      print(\"I am the computer\")\n",
        "\n",
        "# class laptop(computer):\n",
        "#   def __init__(self,brand,screensize):\n",
        "#     self.screensize=screensize\n",
        "#     def printme(self):\n",
        "#       print(\"I am the laptop\")\n",
        "\n",
        "# class desktop(computer):\n",
        "#   def __init__(self,brand,screensize,weight):\n",
        "#     self.screensize=screensize\n",
        "#     self.weight=weight\n",
        "#     def printme(self):\n",
        "#       print(\"I am the desktop\")\n",
        "\n",
        "cmp=computer(\"Sony\")\n",
        "cmp.printme()\n",
        "\n",
        "# laptop1=laptop(\"HP\",15)\n",
        "# laptop1.printme()\n",
        "\n",
        "# desktop1=desktop(\"LG\",14,10)\n",
        "# desktop1.printme()"
      ],
      "metadata": {
        "colab": {
          "base_uri": "https://localhost:8080/",
          "height": 244
        },
        "id": "1XhOdGilBrRJ",
        "outputId": "35a2bc98-34fd-44a8-aebe-b05cb14d880e"
      },
      "execution_count": null,
      "outputs": [
        {
          "output_type": "error",
          "ename": "AttributeError",
          "evalue": "ignored",
          "traceback": [
            "\u001b[0;31m---------------------------------------------------------------------------\u001b[0m",
            "\u001b[0;31mAttributeError\u001b[0m                            Traceback (most recent call last)",
            "\u001b[0;32m<ipython-input-1-e222f168b617>\u001b[0m in \u001b[0;36m<cell line: 21>\u001b[0;34m()\u001b[0m\n\u001b[1;32m     19\u001b[0m \u001b[0;34m\u001b[0m\u001b[0m\n\u001b[1;32m     20\u001b[0m \u001b[0mcmp\u001b[0m\u001b[0;34m=\u001b[0m\u001b[0mcomputer\u001b[0m\u001b[0;34m(\u001b[0m\u001b[0;34m\"Sony\"\u001b[0m\u001b[0;34m)\u001b[0m\u001b[0;34m\u001b[0m\u001b[0;34m\u001b[0m\u001b[0m\n\u001b[0;32m---> 21\u001b[0;31m \u001b[0mcmp\u001b[0m\u001b[0;34m.\u001b[0m\u001b[0mprintme\u001b[0m\u001b[0;34m(\u001b[0m\u001b[0;34m)\u001b[0m\u001b[0;34m\u001b[0m\u001b[0;34m\u001b[0m\u001b[0m\n\u001b[0m\u001b[1;32m     22\u001b[0m \u001b[0;34m\u001b[0m\u001b[0m\n\u001b[1;32m     23\u001b[0m \u001b[0;31m# laptop1=laptop(\"HP\",15)\u001b[0m\u001b[0;34m\u001b[0m\u001b[0;34m\u001b[0m\u001b[0m\n",
            "\u001b[0;31mAttributeError\u001b[0m: 'computer' object has no attribute 'printme'"
          ]
        }
      ]
    },
    {
      "cell_type": "code",
      "source": [],
      "metadata": {
        "id": "PV5kvMQvBrN9"
      },
      "execution_count": null,
      "outputs": []
    },
    {
      "cell_type": "code",
      "source": [],
      "metadata": {
        "id": "yM39Wn0jBrLF"
      },
      "execution_count": null,
      "outputs": []
    },
    {
      "cell_type": "code",
      "source": [],
      "metadata": {
        "id": "zMm_BZuMBrIN"
      },
      "execution_count": null,
      "outputs": []
    },
    {
      "cell_type": "markdown",
      "source": [
        "Rohit Session practice"
      ],
      "metadata": {
        "id": "SWD_UusfgkYN"
      }
    },
    {
      "cell_type": "code",
      "source": [
        "a=[1,2,3,4,5,6,7]\n",
        "#rows=1,col=7\n",
        "\n",
        "a=[[1,2,3],[2,3,4],[5,6,7]]\n",
        "#rows=3, columns=3\n",
        "print(a[0])"
      ],
      "metadata": {
        "colab": {
          "base_uri": "https://localhost:8080/"
        },
        "id": "MHZxtP9cgnkq",
        "outputId": "af9a3144-0e5c-472f-cd29-3c13bd2322bf"
      },
      "execution_count": null,
      "outputs": [
        {
          "output_type": "stream",
          "name": "stdout",
          "text": [
            "[1, 2, 3]\n"
          ]
        }
      ]
    },
    {
      "cell_type": "code",
      "source": [
        "#Write a program to find out the prime factors of a number. Example: prime factors of 56\n",
        "\n",
        "\n",
        "def is_prime(n):\n",
        "  for i in range(2,n):\n",
        "   if n%i==0:\n",
        "     return False\n",
        "  return True\n",
        "\n",
        "def prime_factors(n):\n",
        "  checkmate=True\n",
        "  for k in range(2,n):\n",
        "    if n%k==0:\n",
        "      if is_prime(k):\n",
        "        print(str(k)+ 'is a prime factor of', n)\n",
        "        checkmate=False\n",
        "  if checkmate:\n",
        "    print(\"Number has no prime factors\")\n",
        "\n",
        "n=56\n",
        "prime_factors(n)\n",
        "\n"
      ],
      "metadata": {
        "colab": {
          "base_uri": "https://localhost:8080/"
        },
        "id": "IKUSyCO7lm0O",
        "outputId": "61b0eff8-34ab-4bf1-b830-caaf83792f34"
      },
      "execution_count": null,
      "outputs": [
        {
          "output_type": "stream",
          "name": "stdout",
          "text": [
            "2is a prime factor of 56\n",
            "7is a prime factor of 56\n"
          ]
        }
      ]
    },
    {
      "cell_type": "code",
      "source": [
        "##If all digits of a number n are multiplied by each other repeating with the product, the one digit number obtained at last is called the multiplicative digital root of n. The number of times digits need to be multiplied to reach one digit is called the multiplicative persistance of n\n",
        "\n",
        "#Example: 86 -> 48 -> 32 -> 6 (MDR 6, MPersistence 3\n",
        "# 341 -> 12->2           (MDR 2, MPersistence 2)\n",
        "\n",
        "\n",
        "\n",
        "\n",
        "def a_MDR (n):\n",
        "  for i in range (0,n):\n",
        "    if a==8 and b==6:\n",
        "      return a*b\n",
        "\n",
        "n=86\n",
        "print(a_MDR(n))\n",
        "\n"
      ],
      "metadata": {
        "colab": {
          "base_uri": "https://localhost:8080/",
          "height": 345
        },
        "id": "ynoLKeFCsD4c",
        "outputId": "8d46d0f6-c692-42d7-b4c6-2757765c08b2"
      },
      "execution_count": null,
      "outputs": [
        {
          "output_type": "error",
          "ename": "TypeError",
          "evalue": "ignored",
          "traceback": [
            "\u001b[0;31m---------------------------------------------------------------------------\u001b[0m",
            "\u001b[0;31mTypeError\u001b[0m                                 Traceback (most recent call last)",
            "\u001b[0;32m<ipython-input-121-39724bb33da2>\u001b[0m in \u001b[0;36m<cell line: 15>\u001b[0;34m()\u001b[0m\n\u001b[1;32m     13\u001b[0m \u001b[0;34m\u001b[0m\u001b[0m\n\u001b[1;32m     14\u001b[0m \u001b[0mn\u001b[0m\u001b[0;34m=\u001b[0m\u001b[0;36m86\u001b[0m\u001b[0;34m\u001b[0m\u001b[0;34m\u001b[0m\u001b[0m\n\u001b[0;32m---> 15\u001b[0;31m \u001b[0mprint\u001b[0m\u001b[0;34m(\u001b[0m\u001b[0ma_MDR\u001b[0m\u001b[0;34m(\u001b[0m\u001b[0mn\u001b[0m\u001b[0;34m)\u001b[0m\u001b[0;34m)\u001b[0m\u001b[0;34m\u001b[0m\u001b[0;34m\u001b[0m\u001b[0m\n\u001b[0m\u001b[1;32m     16\u001b[0m \u001b[0;34m\u001b[0m\u001b[0m\n",
            "\u001b[0;32m<ipython-input-121-39724bb33da2>\u001b[0m in \u001b[0;36ma_MDR\u001b[0;34m(n)\u001b[0m\n\u001b[1;32m      8\u001b[0m \u001b[0;34m\u001b[0m\u001b[0m\n\u001b[1;32m      9\u001b[0m \u001b[0;32mdef\u001b[0m \u001b[0ma_MDR\u001b[0m \u001b[0;34m(\u001b[0m\u001b[0mn\u001b[0m\u001b[0;34m)\u001b[0m\u001b[0;34m:\u001b[0m\u001b[0;34m\u001b[0m\u001b[0;34m\u001b[0m\u001b[0m\n\u001b[0;32m---> 10\u001b[0;31m   \u001b[0;32mfor\u001b[0m \u001b[0mi\u001b[0m \u001b[0;32min\u001b[0m \u001b[0mrange\u001b[0m \u001b[0;34m(\u001b[0m\u001b[0ma\u001b[0m\u001b[0;34m,\u001b[0m\u001b[0mb\u001b[0m\u001b[0;34m)\u001b[0m\u001b[0;34m:\u001b[0m\u001b[0;34m\u001b[0m\u001b[0;34m\u001b[0m\u001b[0m\n\u001b[0m\u001b[1;32m     11\u001b[0m     \u001b[0;32mif\u001b[0m \u001b[0ma\u001b[0m\u001b[0;34m==\u001b[0m\u001b[0;36m8\u001b[0m \u001b[0;32mand\u001b[0m \u001b[0mb\u001b[0m\u001b[0;34m==\u001b[0m\u001b[0;36m6\u001b[0m\u001b[0;34m:\u001b[0m\u001b[0;34m\u001b[0m\u001b[0;34m\u001b[0m\u001b[0m\n\u001b[1;32m     12\u001b[0m       \u001b[0;32mreturn\u001b[0m \u001b[0ma\u001b[0m\u001b[0;34m*\u001b[0m\u001b[0mb\u001b[0m\u001b[0;34m\u001b[0m\u001b[0;34m\u001b[0m\u001b[0m\n",
            "\u001b[0;31mTypeError\u001b[0m: 'str' object cannot be interpreted as an integer"
          ]
        }
      ]
    }
  ]
}