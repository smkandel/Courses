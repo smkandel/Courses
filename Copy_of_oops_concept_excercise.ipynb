{
  "nbformat": 4,
  "nbformat_minor": 0,
  "metadata": {
    "colab": {
      "provenance": [],
      "include_colab_link": true
    },
    "kernelspec": {
      "name": "python3",
      "display_name": "Python 3"
    },
    "language_info": {
      "name": "python"
    }
  },
  "cells": [
    {
      "cell_type": "markdown",
      "metadata": {
        "id": "view-in-github",
        "colab_type": "text"
      },
      "source": [
        "<a href=\"https://colab.research.google.com/github/smkandel/Courses/blob/main/Copy_of_oops_concept_excercise.ipynb\" target=\"_parent\"><img src=\"https://colab.research.google.com/assets/colab-badge.svg\" alt=\"Open In Colab\"/></a>"
      ]
    },
    {
      "cell_type": "code",
      "execution_count": null,
      "metadata": {
        "colab": {
          "base_uri": "https://localhost:8080/"
        },
        "id": "0Zt93r1hihbQ",
        "outputId": "f4e92d05-2f45-4214-a003-c14b49e41065"
      },
      "outputs": [
        {
          "output_type": "stream",
          "name": "stdout",
          "text": [
            "Bus Class\n",
            " IT CAME IN INIT FOR BASE CLASS\n",
            "Max Speed of Bus :- 64\n",
            "Milage of Bus :- 172\n"
          ]
        }
      ],
      "source": [
        "class Vehicle:\n",
        "\n",
        "    def __init__(self, max_speed, mileage):\n",
        "        print(\" IT CAME IN INIT FOR BASE CLASS\")\n",
        "        self.max_speed = max_speed\n",
        "        self.mileage = mileage\n",
        "    \n",
        "    def display(self):\n",
        "      print(\"Max Speed of Bus :-\",self.max_speed)\n",
        "      print(\"Milage of Bus :-\",self.mileage)\n",
        "\n",
        "class Bus(Vehicle):\n",
        "  print(\"Bus Class\")\n",
        "\n",
        "\n",
        "bus_obj=Bus(64,172)\n",
        "bus_obj.display()"
      ]
    },
    {
      "cell_type": "code",
      "source": [
        "class Vehicle:\n",
        "    def __init__(self, max_speed, mileage):\n",
        "        print(\" IT CAME IN INIT FOR PARENT CLASS\")\n",
        "        self.max_speed = max_speed\n",
        "        self.mileage = mileage\n",
        "        \n",
        "    def display(self):\n",
        "      print(\"Max Speed of Bus :-\",self.max_speed)\n",
        "      print(\"Milage of Bus :-\",self.mileage)\n",
        "    \n",
        "    def display_capcity(self,capcity):\n",
        "      print(\"PARENT CLASS Capacity of Bus :-\",capcity)\n",
        "\n",
        "class Bus(Vehicle):\n",
        "    def __init__(self, max_speed, mileage,capacity):\n",
        "      print(\" IT CAME IN INIT FOR CHILD CLASS\")\n",
        "      capacity=50\n",
        "      super().__init__(max_speed, mileage)\n",
        "      self.capacity=capacity\n",
        "    \n",
        "    def seating_capacity(self):\n",
        "        super().display_capcity(self.capacity)\n",
        "\n",
        "        print(\"Seating capacity :-\",self.capacity)\n",
        "\n",
        "School_bus = Bus(180, 12,50)\n",
        "#School_bus.display()\n",
        "School_bus.seating_capacity()\n",
        "\n",
        "\n",
        "School_bus.capacity=100\n",
        "School_bus.seating_capacity()"
      ],
      "metadata": {
        "colab": {
          "base_uri": "https://localhost:8080/"
        },
        "id": "0NqYqDyOkXGP",
        "outputId": "8d0f9ee0-e151-48f7-ee21-8e71c5a00cca"
      },
      "execution_count": null,
      "outputs": [
        {
          "output_type": "stream",
          "name": "stdout",
          "text": [
            " IT CAME IN INIT FOR CHILD CLASS\n",
            " IT CAME IN INIT FOR PARENT CLASS\n",
            "PARENT CLASS Capacity of Bus :- 50\n",
            "Seating capacity :- 50\n",
            "PARENT CLASS Capacity of Bus :- 100\n",
            "Seating capacity :- 100\n"
          ]
        }
      ]
    }
  ]
}