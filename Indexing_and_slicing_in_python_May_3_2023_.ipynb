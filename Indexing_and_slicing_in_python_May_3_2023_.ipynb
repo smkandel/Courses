{
  "nbformat": 4,
  "nbformat_minor": 0,
  "metadata": {
    "colab": {
      "provenance": [],
      "authorship_tag": "ABX9TyOZ4vgOdPVa+hxpT5jtiBus",
      "include_colab_link": true
    },
    "kernelspec": {
      "name": "python3",
      "display_name": "Python 3"
    },
    "language_info": {
      "name": "python"
    }
  },
  "cells": [
    {
      "cell_type": "markdown",
      "metadata": {
        "id": "view-in-github",
        "colab_type": "text"
      },
      "source": [
        "<a href=\"https://colab.research.google.com/github/smkandel/Courses/blob/main/Indexing_and_slicing_in_python_May_3_2023_.ipynb\" target=\"_parent\"><img src=\"https://colab.research.google.com/assets/colab-badge.svg\" alt=\"Open In Colab\"/></a>"
      ]
    },
    {
      "cell_type": "code",
      "source": [
        "#INDEXING AND SLICING\n",
        "#print(str1[start:end:step])\n"
      ],
      "metadata": {
        "id": "blCP7hvAzzs6"
      },
      "execution_count": null,
      "outputs": []
    },
    {
      "cell_type": "code",
      "execution_count": null,
      "metadata": {
        "colab": {
          "base_uri": "https://localhost:8080/"
        },
        "id": "aXVRu7PgGmbo",
        "outputId": "eeae6a93-aeb2-40d3-eef5-563341f63ceb"
      },
      "outputs": [
        {
          "output_type": "stream",
          "name": "stdout",
          "text": [
            "eriF\n",
            "eriF\n",
            "Fire\n"
          ]
        }
      ],
      "source": [
        "#negative indexing and -ve slicing (left to right)\n",
        "#print(str1[-1:-(len(str1)+1):1])\n",
        "str1= 'Harry Potter -Goblet of Fire'\n",
        "\n",
        "print(str1[-1:-5:-1])\n",
        "print(str1[:-5:-1])\n",
        "print(str1[-4::])\n"
      ]
    },
    {
      "cell_type": "code",
      "source": [
        "#+ve indexing and +ve slicing (left to right)\n",
        "#print(str1[0:len(str1)+1:1])\n",
        "print(str1[::])"
      ],
      "metadata": {
        "colab": {
          "base_uri": "https://localhost:8080/"
        },
        "id": "PD_Iig9FU0-M",
        "outputId": "d5c8d290-a774-4fe4-e13b-f3bf9f273736"
      },
      "execution_count": null,
      "outputs": [
        {
          "output_type": "stream",
          "name": "stdout",
          "text": [
            "Harry Potter -Goblet of Fire\n"
          ]
        }
      ]
    },
    {
      "cell_type": "code",
      "source": [
        "#-ve indexing -ve slicing (right to left)\n",
        "#print(str1[-1: -(len(str1)+1):-1]) \n",
        "print(str1[-1:-5:-1])\n",
        "print(str1[-1:-8:-1])\n",
        "print(str1[-1:-15:-1])\n",
        "print(str1[-1:-23:-1])\n",
        "print(str1[-1:-29:-1])"
      ],
      "metadata": {
        "colab": {
          "base_uri": "https://localhost:8080/"
        },
        "id": "JTBpQ4jHId9R",
        "outputId": "30df6cae-2dfc-401e-92ce-6f506e0c0d4f"
      },
      "execution_count": null,
      "outputs": [
        {
          "output_type": "stream",
          "name": "stdout",
          "text": [
            "eriF\n",
            "eriF fo\n",
            "eriF fo telboG\n",
            "eriF fo telboG- rettoP\n",
            "eriF fo telboG- rettoP yrraH\n"
          ]
        }
      ]
    },
    {
      "cell_type": "code",
      "source": [
        "#+ve indexing and -ve slicing (right to left)\n",
        "#print(str1[len(str1):-1])\n",
        "print(str1[28::-1])"
      ],
      "metadata": {
        "colab": {
          "base_uri": "https://localhost:8080/"
        },
        "id": "Hwszy4gcJP0x",
        "outputId": "f822da38-acd0-42ef-bf60-da8643765da3"
      },
      "execution_count": null,
      "outputs": [
        {
          "output_type": "stream",
          "name": "stdout",
          "text": [
            "eriF fo telboG- rettoP yrraH\n"
          ]
        }
      ]
    },
    {
      "cell_type": "code",
      "source": [
        "#-ve indexing +ve slicing (left to right)\n",
        "#print(str1[-(len(str1)+1):1])\n",
        "print(str1[-29::1])"
      ],
      "metadata": {
        "colab": {
          "base_uri": "https://localhost:8080/"
        },
        "id": "g-cfSv8pOYwp",
        "outputId": "32b2c568-5e31-4b16-90fd-9bc3f70084a6"
      },
      "execution_count": null,
      "outputs": [
        {
          "output_type": "stream",
          "name": "stdout",
          "text": [
            "Harry Potter -Goblet of Fire\n"
          ]
        }
      ]
    },
    {
      "cell_type": "code",
      "source": [],
      "metadata": {
        "colab": {
          "base_uri": "https://localhost:8080/"
        },
        "id": "TWqVQBQkO4CP",
        "outputId": "12359eab-97eb-42d9-a9b3-36955f4a64a0"
      },
      "execution_count": null,
      "outputs": [
        {
          "output_type": "stream",
          "name": "stdout",
          "text": [
            "Harry Potter -Goblet of Fire\n"
          ]
        }
      ]
    },
    {
      "cell_type": "code",
      "source": [
        "str1= 'PYTHON PROGRAMMING'"
      ],
      "metadata": {
        "id": "8nF595m6O4cD"
      },
      "execution_count": null,
      "outputs": []
    },
    {
      "cell_type": "code",
      "source": [
        "#+ve indexing and +ve slicing\n",
        "print(str1[0:len(str1)+1:1])\n",
        "#-ve indexing and -ve slicing\n",
        "print(str1[-1:-(len(str1)+1):-1])\n",
        "#+ve indexing and -ve slicing\n",
        "print(str1[17::-1])\n",
        "#-ve indexing and +ve slicing\n",
        "print(str1[-18::1])\n",
        "print(len(str1))\n",
        "\n"
      ],
      "metadata": {
        "colab": {
          "base_uri": "https://localhost:8080/"
        },
        "id": "pkEOEHQuO4iV",
        "outputId": "6e0b9703-72e0-4f8e-f073-db17aab070d4"
      },
      "execution_count": null,
      "outputs": [
        {
          "output_type": "stream",
          "name": "stdout",
          "text": [
            "PYTHON PROGRAMMING\n",
            "GNIMMARGORP NOHTYP\n",
            "GNIMMARGORP NOHTYP\n",
            "PYTHON PROGRAMMING\n",
            "18\n"
          ]
        }
      ]
    },
    {
      "cell_type": "code",
      "source": [
        "str1= 'Ganga Brahmaputra Narmada Godavari Kaveri Yamuna'\n",
        "print(len(str1))\n",
        "#+ve indexxing +ve slicing\n",
        "print(str1[0:49:1])\n",
        "#-ve indexing -ve slicing\n",
        "print(str1[-1:-49:-1])\n",
        "#+ve indexing -ve slicing\n",
        "print(str1[48::-1])\n",
        "#-ve indexing +ve slicing\n",
        "print(str1[-49::1])\n"
      ],
      "metadata": {
        "colab": {
          "base_uri": "https://localhost:8080/"
        },
        "id": "8GqbcKD3Vfed",
        "outputId": "21fa0048-e77b-4d9c-feff-f4d69ad3f7e8"
      },
      "execution_count": null,
      "outputs": [
        {
          "output_type": "stream",
          "name": "stdout",
          "text": [
            "48\n",
            "Ganga Brahmaputra Narmada Godavari Kaveri Yamuna\n",
            "anumaY irevaK iravadoG adamraN artupamharB agnaG\n",
            "anumaY irevaK iravadoG adamraN artupamharB agnaG\n",
            "Ganga Brahmaputra Narmada Godavari Kaveri Yamuna\n"
          ]
        }
      ]
    },
    {
      "cell_type": "code",
      "source": [
        "#Data str data type\n",
        "lst1=['Ganga', 'Brahmaputra', 'Narmada', 'Godavari', 'Kaveri', 'Yamuna']\n",
        "print(lst1)\n",
        "print(type(lst1))"
      ],
      "metadata": {
        "colab": {
          "base_uri": "https://localhost:8080/"
        },
        "id": "DWaB6z2cVfk-",
        "outputId": "4ff8b8fd-ca0f-4129-f230-4008ead54fad"
      },
      "execution_count": null,
      "outputs": [
        {
          "output_type": "stream",
          "name": "stdout",
          "text": [
            "['Ganga', 'Brahmaputra', 'Narmada', 'Godavari', 'Kaveri', 'Yamuna']\n",
            "<class 'list'>\n"
          ]
        }
      ]
    },
    {
      "cell_type": "code",
      "source": [
        "lst1[0],lst1[1],lst1[2],lst1[3],lst1[4],lst1[5],"
      ],
      "metadata": {
        "colab": {
          "base_uri": "https://localhost:8080/"
        },
        "id": "knchLmauVfog",
        "outputId": "24342e6a-6ce8-47f8-d1cf-378c0c76bc0b"
      },
      "execution_count": null,
      "outputs": [
        {
          "output_type": "execute_result",
          "data": {
            "text/plain": [
              "('Ganga', 'Brahmaputra', 'Narmada', 'Godavari', 'Kaveri', 'Yamuna')"
            ]
          },
          "metadata": {},
          "execution_count": 74
        }
      ]
    },
    {
      "cell_type": "code",
      "source": [
        "lst1[0:1:], lst1[0:2:],lst1[0:3:],lst1[0:4:],lst1[0:5:],lst1[0:6:]"
      ],
      "metadata": {
        "colab": {
          "base_uri": "https://localhost:8080/"
        },
        "id": "CeIRes3xVfrd",
        "outputId": "33809c67-fbf0-40bf-d44f-05e0544c040c"
      },
      "execution_count": null,
      "outputs": [
        {
          "output_type": "execute_result",
          "data": {
            "text/plain": [
              "(['Ganga'],\n",
              " ['Ganga', 'Brahmaputra'],\n",
              " ['Ganga', 'Brahmaputra', 'Narmada'],\n",
              " ['Ganga', 'Brahmaputra', 'Narmada', 'Godavari'],\n",
              " ['Ganga', 'Brahmaputra', 'Narmada', 'Godavari', 'Kaveri'],\n",
              " ['Ganga', 'Brahmaputra', 'Narmada', 'Godavari', 'Kaveri', 'Yamuna'])"
            ]
          },
          "metadata": {},
          "execution_count": 75
        }
      ]
    },
    {
      "cell_type": "code",
      "source": [
        "lst2=[1,['a','b','c'],1.2,2,2+3j,False,'apple',['mon','tue','wed'],3,3.4,4,True,-4-5j,'banana',5,5.6,True,6,-6+7j,'cherry',False]"
      ],
      "metadata": {
        "id": "nNQJ-XJRajdL"
      },
      "execution_count": null,
      "outputs": []
    },
    {
      "cell_type": "code",
      "source": [
        "print(len(lst2))\n",
        "#+ve indexxing +ve slicing\n",
        "print(lst2[0:22:1])\n",
        "#-ve indexing -ve slicing\n",
        "print(lst2[-1:-22:-1])\n",
        "#+ve indexing -ve slicing\n",
        "print(lst2[21::-1])\n",
        "#-ve indexing +ve slicing\n",
        "print(lst2[-22::1])\n"
      ],
      "metadata": {
        "colab": {
          "base_uri": "https://localhost:8080/"
        },
        "id": "Unr8QR6uajhO",
        "outputId": "09a8bc85-ee11-4a4f-fa29-a4c9b35b4022"
      },
      "execution_count": null,
      "outputs": [
        {
          "output_type": "stream",
          "name": "stdout",
          "text": [
            "21\n",
            "[1, ['a', 'b', 'c'], 1.2, 2, (2+3j), False, 'apple', ['mon', 'tue', 'wed'], 3, 3.4, 4, True, (-4-5j), 'banana', 5, 5.6, True, 6, (-6+7j), 'cherry', False]\n",
            "[False, 'cherry', (-6+7j), 6, True, 5.6, 5, 'banana', (-4-5j), True, 4, 3.4, 3, ['mon', 'tue', 'wed'], 'apple', False, (2+3j), 2, 1.2, ['a', 'b', 'c'], 1]\n",
            "[False, 'cherry', (-6+7j), 6, True, 5.6, 5, 'banana', (-4-5j), True, 4, 3.4, 3, ['mon', 'tue', 'wed'], 'apple', False, (2+3j), 2, 1.2, ['a', 'b', 'c'], 1]\n",
            "[1, ['a', 'b', 'c'], 1.2, 2, (2+3j), False, 'apple', ['mon', 'tue', 'wed'], 3, 3.4, 4, True, (-4-5j), 'banana', 5, 5.6, True, 6, (-6+7j), 'cherry', False]\n"
          ]
        }
      ]
    },
    {
      "cell_type": "code",
      "source": [],
      "metadata": {
        "id": "G_TZBz5JOeF-"
      },
      "execution_count": null,
      "outputs": []
    },
    {
      "cell_type": "code",
      "source": [
        "tup1= (1,2,3,4,5,6,7,8,9,0)\n",
        "print(tup1)\n",
        "print(type(tup1))"
      ],
      "metadata": {
        "id": "6nsirWJQVfu1",
        "colab": {
          "base_uri": "https://localhost:8080/"
        },
        "outputId": "009a306d-0759-4c05-c866-3a5b923c7d77"
      },
      "execution_count": null,
      "outputs": [
        {
          "output_type": "stream",
          "name": "stdout",
          "text": [
            "(1, 2, 3, 4, 5, 6, 7, 8, 9, 0)\n",
            "<class 'tuple'>\n"
          ]
        }
      ]
    }
  ]
}