{
  "nbformat": 4,
  "nbformat_minor": 0,
  "metadata": {
    "colab": {
      "provenance": [],
      "include_colab_link": true
    },
    "kernelspec": {
      "name": "python3",
      "display_name": "Python 3"
    },
    "language_info": {
      "name": "python"
    }
  },
  "cells": [
    {
      "cell_type": "markdown",
      "metadata": {
        "id": "view-in-github",
        "colab_type": "text"
      },
      "source": [
        "<a href=\"https://colab.research.google.com/github/smkandel/Courses/blob/main/17MAY2023_DS_ExceptionHand.ipynb\" target=\"_parent\"><img src=\"https://colab.research.google.com/assets/colab-badge.svg\" alt=\"Open In Colab\"/></a>"
      ]
    },
    {
      "cell_type": "code",
      "execution_count": null,
      "metadata": {
        "id": "ReqDn8Nd31eM"
      },
      "outputs": [],
      "source": [
        "def prog_add(a,b):\n",
        "  return a+b"
      ]
    },
    {
      "cell_type": "code",
      "source": [
        "def prog_add(a,b,c):\n",
        "  return a+b+c"
      ],
      "metadata": {
        "id": "oaO4Re9c4OjZ"
      },
      "execution_count": null,
      "outputs": []
    },
    {
      "cell_type": "code",
      "source": [
        "def prog_add(a,b,c,d,e,f,g,h,i,j):\n",
        "  return a+b+c+d+e+f+g+h+i+j"
      ],
      "metadata": {
        "id": "WrhcuQw94UCP"
      },
      "execution_count": null,
      "outputs": []
    },
    {
      "cell_type": "markdown",
      "source": [
        "*args passes variable number of non-keyworded arguments and on which operation of the tuple can be performed."
      ],
      "metadata": {
        "id": "X5G0qU2_6LAq"
      }
    },
    {
      "cell_type": "code",
      "source": [
        "def prog_add(*args):\n",
        "  return sum(args)"
      ],
      "metadata": {
        "id": "R5cqF7MW5G0Q"
      },
      "execution_count": null,
      "outputs": []
    },
    {
      "cell_type": "code",
      "source": [
        "prog_add(1,2,3,4,5,6,7,8,9,10,11)"
      ],
      "metadata": {
        "colab": {
          "base_uri": "https://localhost:8080/"
        },
        "id": "AI5RhQxk5XXn",
        "outputId": "60b22459-30db-489f-b99e-37a972ad8a0e"
      },
      "execution_count": null,
      "outputs": [
        {
          "output_type": "execute_result",
          "data": {
            "text/plain": [
              "66"
            ]
          },
          "metadata": {},
          "execution_count": 6
        }
      ]
    },
    {
      "cell_type": "code",
      "source": [
        "prog_add(1,2,3,4,5,6,7,8,9,10,11,1,2,3,4,5,6,7,8,9,10,11,1,2,3,4,5,6,7,8,9,10,11,1,2,3,4,5,6,7,8,9,10,11,1,2,3,4,5,6,7,8,9,10,11,)"
      ],
      "metadata": {
        "colab": {
          "base_uri": "https://localhost:8080/"
        },
        "id": "X33VMGrN5djD",
        "outputId": "16e9b1d0-37fc-41b5-974c-323cfabda6b4"
      },
      "execution_count": null,
      "outputs": [
        {
          "output_type": "execute_result",
          "data": {
            "text/plain": [
              "330"
            ]
          },
          "metadata": {},
          "execution_count": 7
        }
      ]
    },
    {
      "cell_type": "code",
      "source": [
        "prog_add(1,2,3,1.2,1.3,1.4)"
      ],
      "metadata": {
        "colab": {
          "base_uri": "https://localhost:8080/"
        },
        "id": "Sb3SwpE06Jwr",
        "outputId": "f9067c9d-e97a-42d3-8ddc-cb875d282d68"
      },
      "execution_count": null,
      "outputs": [
        {
          "output_type": "execute_result",
          "data": {
            "text/plain": [
              "9.9"
            ]
          },
          "metadata": {},
          "execution_count": 8
        }
      ]
    },
    {
      "cell_type": "code",
      "source": [
        "def prog_add(*args):\n",
        "  print(args)"
      ],
      "metadata": {
        "id": "Lgd_mJWD6zkA"
      },
      "execution_count": null,
      "outputs": []
    },
    {
      "cell_type": "code",
      "source": [
        "prog_add([1,2,3,1.2,1.3,1.4], (1,2,3,1.2,1.3,1.4))"
      ],
      "metadata": {
        "colab": {
          "base_uri": "https://localhost:8080/"
        },
        "id": "EANrz9K_6evh",
        "outputId": "4e61f81a-ac68-44ee-cf4f-95fa77b88778"
      },
      "execution_count": null,
      "outputs": [
        {
          "output_type": "stream",
          "name": "stdout",
          "text": [
            "([1, 2, 3, 1.2, 1.3, 1.4], (1, 2, 3, 1.2, 1.3, 1.4))\n"
          ]
        }
      ]
    },
    {
      "cell_type": "code",
      "source": [
        "prog_add(['apple','python',11,-22,-33, 4.4,-5.5,12+7j,-9-8j,True,False],('apple','python',11,-22,-33, 4.4,-5.5,12+7j,-9-8j,True,False),{'apple','python',11,-22,-33, 4.4,-5.5,12+7j,-9-8j,True,False})"
      ],
      "metadata": {
        "colab": {
          "base_uri": "https://localhost:8080/"
        },
        "id": "J0NV-qTk66F5",
        "outputId": "a747f97c-3a65-4596-83f0-dc77d2aace83"
      },
      "execution_count": null,
      "outputs": [
        {
          "output_type": "stream",
          "name": "stdout",
          "text": [
            "(['apple', 'python', 11, -22, -33, 4.4, -5.5, (12+7j), (-9-8j), True, False], ('apple', 'python', 11, -22, -33, 4.4, -5.5, (12+7j), (-9-8j), True, False), {False, (12+7j), True, 4.4, -22, 11, (-9-8j), 'apple', 'python', -5.5, -33})\n"
          ]
        }
      ]
    },
    {
      "cell_type": "markdown",
      "source": [
        "    What is Python *args?\n",
        "\n",
        "    The special syntax *args in function definitions in Python is used to pass a variable number of arguments to a function. It is used to pass a non-keyworded, variable-length argument list.\n",
        "\n",
        "    The syntax is to use the symbol * to take in a variable number of arguments; by convention, it is often used with the word args.\n",
        "    \n",
        "    What *args allows you to do is take in more arguments than the number of formal arguments that you previously defined. With *args, any number of extra arguments can be tacked on to your current formal parameters (including zero extra arguments).\n",
        "    \n",
        "    For example, we want to make a multiply function that takes any number of arguments and is able to multiply them all together. It can be done using *args.\n",
        "    \n",
        "    Using the *, the variable that we associate with the * becomes iterable meaning you can do things like iterate over it, run some higher-order functions such as map and filter, etc."
      ],
      "metadata": {
        "id": "QRoKLcQt8mEx"
      }
    },
    {
      "cell_type": "code",
      "source": [
        "def arthi_operation(*python):\n",
        "  a = 0\n",
        "  for i in python:\n",
        "    print('value inside argument python ', i)\n",
        "\n",
        "    a += i\n",
        "  return a"
      ],
      "metadata": {
        "id": "TWr-xh_N7moZ"
      },
      "execution_count": null,
      "outputs": []
    },
    {
      "cell_type": "code",
      "source": [
        "arthi_operation(1,2,3,4,5,6,7,8,9,10,11,12)"
      ],
      "metadata": {
        "id": "uIEFvUEF_PPE"
      },
      "execution_count": null,
      "outputs": []
    },
    {
      "cell_type": "code",
      "source": [
        "def myFun(arg1, arg2, arg3, *argv):\n",
        "    print(\"First argument :\", arg1, arg2, arg3)\n",
        "    for arg in argv:\n",
        "        print(\"Next argument through *argv :\", arg)\n",
        "\n",
        "\n",
        "myFun('Hello', 'Welcome', 'to', 'Python Program', 'Pune', \"Practice\", 'Point to point')"
      ],
      "metadata": {
        "colab": {
          "base_uri": "https://localhost:8080/"
        },
        "id": "8wRbZEldBHBP",
        "outputId": "34d68976-3c4e-4f9c-c4a8-49ba520bee76"
      },
      "execution_count": null,
      "outputs": [
        {
          "output_type": "stream",
          "name": "stdout",
          "text": [
            "First argument : Hello Welcome to\n",
            "Next argument through *argv : Python Program\n",
            "Next argument through *argv : Pune\n",
            "Next argument through *argv : Practice\n",
            "Next argument through *argv : Point to point\n"
          ]
        }
      ]
    },
    {
      "cell_type": "code",
      "source": [
        "def myFun(*argv, arg1, arg2, arg3):\n",
        "    print(\"First argument :\", arg1, arg2, arg3)\n",
        "    for arg in argv:\n",
        "        print(\"Next argument through *argv :\", arg)\n",
        "\n",
        "\n",
        "myFun('Hello', 'Welcome', 'to', 'Python Program', 'Pune', \"Practice\", 'Point to point')"
      ],
      "metadata": {
        "id": "r-1WT_dqCqR-"
      },
      "execution_count": null,
      "outputs": []
    },
    {
      "cell_type": "code",
      "source": [
        "def myFun(*argv):\n",
        "    # print(\"First argument :\", arg1, arg2, arg3)\n",
        "    for arg in argv:\n",
        "        print(\"Next argument through *argv :\", arg)\n",
        "\n",
        "\n",
        "myFun('Hello', 'Welcome', 'to', 'Python Program', 'Pune', \"Practice\", 'Point to point')"
      ],
      "metadata": {
        "colab": {
          "base_uri": "https://localhost:8080/"
        },
        "id": "PJuRMoDeDpij",
        "outputId": "e0a0935f-7bd3-412c-f690-3aca2f4dcd17"
      },
      "execution_count": null,
      "outputs": [
        {
          "output_type": "stream",
          "name": "stdout",
          "text": [
            "Next argument through *argv : Hello\n",
            "Next argument through *argv : Welcome\n",
            "Next argument through *argv : to\n",
            "Next argument through *argv : Python Program\n",
            "Next argument through *argv : Pune\n",
            "Next argument through *argv : Practice\n",
            "Next argument through *argv : Point to point\n"
          ]
        }
      ]
    },
    {
      "cell_type": "markdown",
      "source": [
        "    What is Python **kwargs?\n",
        "\n",
        "\n",
        "    The special syntax **kwargs in function definitions in Python is used to pass a keyworded, variable-length argument list. We use the name kwargs with the double star. The reason is that the double star allows us to pass through keyword arguments (and any number of them).\n",
        "\n",
        "    A keyword argument is where you provide a name to the variable as you pass it into the function.\n",
        "\n",
        "\n",
        "    One can think of the kwargs as being a dictionary that maps each keyword to the value that we pass alongside it. That is why when we iterate over the kwargs there doesn’t seem to be any order in which they were printed out."
      ],
      "metadata": {
        "id": "ghaej4AhEZlF"
      }
    },
    {
      "cell_type": "code",
      "source": [
        "def display_val(**kwargs):\n",
        "  return kwargs"
      ],
      "metadata": {
        "id": "DS09AR1OD57s"
      },
      "execution_count": null,
      "outputs": []
    },
    {
      "cell_type": "code",
      "source": [
        "display_val(1,2,3,4,5,6,7,8,9)"
      ],
      "metadata": {
        "id": "7sDfsEhAE7pT"
      },
      "execution_count": null,
      "outputs": []
    },
    {
      "cell_type": "code",
      "source": [
        "display_val(num1 = 1)"
      ],
      "metadata": {
        "colab": {
          "base_uri": "https://localhost:8080/"
        },
        "id": "rvquuwmvFKRw",
        "outputId": "b7faabda-7475-465c-e7d0-4cc30179567a"
      },
      "execution_count": null,
      "outputs": [
        {
          "output_type": "execute_result",
          "data": {
            "text/plain": [
              "{'num1': 1}"
            ]
          },
          "metadata": {},
          "execution_count": 35
        }
      ]
    },
    {
      "cell_type": "code",
      "source": [
        "display_val(num9=1,num8=2,num7=3,num6=4,num5=5,num4=6,num3=7,num2=8,num1=9)"
      ],
      "metadata": {
        "colab": {
          "base_uri": "https://localhost:8080/"
        },
        "id": "LV_t45PDFSpq",
        "outputId": "82138d4b-59c4-40ee-af20-d3b67bc0c979"
      },
      "execution_count": null,
      "outputs": [
        {
          "output_type": "execute_result",
          "data": {
            "text/plain": [
              "{'num9': 1,\n",
              " 'num8': 2,\n",
              " 'num7': 3,\n",
              " 'num6': 4,\n",
              " 'num5': 5,\n",
              " 'num4': 6,\n",
              " 'num3': 7,\n",
              " 'num2': 8,\n",
              " 'num1': 9}"
            ]
          },
          "metadata": {},
          "execution_count": 36
        }
      ]
    },
    {
      "cell_type": "code",
      "source": [
        "# def both_together(*args,**kwargs):\n",
        "def both_together(*ramlal,**shyamlal):\n",
        "  return ramlal,shyamlal\n",
        "#both_together(1,2,3,4,5)\n",
        "#both_together(1,2,3,4,5,num9=1,num8=2,num7=3,num6=4,num5=5)\n",
        "both_together(num9=1,num8=2,num7=3,num6=4,num5=5,1,2,3,4,5)"
      ],
      "metadata": {
        "colab": {
          "base_uri": "https://localhost:8080/",
          "height": 131
        },
        "id": "U7guqlL9Gc1x",
        "outputId": "a341b15a-465c-466a-9d5d-3d1e38046c8f"
      },
      "execution_count": null,
      "outputs": [
        {
          "output_type": "error",
          "ename": "SyntaxError",
          "evalue": "ignored",
          "traceback": [
            "\u001b[0;36m  File \u001b[0;32m\"<ipython-input-43-c9a53b30ffc0>\"\u001b[0;36m, line \u001b[0;32m6\u001b[0m\n\u001b[0;31m    both_together(num9=1,num8=2,num7=3,num6=4,num5=5,1,2,3,4,5)\u001b[0m\n\u001b[0m                                                              ^\u001b[0m\n\u001b[0;31mSyntaxError\u001b[0m\u001b[0;31m:\u001b[0m positional argument follows keyword argument\n"
          ]
        }
      ]
    },
    {
      "cell_type": "code",
      "source": [
        "# def both_together(*args,**kwargs):\n",
        "def both_together(**shyamlal, *ramlal):\n",
        "  return ramlal,shyamlal\n",
        "#both_together(1,2,3,4,5)\n",
        "#both_together(1,2,3,4,5,num9=1,num8=2,num7=3,num6=4,num5=5)\n",
        "both_together(num9=1,num8=2,num7=3,num6=4,num5=5,1,2,3,4,5)"
      ],
      "metadata": {
        "id": "O1x433_nH940"
      },
      "execution_count": null,
      "outputs": []
    },
    {
      "cell_type": "code",
      "source": [
        "def both_together(arg1, arg2, arg3, *ramlal, **shyamlal):\n",
        "  pass"
      ],
      "metadata": {
        "id": "eIodqSbPIdkl"
      },
      "execution_count": null,
      "outputs": []
    },
    {
      "cell_type": "code",
      "source": [
        "def both_together(arg1, arg2, arg3, *ramlal, **shyamlal):\n",
        "  return arg1, arg2, arg3, ramlal, shyamlal\n",
        "\n",
        "both_together(12,23,34,[1,2,3,4,5],(3,4,5,6,7),{5,5,6,6,6,7,7,7,7,8,8,8,8,8},{'a':'apple','b':'banana','c':'cherries'}, delta=[1,2,3,4,5],gamma=(3,4,5,6,7),beta={5,5,6,6,6,7,7,7,7,8,8,8,8,8},alpha={'a':'apple','b':'banana','c':'cherries'})"
      ],
      "metadata": {
        "colab": {
          "base_uri": "https://localhost:8080/"
        },
        "id": "FDWL34Z1I3rM",
        "outputId": "f015bb5c-2cee-43e8-ed85-189d8fc3d634"
      },
      "execution_count": null,
      "outputs": [
        {
          "output_type": "execute_result",
          "data": {
            "text/plain": [
              "(12,\n",
              " 23,\n",
              " 34,\n",
              " ([1, 2, 3, 4, 5],\n",
              "  (3, 4, 5, 6, 7),\n",
              "  {5, 6, 7, 8},\n",
              "  {'a': 'apple', 'b': 'banana', 'c': 'cherries'}),\n",
              " {'delta': [1, 2, 3, 4, 5],\n",
              "  'gamma': (3, 4, 5, 6, 7),\n",
              "  'beta': {5, 6, 7, 8},\n",
              "  'alpha': {'a': 'apple', 'b': 'banana', 'c': 'cherries'}})"
            ]
          },
          "metadata": {},
          "execution_count": 46
        }
      ]
    },
    {
      "cell_type": "markdown",
      "source": [
        "# Exception Handling"
      ],
      "metadata": {
        "id": "zDu5N28hBGy_"
      }
    },
    {
      "cell_type": "code",
      "source": [
        "print(\"Welcome to Python Programming\")"
      ],
      "metadata": {
        "colab": {
          "base_uri": "https://localhost:8080/"
        },
        "id": "Ajl3MHn2BGhW",
        "outputId": "390d7e8d-5de9-4d82-b58f-3ca071db9086"
      },
      "execution_count": null,
      "outputs": [
        {
          "output_type": "stream",
          "name": "stdout",
          "text": [
            "Welcome to Python Programming\n"
          ]
        }
      ]
    },
    {
      "cell_type": "code",
      "source": [
        "print(\"Welcome to Python Programming') # SyntaxError: unterminated string literal (detected at line 1)"
      ],
      "metadata": {
        "colab": {
          "base_uri": "https://localhost:8080/",
          "height": 131
        },
        "id": "10iIdQ0tBYHd",
        "outputId": "14dfc498-810d-4469-df6a-8b54bd93646a"
      },
      "execution_count": null,
      "outputs": [
        {
          "output_type": "error",
          "ename": "SyntaxError",
          "evalue": "ignored",
          "traceback": [
            "\u001b[0;36m  File \u001b[0;32m\"<ipython-input-2-9fc60926d326>\"\u001b[0;36m, line \u001b[0;32m1\u001b[0m\n\u001b[0;31m    print(\"Welcome to Python Programming')\u001b[0m\n\u001b[0m          ^\u001b[0m\n\u001b[0;31mSyntaxError\u001b[0m\u001b[0;31m:\u001b[0m unterminated string literal (detected at line 1)\n"
          ]
        }
      ]
    },
    {
      "cell_type": "code",
      "source": [
        "for i in range(100) # SyntaxError: expected ':'\n",
        "  print(i)"
      ],
      "metadata": {
        "colab": {
          "base_uri": "https://localhost:8080/",
          "height": 131
        },
        "id": "0PjnwdufBoXO",
        "outputId": "285877cc-6a74-43c2-cd69-574dfaeff5f4"
      },
      "execution_count": null,
      "outputs": [
        {
          "output_type": "error",
          "ename": "SyntaxError",
          "evalue": "ignored",
          "traceback": [
            "\u001b[0;36m  File \u001b[0;32m\"<ipython-input-3-515d424107db>\"\u001b[0;36m, line \u001b[0;32m1\u001b[0m\n\u001b[0;31m    for i in range(100)\u001b[0m\n\u001b[0m                       ^\u001b[0m\n\u001b[0;31mSyntaxError\u001b[0m\u001b[0;31m:\u001b[0m expected ':'\n"
          ]
        }
      ]
    },
    {
      "cell_type": "code",
      "source": [
        "a=100\n",
        "if a > 10:\n",
        "print('value of a', a) # IndentationError: expected an indented block after 'if' statement on line 2"
      ],
      "metadata": {
        "colab": {
          "base_uri": "https://localhost:8080/",
          "height": 131
        },
        "id": "3O8AUBjMBxWl",
        "outputId": "56d8b41a-0ad8-456a-dfdc-1b4ad58ff90b"
      },
      "execution_count": null,
      "outputs": [
        {
          "output_type": "error",
          "ename": "IndentationError",
          "evalue": "ignored",
          "traceback": [
            "\u001b[0;36m  File \u001b[0;32m\"<ipython-input-6-189b50165e6b>\"\u001b[0;36m, line \u001b[0;32m3\u001b[0m\n\u001b[0;31m    print('value of a', a) # IndentationError: expected an indented block after 'if' statement on line 2\u001b[0m\n\u001b[0m    ^\u001b[0m\n\u001b[0;31mIndentationError\u001b[0m\u001b[0;31m:\u001b[0m expected an indented block after 'if' statement on line 2\n"
          ]
        }
      ]
    },
    {
      "cell_type": "code",
      "source": [
        "pri = 100000\n",
        "rate = 10\n",
        "dur = 5\n",
        "\n",
        "si = (pri*rate*dur)/100\n",
        "\n",
        "print(\"simple interest \", si)"
      ],
      "metadata": {
        "colab": {
          "base_uri": "https://localhost:8080/"
        },
        "id": "ItuMZorZCenM",
        "outputId": "4b06c1bb-b1a1-4ea3-c975-67f4ca35a8c7"
      },
      "execution_count": null,
      "outputs": [
        {
          "output_type": "stream",
          "name": "stdout",
          "text": [
            "simple interest  50000.0\n"
          ]
        }
      ]
    },
    {
      "cell_type": "code",
      "source": [
        "si = 100000\n",
        "rate = int(input(\"Please enter rate of intrest \"))\n",
        "dur = 5\n",
        "\n",
        "# si = (pri*rate*dur)/100\n",
        "\n",
        "pri = (si * 100)/(rate * dur)\n",
        "\n",
        "print(\"principle \", pri)"
      ],
      "metadata": {
        "colab": {
          "base_uri": "https://localhost:8080/",
          "height": 253
        },
        "id": "mVUFw3iVDc9M",
        "outputId": "47a4add0-7dec-4e7b-d0b0-742ab8f95e67"
      },
      "execution_count": null,
      "outputs": [
        {
          "name": "stdout",
          "output_type": "stream",
          "text": [
            "Please enter rate of intrest 0\n"
          ]
        },
        {
          "output_type": "error",
          "ename": "ZeroDivisionError",
          "evalue": "ignored",
          "traceback": [
            "\u001b[0;31m---------------------------------------------------------------------------\u001b[0m",
            "\u001b[0;31mZeroDivisionError\u001b[0m                         Traceback (most recent call last)",
            "\u001b[0;32m<ipython-input-14-0714eef9340d>\u001b[0m in \u001b[0;36m<cell line: 7>\u001b[0;34m()\u001b[0m\n\u001b[1;32m      5\u001b[0m \u001b[0;31m# si = (pri*rate*dur)/100\u001b[0m\u001b[0;34m\u001b[0m\u001b[0;34m\u001b[0m\u001b[0m\n\u001b[1;32m      6\u001b[0m \u001b[0;34m\u001b[0m\u001b[0m\n\u001b[0;32m----> 7\u001b[0;31m \u001b[0mpri\u001b[0m \u001b[0;34m=\u001b[0m \u001b[0;34m(\u001b[0m\u001b[0msi\u001b[0m \u001b[0;34m*\u001b[0m \u001b[0;36m100\u001b[0m\u001b[0;34m)\u001b[0m\u001b[0;34m/\u001b[0m\u001b[0;34m(\u001b[0m\u001b[0mrate\u001b[0m \u001b[0;34m*\u001b[0m \u001b[0mdur\u001b[0m\u001b[0;34m)\u001b[0m\u001b[0;34m\u001b[0m\u001b[0;34m\u001b[0m\u001b[0m\n\u001b[0m\u001b[1;32m      8\u001b[0m \u001b[0;34m\u001b[0m\u001b[0m\n\u001b[1;32m      9\u001b[0m \u001b[0mprint\u001b[0m\u001b[0;34m(\u001b[0m\u001b[0;34m\"principle \"\u001b[0m\u001b[0;34m,\u001b[0m \u001b[0mpri\u001b[0m\u001b[0;34m)\u001b[0m\u001b[0;34m\u001b[0m\u001b[0;34m\u001b[0m\u001b[0m\n",
            "\u001b[0;31mZeroDivisionError\u001b[0m: division by zero"
          ]
        }
      ]
    },
    {
      "cell_type": "code",
      "source": [
        "del pri"
      ],
      "metadata": {
        "id": "8M7Sc8UvFkpm"
      },
      "execution_count": null,
      "outputs": []
    },
    {
      "cell_type": "code",
      "source": [
        "try:\n",
        "  si = 100000\n",
        "  rate = int(input(\"Please enter rate of intrest \"))\n",
        "  dur = 5\n",
        "\n",
        "  # si = (pri*rate*dur)/100\n",
        "\n",
        "  pri = (si * 100)/(rate * dur)\n",
        "except ZeroDivisionError as zde:\n",
        "  print('Exception ZeroDivisionError ', zde)"
      ],
      "metadata": {
        "colab": {
          "base_uri": "https://localhost:8080/"
        },
        "id": "EPFLgtDmFB3L",
        "outputId": "f3b35233-d9bd-4e89-f7b8-d7411203e45f"
      },
      "execution_count": null,
      "outputs": [
        {
          "output_type": "stream",
          "name": "stdout",
          "text": [
            "Please enter rate of intrest 0\n",
            "Exception ZeroDivisionError  division by zero\n"
          ]
        }
      ]
    },
    {
      "cell_type": "code",
      "source": [
        "tup1 = (1,2,3,4,5)\n",
        "tup1.index(3), tup1.count(4)"
      ],
      "metadata": {
        "colab": {
          "base_uri": "https://localhost:8080/"
        },
        "id": "V1HCj_FiGueh",
        "outputId": "6a9c435d-fb2d-4887-c063-8c3b0ea1382c"
      },
      "execution_count": null,
      "outputs": [
        {
          "output_type": "execute_result",
          "data": {
            "text/plain": [
              "(2, 1)"
            ]
          },
          "metadata": {},
          "execution_count": 24
        }
      ]
    },
    {
      "cell_type": "code",
      "source": [
        "tup1 = (1,2,3,4,5)\n",
        "tup1.index()\n",
        "tup1.count()\n",
        "\n",
        "tup1.append(6)\n",
        "\n",
        "print(tup1)"
      ],
      "metadata": {
        "colab": {
          "base_uri": "https://localhost:8080/",
          "height": 235
        },
        "id": "7u1qQCpQFxsS",
        "outputId": "af9b0964-8b0e-4d7f-f69c-b814b0ce976b"
      },
      "execution_count": null,
      "outputs": [
        {
          "output_type": "error",
          "ename": "AttributeError",
          "evalue": "ignored",
          "traceback": [
            "\u001b[0;31m---------------------------------------------------------------------------\u001b[0m",
            "\u001b[0;31mAttributeError\u001b[0m                            Traceback (most recent call last)",
            "\u001b[0;32m<ipython-input-19-f28304872919>\u001b[0m in \u001b[0;36m<cell line: 3>\u001b[0;34m()\u001b[0m\n\u001b[1;32m      1\u001b[0m \u001b[0mtup1\u001b[0m \u001b[0;34m=\u001b[0m \u001b[0;34m(\u001b[0m\u001b[0;36m1\u001b[0m\u001b[0;34m,\u001b[0m\u001b[0;36m2\u001b[0m\u001b[0;34m,\u001b[0m\u001b[0;36m3\u001b[0m\u001b[0;34m,\u001b[0m\u001b[0;36m4\u001b[0m\u001b[0;34m,\u001b[0m\u001b[0;36m5\u001b[0m\u001b[0;34m)\u001b[0m\u001b[0;34m\u001b[0m\u001b[0;34m\u001b[0m\u001b[0m\n\u001b[1;32m      2\u001b[0m \u001b[0;34m\u001b[0m\u001b[0m\n\u001b[0;32m----> 3\u001b[0;31m \u001b[0mtup1\u001b[0m\u001b[0;34m.\u001b[0m\u001b[0mappend\u001b[0m\u001b[0;34m(\u001b[0m\u001b[0;36m6\u001b[0m\u001b[0;34m)\u001b[0m\u001b[0;34m\u001b[0m\u001b[0;34m\u001b[0m\u001b[0m\n\u001b[0m\u001b[1;32m      4\u001b[0m \u001b[0;34m\u001b[0m\u001b[0m\n\u001b[1;32m      5\u001b[0m \u001b[0mprint\u001b[0m\u001b[0;34m(\u001b[0m\u001b[0mtup1\u001b[0m\u001b[0;34m)\u001b[0m\u001b[0;34m\u001b[0m\u001b[0;34m\u001b[0m\u001b[0m\n",
            "\u001b[0;31mAttributeError\u001b[0m: 'tuple' object has no attribute 'append'"
          ]
        }
      ]
    },
    {
      "cell_type": "code",
      "source": [
        "try:\n",
        "  tup1 = (1,2,3,4,5)\n",
        "\n",
        "  tup1.append(6)\n",
        "except AttributeError as ae:\n",
        "  print('exception AttributeError ', ae)"
      ],
      "metadata": {
        "colab": {
          "base_uri": "https://localhost:8080/"
        },
        "id": "VlSkIJcRHBpk",
        "outputId": "18d50e68-6229-4d20-f8a3-12b51c335597"
      },
      "execution_count": null,
      "outputs": [
        {
          "output_type": "stream",
          "name": "stdout",
          "text": [
            "exception AttributeError  'tuple' object has no attribute 'append'\n"
          ]
        }
      ]
    },
    {
      "cell_type": "code",
      "source": [
        "lst1 = [11,12,13,14,15,16,17,18,19,20]\n",
        "\n",
        "for i in lst1:\n",
        "  print(lst1[i])"
      ],
      "metadata": {
        "colab": {
          "base_uri": "https://localhost:8080/",
          "height": 201
        },
        "id": "UVEerInCHaCB",
        "outputId": "e749e341-2d43-4580-e147-24c4e9f06107"
      },
      "execution_count": null,
      "outputs": [
        {
          "output_type": "error",
          "ename": "IndexError",
          "evalue": "ignored",
          "traceback": [
            "\u001b[0;31m---------------------------------------------------------------------------\u001b[0m",
            "\u001b[0;31mIndexError\u001b[0m                                Traceback (most recent call last)",
            "\u001b[0;32m<ipython-input-28-120f6c4bd20c>\u001b[0m in \u001b[0;36m<cell line: 3>\u001b[0;34m()\u001b[0m\n\u001b[1;32m      2\u001b[0m \u001b[0;34m\u001b[0m\u001b[0m\n\u001b[1;32m      3\u001b[0m \u001b[0;32mfor\u001b[0m \u001b[0mi\u001b[0m \u001b[0;32min\u001b[0m \u001b[0mlst1\u001b[0m\u001b[0;34m:\u001b[0m\u001b[0;34m\u001b[0m\u001b[0;34m\u001b[0m\u001b[0m\n\u001b[0;32m----> 4\u001b[0;31m   \u001b[0mprint\u001b[0m\u001b[0;34m(\u001b[0m\u001b[0mlst1\u001b[0m\u001b[0;34m[\u001b[0m\u001b[0mi\u001b[0m\u001b[0;34m]\u001b[0m\u001b[0;34m)\u001b[0m\u001b[0;34m\u001b[0m\u001b[0;34m\u001b[0m\u001b[0m\n\u001b[0m",
            "\u001b[0;31mIndexError\u001b[0m: list index out of range"
          ]
        }
      ]
    },
    {
      "cell_type": "code",
      "source": [
        "try:\n",
        "  lst1 = [11,12,13,14,15,16,17,18,19,20]\n",
        "\n",
        "  for i in lst1:\n",
        "    print(lst1[i])\n",
        "except IndexError as ie:\n",
        "  print('Exception IndexError ', ie)"
      ],
      "metadata": {
        "colab": {
          "base_uri": "https://localhost:8080/"
        },
        "id": "do5Y49RNNQfd",
        "outputId": "d9273b2e-cac8-4dd4-8fff-21beaf019615"
      },
      "execution_count": null,
      "outputs": [
        {
          "output_type": "stream",
          "name": "stdout",
          "text": [
            "Exception IndexError  list index out of range\n"
          ]
        }
      ]
    },
    {
      "cell_type": "code",
      "source": [
        "try:\n",
        "  lst1 = [11,12,13,14,15,16,17,18,19,20]\n",
        "\n",
        "  for i in lst1:\n",
        "\n",
        "    print(lst1[i])\n",
        "except Exception as ie:\n",
        "  print('Exception ', ie)"
      ],
      "metadata": {
        "colab": {
          "base_uri": "https://localhost:8080/"
        },
        "id": "JE8QK9P-NtoO",
        "outputId": "470645c2-bfec-4c6d-ff81-117f0fbe0f91"
      },
      "execution_count": null,
      "outputs": [
        {
          "output_type": "stream",
          "name": "stdout",
          "text": [
            "Exception  list index out of range\n"
          ]
        }
      ]
    },
    {
      "cell_type": "code",
      "source": [
        "try:\n",
        "  lst1 = [11,12,13,14,15,16,17,18,19,20]\n",
        "\n",
        "  for i in lst1:\n",
        "    print(lst1[i])\n",
        "except Exception as ie:\n",
        "  print('Exception ', ie)\n",
        "except IndexError as ie:\n",
        "  print('Exception IndexError ', ie)"
      ],
      "metadata": {
        "colab": {
          "base_uri": "https://localhost:8080/"
        },
        "id": "INrhI7CkO-gk",
        "outputId": "a96b411b-6540-4923-c71f-2fd2729f62eb"
      },
      "execution_count": null,
      "outputs": [
        {
          "output_type": "stream",
          "name": "stdout",
          "text": [
            "Exception  list index out of range\n"
          ]
        }
      ]
    },
    {
      "cell_type": "code",
      "source": [
        "try:\n",
        "  tup1 = (11,12,13,14,15,16,17,18,19,20)\n",
        "\n",
        "  for i in tup1:\n",
        "    print(tup1[i])\n",
        "    tup1.append(tup1[i])\n",
        "except IndexError as ie:\n",
        "  print('Exception IndexError ', ie)\n",
        "except Exception as ie:\n",
        "  print('Exception ', ie)"
      ],
      "metadata": {
        "colab": {
          "base_uri": "https://localhost:8080/"
        },
        "id": "lCyuSD3oPbCp",
        "outputId": "f71b136e-f12b-45d1-da09-cafcd80e257c"
      },
      "execution_count": null,
      "outputs": [
        {
          "output_type": "stream",
          "name": "stdout",
          "text": [
            "Exception IndexError  tuple index out of range\n"
          ]
        }
      ]
    },
    {
      "cell_type": "code",
      "source": [
        "try:\n",
        "  tup1 = (11,12,13,14,15,16,17,18,19,20)\n",
        "\n",
        "  for i in tup1:\n",
        "    tup1.append(tup1[i])\n",
        "    print(tup1[i])\n",
        "except IndexError as ie:\n",
        "  print('Exception IndexError ', ie)\n",
        "except Exception as ie:\n",
        "  print('Exception ', ie)"
      ],
      "metadata": {
        "colab": {
          "base_uri": "https://localhost:8080/"
        },
        "id": "53vAOqKAQT4z",
        "outputId": "3874ec4e-5b9f-4a47-9e8f-49a4aee0044e"
      },
      "execution_count": null,
      "outputs": [
        {
          "output_type": "stream",
          "name": "stdout",
          "text": [
            "Exception  'tuple' object has no attribute 'append'\n"
          ]
        }
      ]
    },
    {
      "cell_type": "code",
      "source": [
        "# write a program\n",
        "# 1. Exception\n",
        "# 2. ZeroDivisionError\n",
        "# 3. AttributeError\n",
        "# 4. IndexError"
      ],
      "metadata": {
        "id": "fHSU6LoZSKEL"
      },
      "execution_count": null,
      "outputs": []
    }
  ]
}