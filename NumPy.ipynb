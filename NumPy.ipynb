{
  "nbformat": 4,
  "nbformat_minor": 0,
  "metadata": {
    "colab": {
      "provenance": [],
      "include_colab_link": true
    },
    "kernelspec": {
      "name": "python3",
      "display_name": "Python 3"
    },
    "language_info": {
      "name": "python"
    }
  },
  "cells": [
    {
      "cell_type": "markdown",
      "metadata": {
        "id": "view-in-github",
        "colab_type": "text"
      },
      "source": [
        "<a href=\"https://colab.research.google.com/github/smkandel/Courses/blob/main/NumPy.ipynb\" target=\"_parent\"><img src=\"https://colab.research.google.com/assets/colab-badge.svg\" alt=\"Open In Colab\"/></a>"
      ]
    },
    {
      "cell_type": "code",
      "execution_count": null,
      "metadata": {
        "id": "3tMYu2cGTh_h",
        "colab": {
          "base_uri": "https://localhost:8080/"
        },
        "outputId": "e56ddf6a-b01d-4ec6-b532-4d647f2cffb1"
      },
      "outputs": [
        {
          "output_type": "stream",
          "name": "stdout",
          "text": [
            "Looking in indexes: https://pypi.org/simple, https://us-python.pkg.dev/colab-wheels/public/simple/\n",
            "Requirement already satisfied: pandas in /usr/local/lib/python3.10/dist-packages (1.5.3)\n",
            "Requirement already satisfied: python-dateutil>=2.8.1 in /usr/local/lib/python3.10/dist-packages (from pandas) (2.8.2)\n",
            "Requirement already satisfied: pytz>=2020.1 in /usr/local/lib/python3.10/dist-packages (from pandas) (2022.7.1)\n",
            "Requirement already satisfied: numpy>=1.21.0 in /usr/local/lib/python3.10/dist-packages (from pandas) (1.22.4)\n",
            "Requirement already satisfied: six>=1.5 in /usr/local/lib/python3.10/dist-packages (from python-dateutil>=2.8.1->pandas) (1.16.0)\n"
          ]
        }
      ],
      "source": [
        "!pip install pandas"
      ]
    },
    {
      "cell_type": "code",
      "source": [
        "!pip install numpy"
      ],
      "metadata": {
        "id": "NjSJ1S0mU3uv",
        "colab": {
          "base_uri": "https://localhost:8080/"
        },
        "outputId": "cababec5-7d31-44bc-f9b8-be129238b7c6"
      },
      "execution_count": null,
      "outputs": [
        {
          "output_type": "stream",
          "name": "stdout",
          "text": [
            "Looking in indexes: https://pypi.org/simple, https://us-python.pkg.dev/colab-wheels/public/simple/\n",
            "Requirement already satisfied: numpy in /usr/local/lib/python3.10/dist-packages (1.22.4)\n"
          ]
        }
      ]
    },
    {
      "cell_type": "code",
      "source": [
        "!pip install matplotlib"
      ],
      "metadata": {
        "id": "DAQku1v4VG2L",
        "colab": {
          "base_uri": "https://localhost:8080/"
        },
        "outputId": "b098969c-d9cc-4ca3-b19b-1046c6223a96"
      },
      "execution_count": null,
      "outputs": [
        {
          "output_type": "stream",
          "name": "stdout",
          "text": [
            "Looking in indexes: https://pypi.org/simple, https://us-python.pkg.dev/colab-wheels/public/simple/\n",
            "Requirement already satisfied: matplotlib in /usr/local/lib/python3.10/dist-packages (3.7.1)\n",
            "Requirement already satisfied: contourpy>=1.0.1 in /usr/local/lib/python3.10/dist-packages (from matplotlib) (1.0.7)\n",
            "Requirement already satisfied: cycler>=0.10 in /usr/local/lib/python3.10/dist-packages (from matplotlib) (0.11.0)\n",
            "Requirement already satisfied: fonttools>=4.22.0 in /usr/local/lib/python3.10/dist-packages (from matplotlib) (4.39.3)\n",
            "Requirement already satisfied: kiwisolver>=1.0.1 in /usr/local/lib/python3.10/dist-packages (from matplotlib) (1.4.4)\n",
            "Requirement already satisfied: numpy>=1.20 in /usr/local/lib/python3.10/dist-packages (from matplotlib) (1.22.4)\n",
            "Requirement already satisfied: packaging>=20.0 in /usr/local/lib/python3.10/dist-packages (from matplotlib) (23.1)\n",
            "Requirement already satisfied: pillow>=6.2.0 in /usr/local/lib/python3.10/dist-packages (from matplotlib) (8.4.0)\n",
            "Requirement already satisfied: pyparsing>=2.3.1 in /usr/local/lib/python3.10/dist-packages (from matplotlib) (3.0.9)\n",
            "Requirement already satisfied: python-dateutil>=2.7 in /usr/local/lib/python3.10/dist-packages (from matplotlib) (2.8.2)\n",
            "Requirement already satisfied: six>=1.5 in /usr/local/lib/python3.10/dist-packages (from python-dateutil>=2.7->matplotlib) (1.16.0)\n"
          ]
        }
      ]
    },
    {
      "cell_type": "code",
      "source": [
        "!pip install sklearn # scikit-learn"
      ],
      "metadata": {
        "id": "7O-zhPynVOX4",
        "colab": {
          "base_uri": "https://localhost:8080/"
        },
        "outputId": "47b70e87-6876-4e31-c400-febe8efec727"
      },
      "execution_count": null,
      "outputs": [
        {
          "output_type": "stream",
          "name": "stdout",
          "text": [
            "Looking in indexes: https://pypi.org/simple, https://us-python.pkg.dev/colab-wheels/public/simple/\n",
            "Collecting sklearn\n",
            "  Downloading sklearn-0.0.post5.tar.gz (3.7 kB)\n",
            "  Preparing metadata (setup.py) ... \u001b[?25l\u001b[?25hdone\n",
            "Building wheels for collected packages: sklearn\n",
            "  Building wheel for sklearn (setup.py) ... \u001b[?25l\u001b[?25hdone\n",
            "  Created wheel for sklearn: filename=sklearn-0.0.post5-py3-none-any.whl size=2950 sha256=cb3d2c6cfd4b31294d867b16f5de4097e19ed77e3e7493703a4bf3a197bd9971\n",
            "  Stored in directory: /root/.cache/pip/wheels/38/1f/8d/4f812c590e074c1e928f5cec67bf5053b71f38e2648739403a\n",
            "Successfully built sklearn\n",
            "Installing collected packages: sklearn\n",
            "Successfully installed sklearn-0.0.post5\n"
          ]
        }
      ]
    },
    {
      "cell_type": "code",
      "source": [
        "import numpy as np"
      ],
      "metadata": {
        "id": "9Kig7oLEZW8_"
      },
      "execution_count": null,
      "outputs": []
    },
    {
      "cell_type": "code",
      "source": [
        "lst1 = [1,2,3,4,5,6,7,8,9,10]\n",
        "arr1 = np.array(lst1)\n",
        "print(arr1)\n",
        "print(type(arr1))"
      ],
      "metadata": {
        "colab": {
          "base_uri": "https://localhost:8080/"
        },
        "id": "Xu8djDgbaZGv",
        "outputId": "230e6701-da8f-414c-d283-fda6d4b23dba"
      },
      "execution_count": null,
      "outputs": [
        {
          "output_type": "stream",
          "name": "stdout",
          "text": [
            "[ 1  2  3  4  5  6  7  8  9 10]\n",
            "<class 'numpy.ndarray'>\n"
          ]
        }
      ]
    },
    {
      "cell_type": "code",
      "source": [
        "tup1 = ['p1','o2','i3','u4','y5','t6','r7','e8','w9','q10']\n",
        "arr2 = np.array(tup1)\n",
        "print(arr2)\n",
        "print(type(arr2))"
      ],
      "metadata": {
        "colab": {
          "base_uri": "https://localhost:8080/"
        },
        "id": "R8ekCuXjbJ7Y",
        "outputId": "bb15b912-d39d-4c5d-d151-65e5dbfb7a9d"
      },
      "execution_count": null,
      "outputs": [
        {
          "output_type": "stream",
          "name": "stdout",
          "text": [
            "['p1' 'o2' 'i3' 'u4' 'y5' 't6' 'r7' 'e8' 'w9' 'q10']\n",
            "<class 'numpy.ndarray'>\n"
          ]
        }
      ]
    },
    {
      "cell_type": "code",
      "source": [
        "set1 = {'p1','o2','i3','u4','y5','t6','r7','e8','w9','q10',True,False,1,2,3,4,5,6,7,8,9,10}\n",
        "arr3 = np.array(set1)\n",
        "print(arr3)\n",
        "print(type(arr3))"
      ],
      "metadata": {
        "colab": {
          "base_uri": "https://localhost:8080/"
        },
        "id": "I-PMQr8bbZn-",
        "outputId": "329d527f-a94a-4ebd-86bb-765054558b79"
      },
      "execution_count": null,
      "outputs": [
        {
          "output_type": "stream",
          "name": "stdout",
          "text": [
            "{False, 'u4', 2, 3, True, 4, 5, 6, 7, 'e8', 8, 9, 10, 'i3', 'p1', 'w9', 't6', 'o2', 'r7', 'q10', 'y5'}\n",
            "<class 'numpy.ndarray'>\n"
          ]
        }
      ]
    },
    {
      "cell_type": "code",
      "source": [
        "dict1 = {'p1':1,'o2':2,'i3':3,'u4':4,'y5':5,'t6':6,'r7':7,'e8':8,'w9':9,'q10':10}\n",
        "arr4 = np.array(dict1)\n",
        "print(arr4)\n",
        "print(type(arr4))"
      ],
      "metadata": {
        "colab": {
          "base_uri": "https://localhost:8080/"
        },
        "id": "K8uhfLlxb1Df",
        "outputId": "7fd72c32-9083-4d68-8328-3ac523656f4d"
      },
      "execution_count": null,
      "outputs": [
        {
          "output_type": "stream",
          "name": "stdout",
          "text": [
            "{'p1': 1, 'o2': 2, 'i3': 3, 'u4': 4, 'y5': 5, 't6': 6, 'r7': 7, 'e8': 8, 'w9': 9, 'q10': 10}\n",
            "<class 'numpy.ndarray'>\n"
          ]
        }
      ]
    },
    {
      "cell_type": "code",
      "source": [
        "str1 = 'Python Programming'\n",
        "arr5 = np.array(str1)\n",
        "print(arr5)\n",
        "print(type(arr5))"
      ],
      "metadata": {
        "colab": {
          "base_uri": "https://localhost:8080/"
        },
        "id": "jZygeMMacMc_",
        "outputId": "094b13d4-89c2-404e-d484-6ecb3cfe212b"
      },
      "execution_count": null,
      "outputs": [
        {
          "output_type": "stream",
          "name": "stdout",
          "text": [
            "Python Programming\n",
            "<class 'numpy.ndarray'>\n"
          ]
        }
      ]
    },
    {
      "cell_type": "code",
      "source": [
        "lst1 = [10,20,30,40,50,60,70,80,90,100]\n",
        "arr1 = np.array(lst1)\n",
        "print(arr1)\n",
        "print(type(arr1))\n",
        "arr1"
      ],
      "metadata": {
        "colab": {
          "base_uri": "https://localhost:8080/"
        },
        "id": "aUw7YjOCgxen",
        "outputId": "e36309bb-a04c-4d0c-e00b-7e4eed998a61"
      },
      "execution_count": null,
      "outputs": [
        {
          "output_type": "stream",
          "name": "stdout",
          "text": [
            "[ 10  20  30  40  50  60  70  80  90 100]\n",
            "<class 'numpy.ndarray'>\n"
          ]
        },
        {
          "output_type": "execute_result",
          "data": {
            "text/plain": [
              "array([ 10,  20,  30,  40,  50,  60,  70,  80,  90, 100])"
            ]
          },
          "metadata": {},
          "execution_count": 11
        }
      ]
    },
    {
      "cell_type": "code",
      "source": [
        "arr1.dtype"
      ],
      "metadata": {
        "colab": {
          "base_uri": "https://localhost:8080/"
        },
        "id": "CYh9MMuuhVgI",
        "outputId": "a3f85e2c-ea28-4fd3-d225-e315f6b00954"
      },
      "execution_count": null,
      "outputs": [
        {
          "output_type": "execute_result",
          "data": {
            "text/plain": [
              "dtype('int64')"
            ]
          },
          "metadata": {},
          "execution_count": 12
        }
      ]
    },
    {
      "cell_type": "code",
      "source": [
        "arr1.astype(float)"
      ],
      "metadata": {
        "colab": {
          "base_uri": "https://localhost:8080/"
        },
        "id": "igsaQ7HOhYu-",
        "outputId": "a8feb188-d4d1-49fa-bead-a14d219a23e1"
      },
      "execution_count": null,
      "outputs": [
        {
          "output_type": "execute_result",
          "data": {
            "text/plain": [
              "array([ 10.,  20.,  30.,  40.,  50.,  60.,  70.,  80.,  90., 100.])"
            ]
          },
          "metadata": {},
          "execution_count": 13
        }
      ]
    },
    {
      "cell_type": "code",
      "source": [
        "np.arange(10)"
      ],
      "metadata": {
        "colab": {
          "base_uri": "https://localhost:8080/"
        },
        "id": "w024Rui0h19n",
        "outputId": "51a7dc87-e0f3-4cc5-aa06-864de8bec0f4"
      },
      "execution_count": null,
      "outputs": [
        {
          "output_type": "execute_result",
          "data": {
            "text/plain": [
              "array([0, 1, 2, 3, 4, 5, 6, 7, 8, 9])"
            ]
          },
          "metadata": {},
          "execution_count": 14
        }
      ]
    },
    {
      "cell_type": "code",
      "source": [
        "np.arange(10, 100)"
      ],
      "metadata": {
        "colab": {
          "base_uri": "https://localhost:8080/"
        },
        "id": "oeBrcyrfh7wn",
        "outputId": "a13f9d7f-22f4-405e-d4b2-7f5e45d9810f"
      },
      "execution_count": null,
      "outputs": [
        {
          "output_type": "execute_result",
          "data": {
            "text/plain": [
              "array([10, 11, 12, 13, 14, 15, 16, 17, 18, 19, 20, 21, 22, 23, 24, 25, 26,\n",
              "       27, 28, 29, 30, 31, 32, 33, 34, 35, 36, 37, 38, 39, 40, 41, 42, 43,\n",
              "       44, 45, 46, 47, 48, 49, 50, 51, 52, 53, 54, 55, 56, 57, 58, 59, 60,\n",
              "       61, 62, 63, 64, 65, 66, 67, 68, 69, 70, 71, 72, 73, 74, 75, 76, 77,\n",
              "       78, 79, 80, 81, 82, 83, 84, 85, 86, 87, 88, 89, 90, 91, 92, 93, 94,\n",
              "       95, 96, 97, 98, 99])"
            ]
          },
          "metadata": {},
          "execution_count": 15
        }
      ]
    },
    {
      "cell_type": "code",
      "source": [
        "np.arange(0, 100, 10)"
      ],
      "metadata": {
        "colab": {
          "base_uri": "https://localhost:8080/"
        },
        "id": "cWhVOzq4iAOJ",
        "outputId": "a0aea4f6-979e-4d10-aee0-17ade88d6000"
      },
      "execution_count": null,
      "outputs": [
        {
          "output_type": "execute_result",
          "data": {
            "text/plain": [
              "array([ 0, 10, 20, 30, 40, 50, 60, 70, 80, 90])"
            ]
          },
          "metadata": {},
          "execution_count": 16
        }
      ]
    },
    {
      "cell_type": "code",
      "source": [
        "np.arange(100,0, -10)"
      ],
      "metadata": {
        "colab": {
          "base_uri": "https://localhost:8080/"
        },
        "id": "RwZ6fz6DiICR",
        "outputId": "4eb09eba-b974-4e1d-b28a-c5f34b3da813"
      },
      "execution_count": null,
      "outputs": [
        {
          "output_type": "execute_result",
          "data": {
            "text/plain": [
              "array([100,  90,  80,  70,  60,  50,  40,  30,  20,  10])"
            ]
          },
          "metadata": {},
          "execution_count": 17
        }
      ]
    },
    {
      "cell_type": "code",
      "source": [
        "arr7 = np.arange(100,0, -10)\n",
        "arr7, arr7.dtype, arr7.shape"
      ],
      "metadata": {
        "colab": {
          "base_uri": "https://localhost:8080/"
        },
        "id": "aADMHRfziS6C",
        "outputId": "5947c75d-a016-4b3c-c681-3d4c217dc385"
      },
      "execution_count": null,
      "outputs": [
        {
          "output_type": "execute_result",
          "data": {
            "text/plain": [
              "(array([100,  90,  80,  70,  60,  50,  40,  30,  20,  10]),\n",
              " dtype('int64'),\n",
              " (10,))"
            ]
          },
          "metadata": {},
          "execution_count": 18
        }
      ]
    },
    {
      "cell_type": "code",
      "source": [
        "lst2 = [[1,2,3],[4,5,6],[7,8,9]]\n",
        "arr7_2d = np.array(lst2)\n",
        "print(arr7_2d)\n",
        "print(type(arr7_2d))\n",
        "arr7_2d.dtype, arr7_2d.size, arr7_2d.ndim, arr7_2d.shape"
      ],
      "metadata": {
        "colab": {
          "base_uri": "https://localhost:8080/"
        },
        "id": "jsEbfD2girjn",
        "outputId": "72b4beee-75ed-4f8d-fc2d-35337f36cfec"
      },
      "execution_count": null,
      "outputs": [
        {
          "output_type": "stream",
          "name": "stdout",
          "text": [
            "[[1 2 3]\n",
            " [4 5 6]\n",
            " [7 8 9]]\n",
            "<class 'numpy.ndarray'>\n"
          ]
        },
        {
          "output_type": "execute_result",
          "data": {
            "text/plain": [
              "(dtype('int64'), 9, 2, (3, 3))"
            ]
          },
          "metadata": {},
          "execution_count": 19
        }
      ]
    },
    {
      "cell_type": "code",
      "source": [
        "lst3 = [\n",
        "        [\n",
        "            [1,2,3],[2,3,4],[3,4,5]\n",
        "         ],\n",
        "          [\n",
        "              [4,5,6],[5,6,7],[6,7,8]\n",
        "           ],\n",
        "            [\n",
        "                [7,8,9],[8,9,0],[9,0,1]\n",
        "             ]\n",
        "        ]"
      ],
      "metadata": {
        "id": "LMzVAR89mJhX"
      },
      "execution_count": null,
      "outputs": []
    },
    {
      "cell_type": "code",
      "source": [
        "arr8_3d = np.array(lst3)"
      ],
      "metadata": {
        "id": "vyAmX6XDm9A7"
      },
      "execution_count": null,
      "outputs": []
    },
    {
      "cell_type": "code",
      "source": [
        "arr8_3d"
      ],
      "metadata": {
        "colab": {
          "base_uri": "https://localhost:8080/"
        },
        "id": "X0XPq_YNnCw5",
        "outputId": "0fbdf417-626b-4877-ab02-5809464bcf4d"
      },
      "execution_count": null,
      "outputs": [
        {
          "output_type": "execute_result",
          "data": {
            "text/plain": [
              "array([[[1, 2, 3],\n",
              "        [2, 3, 4],\n",
              "        [3, 4, 5]],\n",
              "\n",
              "       [[4, 5, 6],\n",
              "        [5, 6, 7],\n",
              "        [6, 7, 8]],\n",
              "\n",
              "       [[7, 8, 9],\n",
              "        [8, 9, 0],\n",
              "        [9, 0, 1]]])"
            ]
          },
          "metadata": {},
          "execution_count": 26
        }
      ]
    },
    {
      "cell_type": "code",
      "source": [
        "arr8_3d.ndim"
      ],
      "metadata": {
        "colab": {
          "base_uri": "https://localhost:8080/"
        },
        "id": "OrP8UubInFAW",
        "outputId": "633db59d-b384-4ffe-a722-3f351d4c2941"
      },
      "execution_count": null,
      "outputs": [
        {
          "output_type": "execute_result",
          "data": {
            "text/plain": [
              "3"
            ]
          },
          "metadata": {},
          "execution_count": 27
        }
      ]
    },
    {
      "cell_type": "code",
      "source": [
        "arr8_3d.shape"
      ],
      "metadata": {
        "colab": {
          "base_uri": "https://localhost:8080/"
        },
        "id": "6D4cXwABnHAG",
        "outputId": "4634fe0a-bf5c-48fc-e0da-1104dd81555b"
      },
      "execution_count": null,
      "outputs": [
        {
          "output_type": "execute_result",
          "data": {
            "text/plain": [
              "(3, 3, 3)"
            ]
          },
          "metadata": {},
          "execution_count": 28
        }
      ]
    },
    {
      "cell_type": "code",
      "source": [
        "np.random.random(10)"
      ],
      "metadata": {
        "colab": {
          "base_uri": "https://localhost:8080/"
        },
        "id": "BJiTWsb5p-7K",
        "outputId": "2f52a66c-fdd5-43c8-86fc-09695cbda4d7"
      },
      "execution_count": null,
      "outputs": [
        {
          "output_type": "execute_result",
          "data": {
            "text/plain": [
              "array([0.56944356, 0.86078123, 0.80927569, 0.1434573 , 0.33913777,\n",
              "       0.19072474, 0.86748173, 0.58593626, 0.38710305, 0.53477577])"
            ]
          },
          "metadata": {},
          "execution_count": 29
        }
      ]
    },
    {
      "cell_type": "code",
      "source": [
        "np.random.random(1000)"
      ],
      "metadata": {
        "colab": {
          "base_uri": "https://localhost:8080/"
        },
        "id": "TlrVv3ndqCfG",
        "outputId": "58f34c77-37fe-4a20-8eea-62d5a6c94593"
      },
      "execution_count": null,
      "outputs": [
        {
          "output_type": "execute_result",
          "data": {
            "text/plain": [
              "array([1.73718145e-01, 5.26876750e-01, 7.69568682e-01, 4.09202973e-01,\n",
              "       7.39786397e-01, 1.73078537e-01, 9.52541375e-01, 6.97678290e-01,\n",
              "       8.45057612e-01, 9.40828251e-01, 7.04507952e-02, 6.50810290e-01,\n",
              "       7.75518621e-01, 3.20835524e-01, 4.96896452e-01, 6.24777176e-01,\n",
              "       2.44596959e-01, 1.69910838e-01, 7.96427013e-02, 5.03191235e-01,\n",
              "       3.25264788e-02, 9.57912781e-01, 8.49321476e-01, 3.22387296e-01,\n",
              "       6.65654899e-01, 5.75803177e-01, 2.78664141e-01, 4.43494062e-01,\n",
              "       7.59149344e-01, 6.58761795e-01, 3.35119750e-01, 6.16253262e-01,\n",
              "       9.20531162e-01, 8.97799875e-02, 1.92522028e-02, 9.06529045e-01,\n",
              "       8.26244336e-01, 2.09063016e-01, 4.65027044e-01, 7.53805276e-01,\n",
              "       3.35819144e-01, 3.99940070e-01, 1.99250045e-02, 2.96020330e-02,\n",
              "       7.65780402e-02, 3.62281396e-01, 3.73336025e-01, 5.84428107e-01,\n",
              "       5.01694050e-01, 3.32907579e-01, 5.99466418e-01, 8.61745094e-01,\n",
              "       8.81940680e-01, 9.80246617e-01, 4.05596151e-01, 4.85010931e-01,\n",
              "       4.14347833e-01, 7.72876243e-01, 5.12308905e-01, 7.47516497e-01,\n",
              "       6.30575143e-01, 2.66933790e-01, 2.68666561e-03, 9.17566075e-01,\n",
              "       4.73176694e-01, 2.86780456e-01, 5.25604493e-01, 7.79979033e-01,\n",
              "       6.25431294e-02, 7.30076682e-01, 7.42268652e-01, 5.22763699e-01,\n",
              "       7.80943113e-01, 3.34297312e-01, 8.10613864e-01, 2.09660500e-01,\n",
              "       9.88363822e-01, 3.87755542e-02, 2.14683337e-01, 7.20549462e-01,\n",
              "       5.58348749e-01, 7.86543544e-01, 2.11000234e-01, 2.45839293e-01,\n",
              "       4.92051911e-01, 6.05246450e-01, 2.07009338e-01, 2.09932438e-01,\n",
              "       4.74196761e-01, 9.35918663e-01, 9.37905046e-01, 9.03215280e-01,\n",
              "       4.91465517e-01, 8.34220405e-01, 3.23455255e-01, 6.46640949e-01,\n",
              "       6.03197796e-01, 4.73816804e-01, 1.38870732e-01, 7.15451031e-01,\n",
              "       2.10750894e-01, 7.60632135e-02, 7.45449841e-01, 3.15179563e-01,\n",
              "       8.98063630e-01, 8.32579247e-02, 6.75402262e-01, 7.75582014e-01,\n",
              "       6.07137704e-01, 7.02006328e-01, 6.95135845e-01, 5.50324448e-01,\n",
              "       4.96370049e-01, 5.94856190e-01, 9.51554249e-02, 9.15105688e-01,\n",
              "       4.33024989e-01, 1.35770865e-01, 2.71378533e-01, 6.26363376e-01,\n",
              "       8.78814989e-01, 5.58124401e-01, 3.17443231e-01, 5.26683746e-01,\n",
              "       5.43894107e-01, 5.38078395e-01, 7.13326576e-01, 7.40735436e-01,\n",
              "       7.45738906e-01, 5.77026118e-01, 7.41816836e-01, 7.16303337e-02,\n",
              "       1.44906164e-01, 3.06743327e-01, 8.79970872e-01, 1.58869624e-02,\n",
              "       9.76332775e-01, 6.55391754e-01, 2.00666212e-01, 3.27114408e-01,\n",
              "       3.34168975e-01, 2.88111238e-01, 7.21839663e-01, 6.89042114e-01,\n",
              "       1.06893128e-01, 6.25712477e-01, 2.27507278e-01, 1.80842887e-01,\n",
              "       5.98974036e-02, 1.50266951e-01, 7.80917335e-01, 9.67844718e-01,\n",
              "       7.62389714e-01, 6.42267449e-01, 1.57465001e-01, 7.07068053e-01,\n",
              "       2.40505258e-01, 9.79950282e-01, 1.58286707e-01, 3.95697656e-01,\n",
              "       6.72823009e-01, 3.69073257e-01, 6.75135652e-01, 1.72919474e-01,\n",
              "       3.84789285e-01, 7.14842809e-02, 5.87848556e-01, 9.44092583e-01,\n",
              "       6.33672717e-01, 3.73353604e-01, 7.72799313e-01, 8.30597015e-01,\n",
              "       4.41707423e-01, 3.94207319e-01, 2.30807540e-01, 9.86113045e-01,\n",
              "       1.05286449e-01, 5.20558096e-01, 6.44435542e-01, 7.90079702e-01,\n",
              "       9.71097607e-01, 1.70705533e-01, 2.84007969e-01, 8.54575711e-01,\n",
              "       9.60370337e-01, 5.29806864e-01, 2.18147999e-01, 6.27222772e-01,\n",
              "       3.40994904e-01, 6.31643793e-01, 6.24004721e-01, 9.01930638e-02,\n",
              "       4.79992589e-01, 2.32301776e-01, 5.27703774e-02, 3.98499152e-01,\n",
              "       8.24566679e-01, 6.92824208e-01, 9.00140316e-01, 4.80305474e-01,\n",
              "       9.22977116e-01, 1.40654383e-01, 3.30109512e-01, 8.59953344e-01,\n",
              "       1.10827276e-01, 1.31783945e-01, 6.23153968e-01, 1.12267613e-02,\n",
              "       5.57241200e-01, 1.24763932e-01, 3.48700467e-01, 9.96137456e-01,\n",
              "       4.30740666e-01, 2.02507883e-01, 5.13277437e-01, 9.96342951e-01,\n",
              "       7.52819419e-01, 2.98235768e-01, 6.26386238e-01, 7.10306087e-01,\n",
              "       6.62850953e-01, 4.83795864e-01, 6.41065077e-01, 6.49811764e-01,\n",
              "       8.87693183e-01, 4.22914824e-01, 4.71921385e-01, 5.53341452e-01,\n",
              "       4.74302578e-01, 9.56671018e-01, 5.66995356e-01, 3.31166409e-01,\n",
              "       9.20818730e-01, 4.46356116e-01, 1.43058388e-01, 1.53631677e-01,\n",
              "       9.11953312e-01, 5.86688272e-01, 3.85133274e-01, 4.94871823e-01,\n",
              "       7.76568950e-01, 5.22770460e-02, 1.12452465e-01, 9.38736268e-01,\n",
              "       8.24561140e-01, 9.63890186e-01, 6.36894406e-01, 7.61872779e-02,\n",
              "       6.81111641e-01, 7.36881996e-01, 2.84463754e-01, 5.59711902e-01,\n",
              "       7.78886772e-01, 9.56711790e-01, 5.63715316e-01, 9.86483464e-01,\n",
              "       9.62952266e-01, 3.35235351e-01, 3.95743543e-02, 8.08281395e-01,\n",
              "       2.69642371e-02, 6.75444902e-01, 5.92599518e-01, 9.78309328e-01,\n",
              "       8.56902148e-01, 4.71269783e-01, 2.91412471e-01, 2.61870258e-01,\n",
              "       6.70580899e-01, 4.04239532e-01, 8.35593441e-01, 1.45096056e-01,\n",
              "       2.94317402e-01, 1.75450698e-01, 1.49234144e-01, 6.52409918e-01,\n",
              "       1.42396725e-01, 1.62363452e-01, 1.59362745e-01, 7.17067895e-01,\n",
              "       7.94921548e-01, 8.80655466e-01, 4.83775492e-01, 6.95343830e-01,\n",
              "       6.88021279e-01, 8.19923030e-01, 7.74490233e-01, 6.39260114e-01,\n",
              "       9.65989358e-01, 2.60768507e-01, 7.80671036e-01, 3.13090063e-01,\n",
              "       6.31904573e-01, 9.22064898e-01, 9.45498404e-01, 7.39955452e-01,\n",
              "       6.75786541e-01, 7.48352281e-01, 6.15167738e-01, 7.23842514e-01,\n",
              "       2.69207182e-02, 4.45158314e-01, 3.61922832e-01, 9.07295500e-01,\n",
              "       2.46994941e-01, 3.41675517e-01, 6.92854165e-01, 2.93033271e-01,\n",
              "       8.68815514e-01, 7.43489421e-01, 5.36889316e-01, 9.41210541e-02,\n",
              "       3.60238869e-01, 7.25122204e-01, 8.26838529e-01, 4.38022089e-01,\n",
              "       3.70335699e-01, 6.75633404e-01, 2.76973399e-01, 3.83587645e-01,\n",
              "       5.06457426e-01, 2.18374484e-01, 6.27415734e-01, 2.45771576e-01,\n",
              "       7.57618809e-01, 3.72386706e-01, 8.28522544e-01, 7.34611379e-01,\n",
              "       9.28063172e-01, 5.39819144e-01, 5.67885411e-01, 4.52770677e-01,\n",
              "       7.18778279e-01, 2.59750654e-01, 6.49692287e-01, 1.68058785e-01,\n",
              "       8.56606769e-01, 7.22746777e-01, 6.64994767e-01, 2.36346070e-01,\n",
              "       3.95529529e-01, 7.54786322e-01, 7.91783660e-01, 4.70110224e-01,\n",
              "       9.69127004e-01, 6.65733091e-01, 4.36239478e-01, 4.88938200e-01,\n",
              "       4.85644500e-01, 9.39610947e-03, 5.82544549e-01, 1.76349027e-01,\n",
              "       6.30007065e-02, 2.14107569e-01, 3.49159512e-01, 8.08464156e-01,\n",
              "       9.95646362e-02, 9.57628291e-01, 2.45103587e-01, 8.15639793e-01,\n",
              "       1.68416334e-01, 5.72749958e-02, 6.55782713e-01, 1.86692246e-02,\n",
              "       8.25361626e-01, 8.65138822e-01, 7.05066982e-01, 7.99424197e-01,\n",
              "       9.43533081e-01, 4.67683461e-01, 1.57415324e-01, 7.71350379e-01,\n",
              "       6.15390841e-01, 9.79776167e-01, 2.52926430e-01, 8.15099793e-03,\n",
              "       2.29476451e-01, 4.27100382e-01, 4.77361522e-01, 9.55730359e-01,\n",
              "       7.31925042e-01, 2.92454907e-01, 9.07779610e-01, 1.62503991e-02,\n",
              "       9.05708234e-02, 2.29451945e-01, 6.73047046e-01, 5.64601492e-01,\n",
              "       1.31184784e-01, 3.61330209e-01, 5.48637136e-01, 6.47784193e-01,\n",
              "       2.83073427e-01, 4.39096930e-01, 5.32028252e-02, 3.80727572e-01,\n",
              "       5.90779344e-02, 2.77444179e-01, 2.24789883e-01, 9.17516064e-01,\n",
              "       1.87311309e-01, 4.94129792e-02, 4.39780971e-01, 7.68594210e-01,\n",
              "       8.93837674e-01, 9.26258158e-01, 4.99239793e-01, 1.82386627e-01,\n",
              "       4.67926303e-01, 9.19818455e-01, 4.85557770e-01, 9.28963438e-01,\n",
              "       6.24123583e-01, 9.61192072e-01, 5.79837029e-01, 5.86797631e-01,\n",
              "       7.42372686e-01, 4.79913004e-01, 2.10712201e-01, 4.39910664e-01,\n",
              "       8.35096125e-02, 7.82966563e-01, 5.31339556e-01, 5.94441695e-01,\n",
              "       8.42740770e-01, 1.63399036e-01, 1.21395514e-01, 3.33320030e-01,\n",
              "       9.73375526e-01, 4.26705833e-01, 3.07818413e-01, 7.25369708e-01,\n",
              "       6.49255499e-01, 6.05219969e-01, 4.36318794e-01, 7.30368464e-01,\n",
              "       8.43956360e-01, 3.41118914e-01, 2.12182592e-01, 5.74863907e-01,\n",
              "       9.66701476e-01, 4.97058718e-01, 3.96963158e-01, 4.27696488e-01,\n",
              "       4.35054877e-01, 8.01312475e-01, 3.33923611e-01, 2.93369704e-01,\n",
              "       9.82543722e-01, 4.46084091e-02, 4.86995271e-01, 8.07185266e-01,\n",
              "       8.12392004e-01, 7.60758402e-01, 3.71096085e-01, 3.82489931e-01,\n",
              "       7.88346983e-01, 3.34873238e-01, 1.41553142e-01, 6.34059937e-01,\n",
              "       4.53619124e-01, 6.17779584e-01, 8.50306080e-01, 3.22476267e-01,\n",
              "       1.48943460e-01, 4.00671811e-01, 5.01879100e-01, 1.39175027e-01,\n",
              "       2.54446959e-01, 3.43485712e-01, 5.43036184e-02, 7.93563866e-01,\n",
              "       8.85165848e-02, 2.82059414e-01, 9.82898512e-01, 4.96047414e-01,\n",
              "       1.68442540e-01, 6.76861569e-01, 7.43867662e-01, 5.52887787e-01,\n",
              "       2.02593307e-01, 2.69550672e-01, 4.52163255e-01, 2.98233456e-01,\n",
              "       2.32192064e-01, 3.36307417e-01, 8.08629032e-01, 1.69153423e-01,\n",
              "       9.16049430e-01, 2.31083955e-01, 8.34572570e-01, 5.73324781e-01,\n",
              "       6.72210098e-01, 2.98079434e-01, 9.50723958e-01, 9.49711682e-01,\n",
              "       5.27454035e-01, 7.60923349e-01, 5.66944200e-01, 2.71008782e-01,\n",
              "       4.45376565e-02, 3.21446060e-01, 9.91270185e-01, 4.45350852e-02,\n",
              "       7.78722961e-01, 8.92500352e-01, 2.54627159e-01, 8.35574042e-01,\n",
              "       1.57912970e-01, 7.17477951e-01, 6.45949850e-01, 9.12767609e-01,\n",
              "       6.58521774e-01, 7.23230920e-01, 3.23476002e-04, 3.32620623e-01,\n",
              "       4.59065719e-01, 8.99628162e-01, 6.03491407e-01, 1.65859012e-01,\n",
              "       9.04113379e-01, 1.30331533e-01, 7.83906578e-01, 5.13850317e-02,\n",
              "       5.48797284e-01, 1.64809030e-01, 4.92456342e-01, 9.94875579e-01,\n",
              "       7.21734882e-01, 6.62536529e-02, 9.08956744e-01, 7.54720465e-01,\n",
              "       4.89309242e-01, 4.33289811e-01, 2.99253099e-01, 9.20683345e-01,\n",
              "       4.81181502e-01, 3.81567327e-01, 8.52446470e-01, 9.43903738e-01,\n",
              "       4.96169721e-02, 3.67832433e-01, 4.84687798e-01, 7.66900207e-02,\n",
              "       7.41273955e-01, 7.96709652e-01, 9.55024287e-01, 1.82110914e-01,\n",
              "       6.45926656e-01, 5.30600535e-01, 7.15305947e-01, 4.36066847e-01,\n",
              "       4.74469243e-01, 2.26973387e-01, 1.52888764e-01, 5.08890626e-01,\n",
              "       1.00681024e-01, 7.91157427e-01, 7.63520113e-01, 7.23055293e-01,\n",
              "       4.96352629e-01, 3.14177202e-01, 9.08131904e-01, 4.35577616e-01,\n",
              "       8.60808425e-01, 8.03450093e-01, 7.58189101e-02, 4.52636459e-01,\n",
              "       3.53234776e-01, 7.84387062e-01, 5.14315597e-01, 7.76998577e-01,\n",
              "       1.83963770e-01, 3.85936640e-01, 4.17751014e-01, 7.09472495e-01,\n",
              "       7.91705478e-01, 8.75399406e-01, 5.77975301e-01, 7.97715752e-01,\n",
              "       4.38471420e-01, 9.08725086e-01, 2.81988497e-01, 3.85142970e-01,\n",
              "       3.97654295e-01, 4.18198425e-01, 4.19777859e-01, 8.37494751e-01,\n",
              "       1.93015028e-01, 5.17513586e-01, 6.12957557e-02, 8.22874947e-01,\n",
              "       3.33402027e-02, 9.55363065e-01, 8.43572436e-01, 7.16684217e-01,\n",
              "       2.05956417e-01, 2.41942766e-01, 4.07733472e-01, 6.90211045e-01,\n",
              "       3.48864917e-01, 8.04573857e-02, 6.51523762e-01, 7.73026530e-01,\n",
              "       4.94558574e-01, 7.35061654e-01, 7.13341276e-01, 8.56254984e-01,\n",
              "       4.65566283e-02, 4.50385778e-01, 4.83936138e-01, 8.97061613e-03,\n",
              "       1.10158236e-01, 8.73557015e-01, 4.45199843e-01, 2.54505498e-01,\n",
              "       6.75372068e-01, 8.37303307e-01, 4.95500309e-01, 8.03609863e-01,\n",
              "       3.45883896e-01, 9.69585175e-01, 1.33568535e-01, 2.79103950e-01,\n",
              "       9.12012151e-01, 8.72255927e-01, 4.21779880e-01, 1.79231391e-01,\n",
              "       2.08544496e-01, 9.40673236e-01, 6.01091312e-01, 5.91646264e-01,\n",
              "       5.93991952e-01, 8.36769145e-01, 8.18137145e-01, 4.95590844e-01,\n",
              "       8.70475458e-01, 2.80314933e-01, 3.29108415e-01, 5.43845103e-01,\n",
              "       4.45419655e-01, 4.98124691e-01, 5.92156489e-01, 7.51312274e-01,\n",
              "       7.58683410e-01, 5.19940409e-02, 6.36488349e-01, 2.48110537e-01,\n",
              "       9.75545182e-01, 7.30037117e-01, 2.44224820e-02, 4.69413807e-01,\n",
              "       3.07269255e-01, 5.12392361e-01, 6.66247406e-01, 6.66790039e-01,\n",
              "       7.33735420e-01, 6.58362148e-01, 5.09621200e-01, 7.34477238e-01,\n",
              "       4.87264118e-01, 7.30506897e-01, 5.34503313e-01, 7.80232656e-01,\n",
              "       6.73738617e-01, 9.37161460e-01, 5.62285015e-01, 6.34578830e-01,\n",
              "       9.96383956e-01, 2.60620424e-01, 5.11794184e-01, 5.70807239e-01,\n",
              "       1.80346864e-01, 8.33462089e-01, 8.99455353e-01, 8.74829647e-01,\n",
              "       2.99230610e-01, 1.04094951e-02, 5.23087861e-01, 1.48348829e-01,\n",
              "       9.83365208e-01, 3.39725742e-01, 4.84017406e-01, 7.41920630e-01,\n",
              "       6.58384236e-01, 1.41572634e-01, 4.71937154e-01, 7.88658304e-01,\n",
              "       8.60940709e-01, 4.59404967e-01, 6.99250509e-01, 5.56090791e-01,\n",
              "       6.10772298e-01, 9.74871846e-01, 8.21307429e-01, 3.30594916e-01,\n",
              "       6.80863026e-02, 5.78600985e-01, 4.27565992e-01, 6.78324178e-01,\n",
              "       3.29598295e-01, 2.76003135e-02, 8.40278081e-01, 1.28959298e-01,\n",
              "       7.21108246e-02, 9.03874794e-01, 2.10497127e-01, 5.36941958e-01,\n",
              "       5.78172716e-01, 6.28275573e-01, 7.29163320e-01, 4.25882290e-01,\n",
              "       2.31349826e-01, 7.39607299e-01, 9.58558923e-01, 3.80122506e-01,\n",
              "       5.74488652e-01, 9.46863848e-01, 7.15654547e-01, 9.63390007e-01,\n",
              "       5.36919946e-01, 8.44455285e-01, 3.02903559e-01, 7.31941750e-01,\n",
              "       9.89702924e-01, 8.84757066e-01, 1.75166027e-01, 9.96177651e-03,\n",
              "       5.77689454e-01, 9.05899046e-01, 9.19092811e-01, 2.19590380e-02,\n",
              "       6.05241317e-01, 8.86479498e-02, 5.06563276e-01, 7.95380144e-01,\n",
              "       5.64695751e-01, 6.11926199e-01, 4.19719923e-01, 1.09416744e-01,\n",
              "       1.96226273e-02, 4.55015298e-01, 6.69433825e-01, 6.30725608e-01,\n",
              "       5.25589828e-01, 5.57949795e-01, 6.34851440e-02, 9.65267430e-01,\n",
              "       4.37870920e-01, 1.40758676e-01, 8.23754868e-01, 3.77405782e-01,\n",
              "       8.89839140e-01, 7.37347321e-01, 5.20206034e-01, 4.67449856e-01,\n",
              "       5.63293121e-01, 5.23899779e-01, 7.66487340e-01, 3.14684237e-01,\n",
              "       9.70381309e-02, 7.18132975e-01, 3.54430308e-01, 3.92398798e-01,\n",
              "       8.94130523e-01, 7.90221358e-01, 2.09831908e-01, 3.46472828e-01,\n",
              "       8.23937996e-01, 8.80689781e-01, 6.11433206e-01, 9.36153028e-01,\n",
              "       5.67673103e-01, 9.11830809e-01, 6.26789235e-01, 2.67421393e-01,\n",
              "       3.92676833e-01, 3.69530924e-01, 2.60804184e-01, 1.97572985e-01,\n",
              "       8.19495550e-02, 2.41869713e-01, 4.62192709e-01, 4.68428878e-01,\n",
              "       6.11010093e-01, 3.72048841e-01, 2.02727521e-02, 7.25100424e-01,\n",
              "       2.89467504e-01, 7.54429628e-01, 9.20812813e-01, 4.83037042e-01,\n",
              "       4.34686692e-02, 3.49094968e-01, 8.78864656e-01, 7.77082181e-01,\n",
              "       7.64838182e-01, 2.54215499e-01, 1.64637985e-01, 2.94214554e-01,\n",
              "       1.32914433e-01, 7.39852141e-01, 6.43446863e-02, 9.51831851e-01,\n",
              "       6.75208227e-01, 5.50305039e-01, 1.19286571e-03, 6.29470103e-01,\n",
              "       3.76362223e-01, 5.49505408e-01, 4.43523712e-01, 5.43335376e-01,\n",
              "       4.53806003e-02, 7.95894906e-01, 7.06572859e-01, 6.45980011e-01,\n",
              "       7.34642141e-01, 1.57131860e-01, 5.53332403e-01, 5.49040328e-01,\n",
              "       5.91499802e-01, 6.55829166e-01, 5.10394198e-02, 5.77230869e-01,\n",
              "       2.26071692e-01, 6.12670673e-02, 9.45645120e-01, 9.20942228e-01,\n",
              "       9.91161870e-01, 7.31830649e-01, 2.53937966e-01, 2.13453695e-01,\n",
              "       1.55564794e-02, 6.52180116e-01, 7.19336010e-01, 8.31638938e-01,\n",
              "       7.61680137e-01, 5.18521555e-01, 8.32504652e-01, 4.17434078e-01,\n",
              "       1.80343961e-01, 2.98144918e-01, 7.43840610e-01, 9.01054687e-01,\n",
              "       5.15369993e-01, 6.22723634e-01, 9.06106867e-02, 6.31856031e-01,\n",
              "       5.45130746e-01, 8.56278401e-01, 6.21791949e-01, 8.47809202e-01,\n",
              "       7.90393416e-01, 8.48576307e-01, 2.95579682e-01, 9.61912955e-01,\n",
              "       8.58432148e-01, 1.37389148e-01, 1.81476694e-01, 1.25229508e-01,\n",
              "       5.65892610e-01, 5.91524530e-01, 4.27343997e-01, 1.43223336e-01,\n",
              "       4.11456210e-01, 5.20193173e-01, 8.01272456e-01, 4.45878528e-01,\n",
              "       9.57654694e-01, 2.11091150e-01, 2.19473308e-01, 8.15629844e-01,\n",
              "       2.62881401e-01, 8.60356714e-01, 7.62085292e-01, 1.47017625e-01,\n",
              "       6.84373887e-01, 3.46663839e-01, 4.87092196e-01, 1.27680997e-01,\n",
              "       5.94660974e-02, 6.08120924e-01, 1.94840097e-01, 5.92991592e-01,\n",
              "       6.89598811e-01, 1.49894750e-01, 9.22210186e-01, 7.23614475e-01,\n",
              "       6.53536055e-01, 3.89286343e-01, 5.37131533e-01, 3.81623523e-02,\n",
              "       2.22430102e-01, 7.06754807e-01, 2.25409198e-01, 3.66081107e-01,\n",
              "       7.28492445e-01, 6.19666359e-01, 4.05068817e-01, 4.56661181e-01,\n",
              "       6.09638929e-02, 5.79571519e-01, 1.69234833e-02, 1.21953021e-01,\n",
              "       5.50974725e-01, 2.04828341e-02, 6.53851817e-01, 1.84637490e-01,\n",
              "       5.12965724e-01, 5.91622991e-01, 5.71002385e-01, 7.27783573e-01,\n",
              "       5.76932105e-01, 7.25348269e-01, 3.09276605e-01, 5.60560709e-02,\n",
              "       1.55411987e-01, 9.43658154e-01, 2.16108839e-01, 8.05295502e-01,\n",
              "       6.44019554e-01, 9.82292583e-01, 7.35855867e-01, 4.88209725e-01,\n",
              "       2.17868677e-01, 8.41502671e-01, 8.47545847e-01, 8.11687436e-01,\n",
              "       3.89461594e-01, 1.32876864e-01, 2.68205952e-01, 2.21209764e-01,\n",
              "       5.71766638e-01, 9.13482274e-01, 6.53557607e-01, 4.36461469e-01,\n",
              "       8.23884656e-01, 8.19958052e-02, 5.21201120e-01, 5.51263560e-01,\n",
              "       6.46761101e-01, 3.47626118e-01, 4.57863444e-01, 4.79145831e-01,\n",
              "       6.55058243e-01, 2.60956733e-01, 7.45678197e-01, 8.46634463e-01,\n",
              "       1.58365986e-01, 2.88273753e-01, 2.25500475e-01, 9.30821369e-01,\n",
              "       9.83116195e-01, 6.64798157e-01, 1.80750310e-01, 1.96700488e-01,\n",
              "       2.75106262e-01, 9.24670580e-01, 7.27921757e-01, 5.41392827e-01,\n",
              "       7.72627298e-01, 1.61373567e-01, 1.80354416e-01, 4.34124506e-01,\n",
              "       6.17395931e-02, 9.11040298e-01, 5.17620814e-01, 3.65475715e-01,\n",
              "       2.57982306e-01, 2.27954209e-01, 8.26663564e-01, 7.95506466e-01,\n",
              "       3.21312954e-01, 4.23712936e-01, 8.17407240e-01, 4.79493285e-03,\n",
              "       6.28913780e-02, 7.08194662e-01, 3.49309046e-01, 5.05946539e-01,\n",
              "       6.51532947e-01, 7.22723592e-01, 1.18247833e-02, 1.29922581e-01,\n",
              "       5.55419613e-01, 7.00779000e-01, 6.80779199e-02, 3.99616413e-01,\n",
              "       7.39990168e-01, 7.64085402e-01, 3.57533380e-02, 7.15201446e-01,\n",
              "       2.46100390e-02, 6.94075718e-03, 3.09397575e-01, 3.53781966e-01,\n",
              "       2.63357999e-01, 1.21272005e-01, 1.88740229e-01, 3.39105578e-01])"
            ]
          },
          "metadata": {},
          "execution_count": 21
        }
      ]
    },
    {
      "cell_type": "code",
      "source": [
        "np.random.randint(0, 500, 5)"
      ],
      "metadata": {
        "colab": {
          "base_uri": "https://localhost:8080/"
        },
        "id": "omKg51RgqtGm",
        "outputId": "8b5b4304-ecad-4262-d4dd-d524e10e5572"
      },
      "execution_count": null,
      "outputs": [
        {
          "output_type": "execute_result",
          "data": {
            "text/plain": [
              "array([406, 373, 208, 365,  58])"
            ]
          },
          "metadata": {},
          "execution_count": 33
        }
      ]
    },
    {
      "cell_type": "code",
      "source": [
        "np.random.randint(-1000, -500, 5)"
      ],
      "metadata": {
        "colab": {
          "base_uri": "https://localhost:8080/"
        },
        "id": "dZElPC97q5a6",
        "outputId": "95958193-4284-4b30-ac79-4284617546ed"
      },
      "execution_count": null,
      "outputs": [
        {
          "output_type": "execute_result",
          "data": {
            "text/plain": [
              "array([-859, -877, -728, -941, -585])"
            ]
          },
          "metadata": {},
          "execution_count": 34
        }
      ]
    },
    {
      "cell_type": "code",
      "source": [
        "np.random.randint(-500, -1,  25)"
      ],
      "metadata": {
        "colab": {
          "base_uri": "https://localhost:8080/"
        },
        "id": "ZEet__gYq932",
        "outputId": "b09f71f0-476a-4e21-d9c8-6e4dcabe2bb7"
      },
      "execution_count": null,
      "outputs": [
        {
          "output_type": "execute_result",
          "data": {
            "text/plain": [
              "array([-405, -139, -491,  -40, -380, -125, -301, -151, -247, -351, -142,\n",
              "       -397, -274, -335, -459, -272, -293, -454, -434,  -90,  -35, -289,\n",
              "       -333, -458, -482])"
            ]
          },
          "metadata": {},
          "execution_count": 37
        }
      ]
    }
  ]
}