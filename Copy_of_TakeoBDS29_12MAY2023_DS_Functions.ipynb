{
  "nbformat": 4,
  "nbformat_minor": 0,
  "metadata": {
    "colab": {
      "provenance": [],
      "include_colab_link": true
    },
    "kernelspec": {
      "name": "python3",
      "display_name": "Python 3"
    },
    "language_info": {
      "name": "python"
    }
  },
  "cells": [
    {
      "cell_type": "markdown",
      "metadata": {
        "id": "view-in-github",
        "colab_type": "text"
      },
      "source": [
        "<a href=\"https://colab.research.google.com/github/smkandel/Courses/blob/main/Copy_of_TakeoBDS29_12MAY2023_DS_Functions.ipynb\" target=\"_parent\"><img src=\"https://colab.research.google.com/assets/colab-badge.svg\" alt=\"Open In Colab\"/></a>"
      ]
    },
    {
      "cell_type": "code",
      "execution_count": null,
      "metadata": {
        "colab": {
          "base_uri": "https://localhost:8080/"
        },
        "id": "eXsGDpdn8Zx4",
        "outputId": "92ea86d6-43c4-48f9-b8c1-73d768b25eb6"
      },
      "outputs": [
        {
          "output_type": "stream",
          "name": "stdout",
          "text": [
            "100  > 10\n",
            "90  > 10\n",
            "80  > 10\n",
            "70  > 10\n",
            "60  > 10\n",
            "50  > 10\n",
            "40  > 10\n",
            "30  > 10\n",
            "20  > 10\n"
          ]
        }
      ],
      "source": [
        "a = 100\n",
        "\n",
        "while a > 10: # 100, 90, 80... , 20\n",
        "  print(a, ' > 10')\n",
        "  a -= 10 # 90, 80, 70, ... 20, 10"
      ]
    },
    {
      "cell_type": "code",
      "source": [
        "a = 100\n",
        "\n",
        "while a > 10: # 100, 90, 80... , 20\n",
        "  print(a, ' > 10')\n",
        "  a -= 10 # 90, 80, 70, ... 20, 10\n",
        "else:\n",
        "  print('I am in else section')"
      ],
      "metadata": {
        "colab": {
          "base_uri": "https://localhost:8080/"
        },
        "id": "_yPTbGjMJo_H",
        "outputId": "f8abe332-720e-4552-baf7-dea8f6cb105b"
      },
      "execution_count": null,
      "outputs": [
        {
          "output_type": "stream",
          "name": "stdout",
          "text": [
            "100  > 10\n",
            "90  > 10\n",
            "80  > 10\n",
            "70  > 10\n",
            "60  > 10\n",
            "50  > 10\n",
            "40  > 10\n",
            "30  > 10\n",
            "20  > 10\n",
            "I am in else section\n"
          ]
        }
      ]
    },
    {
      "cell_type": "code",
      "source": [
        "a = 100\n",
        "\n",
        "while a > 10:\n",
        "  if a == 50:\n",
        "    break\n",
        "  print(a, ' > 10')\n",
        "  a -= 10\n",
        "else:\n",
        "  print('I am in else section')"
      ],
      "metadata": {
        "colab": {
          "base_uri": "https://localhost:8080/"
        },
        "id": "62kRuo-jJ5KY",
        "outputId": "30202199-50ba-44e3-8b3e-4ac712b14473"
      },
      "execution_count": null,
      "outputs": [
        {
          "output_type": "stream",
          "name": "stdout",
          "text": [
            "100  > 10\n",
            "90  > 10\n",
            "80  > 10\n",
            "70  > 10\n",
            "60  > 10\n"
          ]
        }
      ]
    },
    {
      "cell_type": "code",
      "source": [
        "a = 100\n",
        "\n",
        "while a > 10:\n",
        "  print(a, ' > 10')\n",
        "\n",
        "a -= 10"
      ],
      "metadata": {
        "id": "zjnOtpM_Kkzw"
      },
      "execution_count": null,
      "outputs": []
    },
    {
      "cell_type": "code",
      "source": [
        "a = 100\n",
        "\n",
        "while a > 10:\n",
        "  a -= 10\n",
        "  if a == 50:\n",
        "    continue\n",
        "  print(a, ' > 10')\n",
        "  \n",
        "else:\n",
        "  print('I am in else section')"
      ],
      "metadata": {
        "colab": {
          "base_uri": "https://localhost:8080/"
        },
        "id": "sMSs8WfbLRgk",
        "outputId": "df2f7aa2-37ab-4bb1-f8ac-cbaa81fdc990"
      },
      "execution_count": null,
      "outputs": [
        {
          "output_type": "stream",
          "name": "stdout",
          "text": [
            "90  > 10\n",
            "80  > 10\n",
            "70  > 10\n",
            "60  > 10\n",
            "40  > 10\n",
            "30  > 10\n",
            "20  > 10\n",
            "10  > 10\n",
            "I am in else section\n"
          ]
        }
      ]
    },
    {
      "cell_type": "code",
      "source": [
        "# print - function\n",
        "# type - function\n"
      ],
      "metadata": {
        "id": "-au3LzNpMLA3"
      },
      "execution_count": null,
      "outputs": []
    },
    {
      "cell_type": "markdown",
      "source": [
        "#**Built-in Functions**"
      ],
      "metadata": {
        "id": "wy_D1-mBNY35"
      }
    },
    {
      "cell_type": "code",
      "source": [
        "print(\"Built-in Functions\")"
      ],
      "metadata": {
        "colab": {
          "base_uri": "https://localhost:8080/"
        },
        "id": "CGG6tqeLNbg_",
        "outputId": "fa6dc9e9-e4d9-4b96-aace-9f188920ab09"
      },
      "execution_count": null,
      "outputs": [
        {
          "output_type": "stream",
          "name": "stdout",
          "text": [
            "Built-in Functions\n"
          ]
        }
      ]
    },
    {
      "cell_type": "code",
      "source": [
        "a = \"Built-in Functions\"\n",
        "print(a)\n",
        "print(type(a))"
      ],
      "metadata": {
        "colab": {
          "base_uri": "https://localhost:8080/"
        },
        "id": "Cl1ClCSiNlnY",
        "outputId": "6bc6236d-212f-45bd-b27a-48007c0f5b40"
      },
      "execution_count": null,
      "outputs": [
        {
          "output_type": "stream",
          "name": "stdout",
          "text": [
            "Built-in Functions\n",
            "<class 'str'>\n"
          ]
        }
      ]
    },
    {
      "cell_type": "code",
      "source": [
        "str1 = input(\"please enter valid string\")\n",
        "print(str1)\n",
        "print(type(str1))"
      ],
      "metadata": {
        "colab": {
          "base_uri": "https://localhost:8080/"
        },
        "id": "71wdxRlOOCGA",
        "outputId": "e64db6e4-02f4-42ce-e655-a6d78e0ded05"
      },
      "execution_count": null,
      "outputs": [
        {
          "output_type": "stream",
          "name": "stdout",
          "text": [
            "please enter valid string3.1414\n",
            "3.1414\n",
            "<class 'str'>\n"
          ]
        }
      ]
    },
    {
      "cell_type": "code",
      "source": [
        "int1 = int(input(\"enter valid integer\"))\n",
        "print(int1)\n",
        "print(type(int1))"
      ],
      "metadata": {
        "colab": {
          "base_uri": "https://localhost:8080/"
        },
        "id": "PWCsQ9PAO7bS",
        "outputId": "559d7f17-37d7-4eed-ab38-7c3a2d6fd39d"
      },
      "execution_count": null,
      "outputs": [
        {
          "output_type": "stream",
          "name": "stdout",
          "text": [
            "enter valid integer12\n",
            "12\n",
            "<class 'int'>\n"
          ]
        }
      ]
    },
    {
      "cell_type": "code",
      "source": [
        "flt1 = float(input(\"enter valid float value\"))\n",
        "print(flt1)\n",
        "print(type(flt1))"
      ],
      "metadata": {
        "colab": {
          "base_uri": "https://localhost:8080/"
        },
        "id": "3KfBFMRVPXEY",
        "outputId": "874718b1-fb93-4bd0-d6c6-d3571dfb4299"
      },
      "execution_count": null,
      "outputs": [
        {
          "output_type": "stream",
          "name": "stdout",
          "text": [
            "enter valid float value3.1414\n",
            "3.1414\n",
            "<class 'float'>\n"
          ]
        }
      ]
    },
    {
      "cell_type": "code",
      "source": [
        "del bool1\n",
        "bool1 = bool(input(\"enter valid boolean value \"))\n",
        "print(bool1)\n",
        "print(type(bool1))"
      ],
      "metadata": {
        "colab": {
          "base_uri": "https://localhost:8080/"
        },
        "id": "5PGp5BpRPnmY",
        "outputId": "8f353138-1226-4411-ba6a-13db278eebcb"
      },
      "execution_count": null,
      "outputs": [
        {
          "output_type": "stream",
          "name": "stdout",
          "text": [
            "enter valid boolean value False\n",
            "True\n",
            "<class 'bool'>\n"
          ]
        }
      ]
    },
    {
      "cell_type": "code",
      "source": [
        "int1 = 0\n",
        "print(bool(int1))\n",
        "\n",
        "int1 = 1\n",
        "print(bool(int1))\n",
        "\n",
        "flt1 = 0.00\n",
        "print(bool(flt1))\n",
        "\n",
        "flt1 = 3.14\n",
        "print(bool(flt1))\n",
        "\n",
        "cmplx1 = 0+0j\n",
        "print(bool(cmplx1))\n",
        "\n",
        "cmplx1 = 4+8j\n",
        "print(bool(cmplx1))\n",
        "\n",
        "bool1 = False\n",
        "print(bool(bool1))\n",
        "\n",
        "bool1 = True\n",
        "print(bool(bool1))\n",
        "\n",
        "str1 = 'False'\n",
        "print(bool(str1))\n",
        "\n",
        "str1 = 'True'\n",
        "print(bool(str1))\n"
      ],
      "metadata": {
        "colab": {
          "base_uri": "https://localhost:8080/"
        },
        "id": "sOpNNB7mSVE2",
        "outputId": "e2edd7ab-8e3d-4715-b896-5d9e0262a116"
      },
      "execution_count": null,
      "outputs": [
        {
          "output_type": "stream",
          "name": "stdout",
          "text": [
            "False\n",
            "True\n",
            "False\n",
            "True\n",
            "False\n",
            "True\n",
            "False\n",
            "True\n",
            "True\n",
            "True\n"
          ]
        }
      ]
    },
    {
      "cell_type": "code",
      "source": [
        "int1 = input(\"enter valid integer\")\n",
        "print(type(int1))\n",
        "print(bool(int1))\n",
        "\n",
        "flt1 = input(\"enter valid float\")\n",
        "print(type(flt1))\n",
        "print(bool(flt1))\n",
        "\n",
        "cmplx1 = input(\"enter valid complex\")\n",
        "print(type(cmplx1))\n",
        "print(bool(cmplx1))\n",
        "\n",
        "bool1 = input(\"enter valid boolean\")\n",
        "print(type(bool1))\n",
        "print(bool(bool1))\n",
        "\n",
        "str1 = input(\"enter valid string\")\n",
        "print(type(str1))\n",
        "print(bool(str1))"
      ],
      "metadata": {
        "colab": {
          "base_uri": "https://localhost:8080/"
        },
        "id": "v995XZq6SrBh",
        "outputId": "b92cc250-83a2-4430-cf27-a0f655f9c879"
      },
      "execution_count": null,
      "outputs": [
        {
          "output_type": "stream",
          "name": "stdout",
          "text": [
            "enter valid integer12\n",
            "<class 'str'>\n",
            "True\n",
            "enter valid float12.22\n",
            "<class 'str'>\n",
            "True\n",
            "enter valid complex12+12j\n",
            "<class 'str'>\n",
            "True\n",
            "enter valid booleanTrue\n",
            "<class 'str'>\n",
            "True\n",
            "enter valid stringFalse\n",
            "<class 'str'>\n",
            "True\n"
          ]
        }
      ]
    },
    {
      "cell_type": "code",
      "source": [
        "cmplx1 = complex(input(\"enter valid complex number \"))\n",
        "print(cmplx1)\n",
        "print(type(cmplx1))"
      ],
      "metadata": {
        "colab": {
          "base_uri": "https://localhost:8080/"
        },
        "id": "eixVzVTqQoda",
        "outputId": "ac250749-3b17-49b2-907e-54ddb1434b34"
      },
      "execution_count": null,
      "outputs": [
        {
          "output_type": "stream",
          "name": "stdout",
          "text": [
            "enter valid complex number 12\n",
            "(12+0j)\n",
            "<class 'complex'>\n"
          ]
        }
      ]
    },
    {
      "cell_type": "code",
      "source": [
        "int()\n",
        "float()\n",
        "complex()\n",
        "bool()\n",
        "str()\n",
        "list()\n",
        "tuple()\n",
        "set()\n",
        "dict()"
      ],
      "metadata": {
        "id": "xLfk2qzCRZRK"
      },
      "execution_count": null,
      "outputs": []
    },
    {
      "cell_type": "code",
      "source": [
        "x = dict(name = \"John\", age = 36, country = \"Norway\")\n",
        "print(x)"
      ],
      "metadata": {
        "colab": {
          "base_uri": "https://localhost:8080/"
        },
        "id": "W6n2HTESYR41",
        "outputId": "78366cee-2960-496e-d95d-6347867bf170"
      },
      "execution_count": null,
      "outputs": [
        {
          "output_type": "stream",
          "name": "stdout",
          "text": [
            "{'name': 'John', 'age': 36, 'country': 'Norway'}\n"
          ]
        }
      ]
    },
    {
      "cell_type": "code",
      "source": [
        "dict1 = {'a': 'apple', 'b': 'ball', 'c': 'cat'}\n",
        "print(dict1)\n",
        "print(type(dict1))"
      ],
      "metadata": {
        "colab": {
          "base_uri": "https://localhost:8080/"
        },
        "id": "A2RtAxOQSObM",
        "outputId": "63dfe1c0-2f69-4b81-f1b1-709a8ae6ad1e"
      },
      "execution_count": null,
      "outputs": [
        {
          "output_type": "stream",
          "name": "stdout",
          "text": [
            "{'a': 'apple', 'b': 'ball', 'c': 'cat'}\n",
            "<class 'dict'>\n"
          ]
        }
      ]
    },
    {
      "cell_type": "code",
      "source": [
        "x = dict(name = 'Python', location = 'NY', area = 123.45)\n",
        "print(x)\n",
        "print(type(x))"
      ],
      "metadata": {
        "colab": {
          "base_uri": "https://localhost:8080/"
        },
        "id": "-KEOKBrqSlU6",
        "outputId": "49b4612d-8c6a-4352-c865-ecccc5315f65"
      },
      "execution_count": null,
      "outputs": [
        {
          "output_type": "stream",
          "name": "stdout",
          "text": [
            "{'name': 'Python', 'location': 'NY', 'area': 123.45}\n",
            "<class 'dict'>\n"
          ]
        }
      ]
    },
    {
      "cell_type": "code",
      "source": [
        "tup1 = (1,2,3,4,5,6,7,8,9,10)\n",
        "print(tup1)\n",
        "lst1 = list(tup1)\n",
        "print(lst1)\n",
        "lst1.append(19)\n",
        "print(lst1)\n",
        "lst1.extend([22,33,44,55])\n",
        "print(lst1)\n",
        "lst1.insert(0,70)\n",
        "print(lst1)\n",
        "print(tuple(lst1))"
      ],
      "metadata": {
        "colab": {
          "base_uri": "https://localhost:8080/"
        },
        "id": "PZ0t7Q6UZ3jE",
        "outputId": "1bc22e22-ef63-43e8-aeb5-2abd7b6c3fcb"
      },
      "execution_count": null,
      "outputs": [
        {
          "output_type": "stream",
          "name": "stdout",
          "text": [
            "(1, 2, 3, 4, 5, 6, 7, 8, 9, 10)\n",
            "[1, 2, 3, 4, 5, 6, 7, 8, 9, 10]\n",
            "[1, 2, 3, 4, 5, 6, 7, 8, 9, 10, 19]\n",
            "[1, 2, 3, 4, 5, 6, 7, 8, 9, 10, 19, 22, 33, 44, 55]\n",
            "[70, 1, 2, 3, 4, 5, 6, 7, 8, 9, 10, 19, 22, 33, 44, 55]\n",
            "(70, 1, 2, 3, 4, 5, 6, 7, 8, 9, 10, 19, 22, 33, 44, 55)\n"
          ]
        }
      ]
    },
    {
      "cell_type": "code",
      "source": [
        "for i in range(100):\n",
        "  print('decimal ', i)\n",
        "  print('binary ', bin(i))\n",
        "  print('octa ', oct(i))\n",
        "  print('hex ', hex(i))"
      ],
      "metadata": {
        "id": "eCAUjrVtcGcW"
      },
      "execution_count": null,
      "outputs": []
    },
    {
      "cell_type": "code",
      "source": [
        "print (\"decimal'          'binary'          'oct'          'hex     \")\n",
        "for i in range(100):\n",
        "  print (i,'          ',bin(i),'          ',oct(i),'          ',hex(i)   )"
      ],
      "metadata": {
        "colab": {
          "base_uri": "https://localhost:8080/"
        },
        "id": "FLkqYbYVdsTK",
        "outputId": "54188cf3-bb1d-4faf-8454-11b760dff338"
      },
      "execution_count": null,
      "outputs": [
        {
          "output_type": "stream",
          "name": "stdout",
          "text": [
            "decimal'          'binary'          'oct'          'hex     \n",
            "0            0b0            0o0            0x0\n",
            "1            0b1            0o1            0x1\n",
            "2            0b10            0o2            0x2\n",
            "3            0b11            0o3            0x3\n",
            "4            0b100            0o4            0x4\n",
            "5            0b101            0o5            0x5\n",
            "6            0b110            0o6            0x6\n",
            "7            0b111            0o7            0x7\n",
            "8            0b1000            0o10            0x8\n",
            "9            0b1001            0o11            0x9\n",
            "10            0b1010            0o12            0xa\n",
            "11            0b1011            0o13            0xb\n",
            "12            0b1100            0o14            0xc\n",
            "13            0b1101            0o15            0xd\n",
            "14            0b1110            0o16            0xe\n",
            "15            0b1111            0o17            0xf\n",
            "16            0b10000            0o20            0x10\n",
            "17            0b10001            0o21            0x11\n",
            "18            0b10010            0o22            0x12\n",
            "19            0b10011            0o23            0x13\n",
            "20            0b10100            0o24            0x14\n",
            "21            0b10101            0o25            0x15\n",
            "22            0b10110            0o26            0x16\n",
            "23            0b10111            0o27            0x17\n",
            "24            0b11000            0o30            0x18\n",
            "25            0b11001            0o31            0x19\n",
            "26            0b11010            0o32            0x1a\n",
            "27            0b11011            0o33            0x1b\n",
            "28            0b11100            0o34            0x1c\n",
            "29            0b11101            0o35            0x1d\n",
            "30            0b11110            0o36            0x1e\n",
            "31            0b11111            0o37            0x1f\n",
            "32            0b100000            0o40            0x20\n",
            "33            0b100001            0o41            0x21\n",
            "34            0b100010            0o42            0x22\n",
            "35            0b100011            0o43            0x23\n",
            "36            0b100100            0o44            0x24\n",
            "37            0b100101            0o45            0x25\n",
            "38            0b100110            0o46            0x26\n",
            "39            0b100111            0o47            0x27\n",
            "40            0b101000            0o50            0x28\n",
            "41            0b101001            0o51            0x29\n",
            "42            0b101010            0o52            0x2a\n",
            "43            0b101011            0o53            0x2b\n",
            "44            0b101100            0o54            0x2c\n",
            "45            0b101101            0o55            0x2d\n",
            "46            0b101110            0o56            0x2e\n",
            "47            0b101111            0o57            0x2f\n",
            "48            0b110000            0o60            0x30\n",
            "49            0b110001            0o61            0x31\n",
            "50            0b110010            0o62            0x32\n",
            "51            0b110011            0o63            0x33\n",
            "52            0b110100            0o64            0x34\n",
            "53            0b110101            0o65            0x35\n",
            "54            0b110110            0o66            0x36\n",
            "55            0b110111            0o67            0x37\n",
            "56            0b111000            0o70            0x38\n",
            "57            0b111001            0o71            0x39\n",
            "58            0b111010            0o72            0x3a\n",
            "59            0b111011            0o73            0x3b\n",
            "60            0b111100            0o74            0x3c\n",
            "61            0b111101            0o75            0x3d\n",
            "62            0b111110            0o76            0x3e\n",
            "63            0b111111            0o77            0x3f\n",
            "64            0b1000000            0o100            0x40\n",
            "65            0b1000001            0o101            0x41\n",
            "66            0b1000010            0o102            0x42\n",
            "67            0b1000011            0o103            0x43\n",
            "68            0b1000100            0o104            0x44\n",
            "69            0b1000101            0o105            0x45\n",
            "70            0b1000110            0o106            0x46\n",
            "71            0b1000111            0o107            0x47\n",
            "72            0b1001000            0o110            0x48\n",
            "73            0b1001001            0o111            0x49\n",
            "74            0b1001010            0o112            0x4a\n",
            "75            0b1001011            0o113            0x4b\n",
            "76            0b1001100            0o114            0x4c\n",
            "77            0b1001101            0o115            0x4d\n",
            "78            0b1001110            0o116            0x4e\n",
            "79            0b1001111            0o117            0x4f\n",
            "80            0b1010000            0o120            0x50\n",
            "81            0b1010001            0o121            0x51\n",
            "82            0b1010010            0o122            0x52\n",
            "83            0b1010011            0o123            0x53\n",
            "84            0b1010100            0o124            0x54\n",
            "85            0b1010101            0o125            0x55\n",
            "86            0b1010110            0o126            0x56\n",
            "87            0b1010111            0o127            0x57\n",
            "88            0b1011000            0o130            0x58\n",
            "89            0b1011001            0o131            0x59\n",
            "90            0b1011010            0o132            0x5a\n",
            "91            0b1011011            0o133            0x5b\n",
            "92            0b1011100            0o134            0x5c\n",
            "93            0b1011101            0o135            0x5d\n",
            "94            0b1011110            0o136            0x5e\n",
            "95            0b1011111            0o137            0x5f\n",
            "96            0b1100000            0o140            0x60\n",
            "97            0b1100001            0o141            0x61\n",
            "98            0b1100010            0o142            0x62\n",
            "99            0b1100011            0o143            0x63\n"
          ]
        }
      ]
    },
    {
      "cell_type": "code",
      "source": [
        "abs(-1977)"
      ],
      "metadata": {
        "colab": {
          "base_uri": "https://localhost:8080/"
        },
        "id": "3HoFg3SVf465",
        "outputId": "37bc721d-7783-444b-ac83-f8b8ac1d81a8"
      },
      "execution_count": null,
      "outputs": [
        {
          "output_type": "execute_result",
          "data": {
            "text/plain": [
              "1977"
            ]
          },
          "metadata": {},
          "execution_count": 37
        }
      ]
    },
    {
      "cell_type": "code",
      "source": [
        "abs(-3.14)"
      ],
      "metadata": {
        "colab": {
          "base_uri": "https://localhost:8080/"
        },
        "id": "uDR9ioaDf-rA",
        "outputId": "fe05ce2e-651a-4f3d-e6cc-7920a9c3120d"
      },
      "execution_count": null,
      "outputs": [
        {
          "output_type": "execute_result",
          "data": {
            "text/plain": [
              "3.14"
            ]
          },
          "metadata": {},
          "execution_count": 38
        }
      ]
    },
    {
      "cell_type": "code",
      "source": [
        "# all() - Returns True if all items in an iterable object are true\n",
        "\n",
        "lst1 = [0,1,2,3,4,5]\n",
        "all(lst1)"
      ],
      "metadata": {
        "colab": {
          "base_uri": "https://localhost:8080/"
        },
        "id": "X1Yj_PZygLg6",
        "outputId": "3ad6f6ff-c679-4037-e9f1-e8465c8f74a4"
      },
      "execution_count": null,
      "outputs": [
        {
          "output_type": "execute_result",
          "data": {
            "text/plain": [
              "False"
            ]
          },
          "metadata": {},
          "execution_count": 40
        }
      ]
    },
    {
      "cell_type": "code",
      "source": [
        "lst1 = [0.000000000000000000000000000000000000000000000000000000000001,-0.5,-0.4,-0.03,-0.002,0.0001,0.5,0.4,0.03,0.002,0.0001]\n",
        "all(lst1)"
      ],
      "metadata": {
        "colab": {
          "base_uri": "https://localhost:8080/"
        },
        "id": "xBkRq00Hgt_2",
        "outputId": "38bed892-d5b2-45a3-f1e2-76b626321b59"
      },
      "execution_count": null,
      "outputs": [
        {
          "output_type": "execute_result",
          "data": {
            "text/plain": [
              "True"
            ]
          },
          "metadata": {},
          "execution_count": 42
        }
      ]
    },
    {
      "cell_type": "code",
      "source": [
        "lst1 = [0,1,2,3,4,5]\n",
        "any(lst1)"
      ],
      "metadata": {
        "colab": {
          "base_uri": "https://localhost:8080/"
        },
        "id": "q7LzuzEchPMD",
        "outputId": "12ab3a4f-17ea-4e62-8cea-d2cdf29d4623"
      },
      "execution_count": null,
      "outputs": [
        {
          "output_type": "execute_result",
          "data": {
            "text/plain": [
              "True"
            ]
          },
          "metadata": {},
          "execution_count": 43
        }
      ]
    },
    {
      "cell_type": "code",
      "source": [
        "lst1 = [0, False]\n",
        "any(lst1)"
      ],
      "metadata": {
        "colab": {
          "base_uri": "https://localhost:8080/"
        },
        "id": "uvVL6mozhvk4",
        "outputId": "783b4438-5b23-4a01-afb8-f2fec1fff87c"
      },
      "execution_count": null,
      "outputs": [
        {
          "output_type": "execute_result",
          "data": {
            "text/plain": [
              "False"
            ]
          },
          "metadata": {},
          "execution_count": 44
        }
      ]
    },
    {
      "cell_type": "code",
      "source": [
        "a = 'Śhyam'\n",
        "ascii(a)"
      ],
      "metadata": {
        "colab": {
          "base_uri": "https://localhost:8080/",
          "height": 35
        },
        "id": "uR8FXEo_T-rz",
        "outputId": "25e191a2-7f44-44e8-f285-a679f399ffbe"
      },
      "execution_count": null,
      "outputs": [
        {
          "output_type": "execute_result",
          "data": {
            "text/plain": [
              "\"'\\\\u015ahyam'\""
            ],
            "application/vnd.google.colaboratory.intrinsic+json": {
              "type": "string"
            }
          },
          "metadata": {},
          "execution_count": 5
        }
      ]
    },
    {
      "cell_type": "code",
      "source": [
        "a = 27\n",
        "chr(a)"
      ],
      "metadata": {
        "colab": {
          "base_uri": "https://localhost:8080/",
          "height": 35
        },
        "id": "DAqgCnaQU1OL",
        "outputId": "18d3fbaa-937a-4816-81fc-dfc8f4e8d160"
      },
      "execution_count": null,
      "outputs": [
        {
          "output_type": "execute_result",
          "data": {
            "text/plain": [
              "'\\x1b'"
            ],
            "application/vnd.google.colaboratory.intrinsic+json": {
              "type": "string"
            }
          },
          "metadata": {},
          "execution_count": 8
        }
      ]
    },
    {
      "cell_type": "code",
      "source": [
        "for i in range(250):\n",
        "  print(i, \": \", chr(i))"
      ],
      "metadata": {
        "colab": {
          "base_uri": "https://localhost:8080/"
        },
        "id": "q4J8mRRuVwxV",
        "outputId": "7fff4ab2-8b7b-4d37-edfd-da353b574150"
      },
      "execution_count": null,
      "outputs": [
        {
          "output_type": "stream",
          "name": "stdout",
          "text": [
            "0 :  \u0000\n",
            "1 :  \u0001\n",
            "2 :  \u0002\n",
            "3 :  \u0003\n",
            "4 :  \u0004\n",
            "5 :  \u0005\n",
            "6 :  \u0006\n",
            "7 :  \u0007\n",
            "8 :  \b\n",
            "9 :  \t\n",
            "10 :  \n",
            "\n",
            "11 :  \u000b\n",
            "12 :  \f\n",
            "13 :  \r\n",
            "14 :  \u000e\n",
            "15 :  \u000f\n",
            "16 :  \u0010\n",
            "17 :  \u0011\n",
            "18 :  \u0012\n",
            "19 :  \u0013\n",
            "20 :  \u0014\n",
            "21 :  \u0015\n",
            "22 :  \u0016\n",
            "23 :  \u0017\n",
            "24 :  \u0018\n",
            "25 :  \u0019\n",
            "26 :  \u001a\n",
            "27 :  \u001b\n",
            "28 :  \u001c\n",
            "29 :  \u001d\n",
            "30 :  \u001e\n",
            "31 :  \u001f\n",
            "32 :   \n",
            "33 :  !\n",
            "34 :  \"\n",
            "35 :  #\n",
            "36 :  $\n",
            "37 :  %\n",
            "38 :  &\n",
            "39 :  '\n",
            "40 :  (\n",
            "41 :  )\n",
            "42 :  *\n",
            "43 :  +\n",
            "44 :  ,\n",
            "45 :  -\n",
            "46 :  .\n",
            "47 :  /\n",
            "48 :  0\n",
            "49 :  1\n",
            "50 :  2\n",
            "51 :  3\n",
            "52 :  4\n",
            "53 :  5\n",
            "54 :  6\n",
            "55 :  7\n",
            "56 :  8\n",
            "57 :  9\n",
            "58 :  :\n",
            "59 :  ;\n",
            "60 :  <\n",
            "61 :  =\n",
            "62 :  >\n",
            "63 :  ?\n",
            "64 :  @\n",
            "65 :  A\n",
            "66 :  B\n",
            "67 :  C\n",
            "68 :  D\n",
            "69 :  E\n",
            "70 :  F\n",
            "71 :  G\n",
            "72 :  H\n",
            "73 :  I\n",
            "74 :  J\n",
            "75 :  K\n",
            "76 :  L\n",
            "77 :  M\n",
            "78 :  N\n",
            "79 :  O\n",
            "80 :  P\n",
            "81 :  Q\n",
            "82 :  R\n",
            "83 :  S\n",
            "84 :  T\n",
            "85 :  U\n",
            "86 :  V\n",
            "87 :  W\n",
            "88 :  X\n",
            "89 :  Y\n",
            "90 :  Z\n",
            "91 :  [\n",
            "92 :  \\\n",
            "93 :  ]\n",
            "94 :  ^\n",
            "95 :  _\n",
            "96 :  `\n",
            "97 :  a\n",
            "98 :  b\n",
            "99 :  c\n",
            "100 :  d\n",
            "101 :  e\n",
            "102 :  f\n",
            "103 :  g\n",
            "104 :  h\n",
            "105 :  i\n",
            "106 :  j\n",
            "107 :  k\n",
            "108 :  l\n",
            "109 :  m\n",
            "110 :  n\n",
            "111 :  o\n",
            "112 :  p\n",
            "113 :  q\n",
            "114 :  r\n",
            "115 :  s\n",
            "116 :  t\n",
            "117 :  u\n",
            "118 :  v\n",
            "119 :  w\n",
            "120 :  x\n",
            "121 :  y\n",
            "122 :  z\n",
            "123 :  {\n",
            "124 :  |\n",
            "125 :  }\n",
            "126 :  ~\n",
            "127 :  \n",
            "128 :  \n",
            "129 :  \n",
            "130 :  \n",
            "131 :  \n",
            "132 :  \n",
            "133 :  \n",
            "134 :  \n",
            "135 :  \n",
            "136 :  \n",
            "137 :  \n",
            "138 :  \n",
            "139 :  \n",
            "140 :  \n",
            "141 :  \n",
            "142 :  \n",
            "143 :  \n",
            "144 :  \n",
            "145 :  \n",
            "146 :  \n",
            "147 :  \n",
            "148 :  \n",
            "149 :  \n",
            "150 :  \n",
            "151 :  \n",
            "152 :  \n",
            "153 :  \n",
            "154 :  \n",
            "155 :  \n",
            "156 :  \n",
            "157 :  \n",
            "158 :  \n",
            "159 :  \n",
            "160 :   \n",
            "161 :  ¡\n",
            "162 :  ¢\n",
            "163 :  £\n",
            "164 :  ¤\n",
            "165 :  ¥\n",
            "166 :  ¦\n",
            "167 :  §\n",
            "168 :  ¨\n",
            "169 :  ©\n",
            "170 :  ª\n",
            "171 :  «\n",
            "172 :  ¬\n",
            "173 :  ­\n",
            "174 :  ®\n",
            "175 :  ¯\n",
            "176 :  °\n",
            "177 :  ±\n",
            "178 :  ²\n",
            "179 :  ³\n",
            "180 :  ´\n",
            "181 :  µ\n",
            "182 :  ¶\n",
            "183 :  ·\n",
            "184 :  ¸\n",
            "185 :  ¹\n",
            "186 :  º\n",
            "187 :  »\n",
            "188 :  ¼\n",
            "189 :  ½\n",
            "190 :  ¾\n",
            "191 :  ¿\n",
            "192 :  À\n",
            "193 :  Á\n",
            "194 :  Â\n",
            "195 :  Ã\n",
            "196 :  Ä\n",
            "197 :  Å\n",
            "198 :  Æ\n",
            "199 :  Ç\n",
            "200 :  È\n",
            "201 :  É\n",
            "202 :  Ê\n",
            "203 :  Ë\n",
            "204 :  Ì\n",
            "205 :  Í\n",
            "206 :  Î\n",
            "207 :  Ï\n",
            "208 :  Ð\n",
            "209 :  Ñ\n",
            "210 :  Ò\n",
            "211 :  Ó\n",
            "212 :  Ô\n",
            "213 :  Õ\n",
            "214 :  Ö\n",
            "215 :  ×\n",
            "216 :  Ø\n",
            "217 :  Ù\n",
            "218 :  Ú\n",
            "219 :  Û\n",
            "220 :  Ü\n",
            "221 :  Ý\n",
            "222 :  Þ\n",
            "223 :  ß\n",
            "224 :  à\n",
            "225 :  á\n",
            "226 :  â\n",
            "227 :  ã\n",
            "228 :  ä\n",
            "229 :  å\n",
            "230 :  æ\n",
            "231 :  ç\n",
            "232 :  è\n",
            "233 :  é\n",
            "234 :  ê\n",
            "235 :  ë\n",
            "236 :  ì\n",
            "237 :  í\n",
            "238 :  î\n",
            "239 :  ï\n",
            "240 :  ð\n",
            "241 :  ñ\n",
            "242 :  ò\n",
            "243 :  ó\n",
            "244 :  ô\n",
            "245 :  õ\n",
            "246 :  ö\n",
            "247 :  ÷\n",
            "248 :  ø\n",
            "249 :  ù\n"
          ]
        }
      ]
    },
    {
      "cell_type": "markdown",
      "source": [
        "# Dynamically Typed Language\n",
        "\n"
      ],
      "metadata": {
        "id": "vHEAjKeVYroX"
      }
    },
    {
      "cell_type": "code",
      "source": [
        "# User define function\n",
        "\n",
        "def add_all(a, b):\n",
        "  print(a + b)"
      ],
      "metadata": {
        "id": "r64VEx3oWS5t"
      },
      "execution_count": null,
      "outputs": []
    },
    {
      "cell_type": "code",
      "source": [
        "def arthi_operation(a,b,c):\n",
        "  print(a+ b+ c)\n",
        "  print(a- b- c)\n",
        "  print(a* b* c)\n",
        "  print(a/ b/ c)      "
      ],
      "metadata": {
        "id": "ZBDx54vkbbM_"
      },
      "execution_count": null,
      "outputs": []
    },
    {
      "cell_type": "code",
      "source": [
        "print(type(add_all))"
      ],
      "metadata": {
        "colab": {
          "base_uri": "https://localhost:8080/"
        },
        "id": "5Fik92tUXUod",
        "outputId": "f567f606-599b-4598-fdf8-5b8933170b6a"
      },
      "execution_count": null,
      "outputs": [
        {
          "output_type": "stream",
          "name": "stdout",
          "text": [
            "<class 'function'>\n"
          ]
        }
      ]
    },
    {
      "cell_type": "code",
      "source": [
        "add_all(1,2)"
      ],
      "metadata": {
        "colab": {
          "base_uri": "https://localhost:8080/"
        },
        "id": "9yWEUKgFXdiN",
        "outputId": "9df4069b-451c-43c8-d2e4-f97ec5847e86"
      },
      "execution_count": null,
      "outputs": [
        {
          "output_type": "stream",
          "name": "stdout",
          "text": [
            "3\n"
          ]
        }
      ]
    },
    {
      "cell_type": "code",
      "source": [
        "add_all(3.1414, 7)"
      ],
      "metadata": {
        "colab": {
          "base_uri": "https://localhost:8080/"
        },
        "id": "qTZWhKwzXh9F",
        "outputId": "a708f5ca-3cb3-4c15-d384-2e32a18dfe06"
      },
      "execution_count": null,
      "outputs": [
        {
          "output_type": "stream",
          "name": "stdout",
          "text": [
            "10.1414\n"
          ]
        }
      ]
    },
    {
      "cell_type": "code",
      "source": [
        "add_all(12+4j, -17-17j)"
      ],
      "metadata": {
        "colab": {
          "base_uri": "https://localhost:8080/"
        },
        "id": "K31oLRjHXmVc",
        "outputId": "ddfe37fc-8e4d-42ee-c3b1-ed1f3567cce7"
      },
      "execution_count": null,
      "outputs": [
        {
          "output_type": "stream",
          "name": "stdout",
          "text": [
            "(-5-13j)\n"
          ]
        }
      ]
    },
    {
      "cell_type": "code",
      "source": [
        "# User define function\n",
        "\n",
        "def add_all(a, b):\n",
        "  print(a + b)"
      ],
      "metadata": {
        "id": "_5fVK3UAg0nJ"
      },
      "execution_count": null,
      "outputs": []
    },
    {
      "cell_type": "code",
      "source": [
        "# User define function\n",
        "\n",
        "def add_all(a, b):\n",
        "  return a+b"
      ],
      "metadata": {
        "id": "DHzpoG3Ud7MY"
      },
      "execution_count": null,
      "outputs": []
    },
    {
      "cell_type": "code",
      "source": [
        "add_all(1,2), add_all(1.1,2.2), add_all(1+2j,-2-4j), add_all(True,True), add_all('1','2')"
      ],
      "metadata": {
        "colab": {
          "base_uri": "https://localhost:8080/"
        },
        "id": "B-kdqP6aeYgo",
        "outputId": "7380ce47-1387-4bba-c08d-fdbb3b4efc8b"
      },
      "execution_count": null,
      "outputs": [
        {
          "output_type": "execute_result",
          "data": {
            "text/plain": [
              "(3, 3.3000000000000003, (-1-2j), 2, '12')"
            ]
          },
          "metadata": {},
          "execution_count": 27
        }
      ]
    },
    {
      "cell_type": "code",
      "source": [],
      "metadata": {
        "id": "a5Y784M7hYS6"
      },
      "execution_count": null,
      "outputs": []
    }
  ]
}