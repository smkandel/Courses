{
  "nbformat": 4,
  "nbformat_minor": 0,
  "metadata": {
    "colab": {
      "provenance": [],
      "include_colab_link": true
    },
    "kernelspec": {
      "name": "python3",
      "display_name": "Python 3"
    },
    "language_info": {
      "name": "python"
    }
  },
  "cells": [
    {
      "cell_type": "markdown",
      "metadata": {
        "id": "view-in-github",
        "colab_type": "text"
      },
      "source": [
        "<a href=\"https://colab.research.google.com/github/smkandel/Courses/blob/main/web_scrapping.ipynb\" target=\"_parent\"><img src=\"https://colab.research.google.com/assets/colab-badge.svg\" alt=\"Open In Colab\"/></a>"
      ]
    },
    {
      "cell_type": "code",
      "execution_count": 1,
      "metadata": {
        "id": "5ZVjZ0HD3D9o"
      },
      "outputs": [],
      "source": [
        "import requests\n",
        "import bs4"
      ]
    },
    {
      "cell_type": "code",
      "source": [
        "url = 'https://d2l.ai/chapter_multilayer-perceptrons/mlp.html#hidden-layers' # input(\"enter the URL: \")"
      ],
      "metadata": {
        "id": "7ENwkhkI3qYo"
      },
      "execution_count": 13,
      "outputs": []
    },
    {
      "cell_type": "code",
      "source": [
        "requests.get(url)"
      ],
      "metadata": {
        "colab": {
          "base_uri": "https://localhost:8080/"
        },
        "id": "iGsFrBOn_JIH",
        "outputId": "9e0a4674-41f0-42b8-fb9d-e9a843df4e1b"
      },
      "execution_count": 14,
      "outputs": [
        {
          "output_type": "execute_result",
          "data": {
            "text/plain": [
              "<Response [200]>"
            ]
          },
          "metadata": {},
          "execution_count": 14
        }
      ]
    },
    {
      "cell_type": "code",
      "source": [
        "response = requests.get(url)"
      ],
      "metadata": {
        "id": "s8kJjc0m32k_"
      },
      "execution_count": 15,
      "outputs": []
    },
    {
      "cell_type": "code",
      "source": [
        "print(type(response))"
      ],
      "metadata": {
        "colab": {
          "base_uri": "https://localhost:8080/"
        },
        "id": "UE6_AkIo4IxS",
        "outputId": "a752e096-829a-4859-ebe2-43ac3bb2eb39"
      },
      "execution_count": 16,
      "outputs": [
        {
          "output_type": "stream",
          "name": "stdout",
          "text": [
            "<class 'requests.models.Response'>\n"
          ]
        }
      ]
    },
    {
      "cell_type": "code",
      "source": [
        "print(response.text)"
      ],
      "metadata": {
        "id": "20x7ltkK4n4Y"
      },
      "execution_count": null,
      "outputs": []
    },
    {
      "cell_type": "code",
      "source": [
        "filename = \"temp.html\""
      ],
      "metadata": {
        "id": "f2COGASA5Y9x"
      },
      "execution_count": 18,
      "outputs": []
    },
    {
      "cell_type": "code",
      "source": [
        "bs = bs4.BeautifulSoup(response.text, \"html.parser\")\n",
        "\n",
        "formatted_text = bs.prettify()\n",
        "print(formatted_text)"
      ],
      "metadata": {
        "id": "UNfaMQJj5orH"
      },
      "execution_count": null,
      "outputs": []
    },
    {
      "cell_type": "code",
      "source": [
        "with open(filename, \"w+\") as f:\n",
        "  f.write(formatted_text)"
      ],
      "metadata": {
        "id": "55sIpHwj8GhH"
      },
      "execution_count": 20,
      "outputs": []
    },
    {
      "cell_type": "code",
      "source": [
        "lst_imgs = bs.find_all('img')\n",
        "print(lst_imgs)"
      ],
      "metadata": {
        "id": "PP3IQifb9Vsm",
        "colab": {
          "base_uri": "https://localhost:8080/"
        },
        "outputId": "86e12282-4073-4645-d1ef-966e355e8e05"
      },
      "execution_count": 21,
      "outputs": [
        {
          "output_type": "stream",
          "name": "stdout",
          "text": [
            "[<img alt=\"Dive into Deep Learning\" class=\"logo\" src=\"../_static/logo-with-text.png\"/>, <img alt=\"Dive into Deep Learning\" class=\"logo\" src=\"../_static/logo-with-text.png\"/>, <img alt=\"../_images/mlp.svg\" src=\"../_images/mlp.svg\"/>, <img alt=\"../_images/output_mlp_76f463_18_0.svg\" src=\"../_images/output_mlp_76f463_18_0.svg\"/>, <img alt=\"../_images/output_mlp_76f463_21_0.svg\" src=\"../_images/output_mlp_76f463_21_0.svg\"/>, <img alt=\"../_images/output_mlp_76f463_24_0.svg\" src=\"../_images/output_mlp_76f463_24_0.svg\"/>, <img alt=\"../_images/output_mlp_76f463_27_0.svg\" src=\"../_images/output_mlp_76f463_27_0.svg\"/>, <img alt=\"../_images/output_mlp_76f463_33_0.svg\" src=\"../_images/output_mlp_76f463_33_0.svg\"/>, <img alt=\"../_images/output_mlp_76f463_36_1.svg\" src=\"../_images/output_mlp_76f463_36_1.svg\"/>, <img alt=\"../_images/output_mlp_76f463_39_0.svg\" src=\"../_images/output_mlp_76f463_39_0.svg\"/>, <img alt=\"../_images/output_mlp_76f463_42_0.svg\" src=\"../_images/output_mlp_76f463_42_0.svg\"/>, <img alt=\"../_images/output_mlp_76f463_48_0.svg\" src=\"../_images/output_mlp_76f463_48_0.svg\"/>, <img alt=\"../_images/output_mlp_76f463_51_0.svg\" src=\"../_images/output_mlp_76f463_51_0.svg\"/>, <img alt=\"../_images/output_mlp_76f463_54_0.svg\" src=\"../_images/output_mlp_76f463_54_0.svg\"/>, <img alt=\"../_images/output_mlp_76f463_57_0.svg\" src=\"../_images/output_mlp_76f463_57_0.svg\"/>, <img alt=\"../_images/output_mlp_76f463_63_0.svg\" src=\"../_images/output_mlp_76f463_63_0.svg\"/>, <img alt=\"../_images/output_mlp_76f463_66_0.svg\" src=\"../_images/output_mlp_76f463_66_0.svg\"/>, <img alt=\"../_images/output_mlp_76f463_69_0.svg\" src=\"../_images/output_mlp_76f463_69_0.svg\"/>, <img alt=\"../_images/output_mlp_76f463_72_0.svg\" src=\"../_images/output_mlp_76f463_72_0.svg\"/>, <img alt=\"../_images/output_mlp_76f463_78_0.svg\" src=\"../_images/output_mlp_76f463_78_0.svg\"/>, <img alt=\"../_images/output_mlp_76f463_81_0.svg\" src=\"../_images/output_mlp_76f463_81_0.svg\"/>, <img alt=\"../_images/output_mlp_76f463_84_0.svg\" src=\"../_images/output_mlp_76f463_84_0.svg\"/>, <img alt=\"../_images/output_mlp_76f463_87_0.svg\" src=\"../_images/output_mlp_76f463_87_0.svg\"/>, <img alt=\"../_images/output_mlp_76f463_93_0.svg\" src=\"../_images/output_mlp_76f463_93_0.svg\"/>, <img alt=\"../_images/output_mlp_76f463_96_0.svg\" src=\"../_images/output_mlp_76f463_96_0.svg\"/>, <img alt=\"../_images/output_mlp_76f463_99_0.svg\" src=\"../_images/output_mlp_76f463_99_0.svg\"/>, <img alt=\"../_images/output_mlp_76f463_102_0.svg\" src=\"../_images/output_mlp_76f463_102_0.svg\"/>]\n"
          ]
        }
      ]
    },
    {
      "cell_type": "code",
      "source": [
        "num_of_imgs = len(lst_imgs)\n",
        "num_of_imgs"
      ],
      "metadata": {
        "colab": {
          "base_uri": "https://localhost:8080/"
        },
        "id": "8Fe49YiD9lMw",
        "outputId": "7ea7f532-d897-490c-d30f-3794b28959fe"
      },
      "execution_count": 22,
      "outputs": [
        {
          "output_type": "execute_result",
          "data": {
            "text/plain": [
              "27"
            ]
          },
          "metadata": {},
          "execution_count": 22
        }
      ]
    },
    {
      "cell_type": "code",
      "source": [
        "lst_atags = bs.find_all('a')\n",
        "num_of_atags = len(lst_atags)\n",
        "num_of_atags"
      ],
      "metadata": {
        "colab": {
          "base_uri": "https://localhost:8080/"
        },
        "id": "q9fXWAsq9wt0",
        "outputId": "4db8264b-38bd-47d3-b546-de8d0a5238f9"
      },
      "execution_count": 23,
      "outputs": [
        {
          "output_type": "execute_result",
          "data": {
            "text/plain": [
              "500"
            ]
          },
          "metadata": {},
          "execution_count": 23
        }
      ]
    },
    {
      "cell_type": "code",
      "source": [
        "import numpy as np\n",
        "import pandas as pd\n",
        "import requests\n",
        "from bs4 import BeautifulSoup"
      ],
      "metadata": {
        "id": "JE7n_5RV8QbW"
      },
      "execution_count": 1,
      "outputs": []
    },
    {
      "cell_type": "code",
      "source": [
        "url ='https://www.amazon.com/s?k=playstation5&crid=2TD1XATNGNHOV&sprefix=playstation5%2Caps%2C118&ref=nb_sb_noss_1'"
      ],
      "metadata": {
        "id": "zTuzCDMi8QYg"
      },
      "execution_count": 4,
      "outputs": []
    },
    {
      "cell_type": "code",
      "source": [
        "requests.get(url)"
      ],
      "metadata": {
        "colab": {
          "base_uri": "https://localhost:8080/"
        },
        "id": "HdO3k09g8QVx",
        "outputId": "a84a7813-0b16-401e-c832-7d1cea82e63b"
      },
      "execution_count": 5,
      "outputs": [
        {
          "output_type": "execute_result",
          "data": {
            "text/plain": [
              "<Response [503]>"
            ]
          },
          "metadata": {},
          "execution_count": 5
        }
      ]
    },
    {
      "cell_type": "code",
      "source": [
        "HEADERS = ({'User-Agent':'https://explore.whatismybrowser.com/useragents/parse/?analyse-my-user-agent=yes', 'Accept-Language': 'en-US, en;q=0.5'}) #add your user agent"
      ],
      "metadata": {
        "id": "B0JhC1U28QSg"
      },
      "execution_count": 6,
      "outputs": []
    },
    {
      "cell_type": "code",
      "source": [
        "url = 'https://www.amazon.com/s?k=playstation5&crid=2TD1XATNGNHOV&sprefix=playstation5%2Caps%2C118&ref=nb_sb_noss_1'"
      ],
      "metadata": {
        "id": "bkfVGC0S8QPI"
      },
      "execution_count": 9,
      "outputs": []
    },
    {
      "cell_type": "code",
      "source": [
        "requests.get(url)"
      ],
      "metadata": {
        "colab": {
          "base_uri": "https://localhost:8080/"
        },
        "id": "MnZspOmB9DjJ",
        "outputId": "9fad7c80-840f-4196-a16d-53de2293cd11"
      },
      "execution_count": 10,
      "outputs": [
        {
          "output_type": "execute_result",
          "data": {
            "text/plain": [
              "<Response [503]>"
            ]
          },
          "metadata": {},
          "execution_count": 10
        }
      ]
    },
    {
      "cell_type": "code",
      "source": [],
      "metadata": {
        "id": "izOCeJPg9Df2"
      },
      "execution_count": null,
      "outputs": []
    },
    {
      "cell_type": "code",
      "source": [],
      "metadata": {
        "id": "MVoPRM0P9DdK"
      },
      "execution_count": null,
      "outputs": []
    },
    {
      "cell_type": "code",
      "source": [
        "!pip install autoscraper"
      ],
      "metadata": {
        "colab": {
          "base_uri": "https://localhost:8080/"
        },
        "id": "f8S-l8_p9DZx",
        "outputId": "cbba62f9-2695-49c3-a72f-f0989614ac91"
      },
      "execution_count": 12,
      "outputs": [
        {
          "output_type": "stream",
          "name": "stdout",
          "text": [
            "Collecting autoscraper\n",
            "  Downloading autoscraper-1.1.14-py3-none-any.whl (10 kB)\n",
            "Requirement already satisfied: requests in /usr/local/lib/python3.10/dist-packages (from autoscraper) (2.27.1)\n",
            "Collecting bs4 (from autoscraper)\n",
            "  Downloading bs4-0.0.1.tar.gz (1.1 kB)\n",
            "  Preparing metadata (setup.py) ... \u001b[?25l\u001b[?25hdone\n",
            "Requirement already satisfied: lxml in /usr/local/lib/python3.10/dist-packages (from autoscraper) (4.9.3)\n",
            "Requirement already satisfied: beautifulsoup4 in /usr/local/lib/python3.10/dist-packages (from bs4->autoscraper) (4.11.2)\n",
            "Requirement already satisfied: urllib3<1.27,>=1.21.1 in /usr/local/lib/python3.10/dist-packages (from requests->autoscraper) (1.26.16)\n",
            "Requirement already satisfied: certifi>=2017.4.17 in /usr/local/lib/python3.10/dist-packages (from requests->autoscraper) (2023.5.7)\n",
            "Requirement already satisfied: charset-normalizer~=2.0.0 in /usr/local/lib/python3.10/dist-packages (from requests->autoscraper) (2.0.12)\n",
            "Requirement already satisfied: idna<4,>=2.5 in /usr/local/lib/python3.10/dist-packages (from requests->autoscraper) (3.4)\n",
            "Requirement already satisfied: soupsieve>1.2 in /usr/local/lib/python3.10/dist-packages (from beautifulsoup4->bs4->autoscraper) (2.4.1)\n",
            "Building wheels for collected packages: bs4\n",
            "  Building wheel for bs4 (setup.py) ... \u001b[?25l\u001b[?25hdone\n",
            "  Created wheel for bs4: filename=bs4-0.0.1-py3-none-any.whl size=1257 sha256=655ca6b016e46ac2235f632f3a33b3dbcdec5fe5f860ff27902296e4fc7ec3a2\n",
            "  Stored in directory: /root/.cache/pip/wheels/25/42/45/b773edc52acb16cd2db4cf1a0b47117e2f69bb4eb300ed0e70\n",
            "Successfully built bs4\n",
            "Installing collected packages: bs4, autoscraper\n",
            "Successfully installed autoscraper-1.1.14 bs4-0.0.1\n"
          ]
        }
      ]
    },
    {
      "cell_type": "code",
      "source": [
        "from autoscraper import AutoScraper\n",
        "import requests"
      ],
      "metadata": {
        "id": "9d6NDoQ0_iXx"
      },
      "execution_count": 19,
      "outputs": []
    },
    {
      "cell_type": "code",
      "source": [
        "url='https://www.alibaba.com/trade/search?tab=all&searchText=sneakers'"
      ],
      "metadata": {
        "id": "G2s3hTRc_iUe"
      },
      "execution_count": 44,
      "outputs": []
    },
    {
      "cell_type": "code",
      "source": [
        "requests.get(url)"
      ],
      "metadata": {
        "colab": {
          "base_uri": "https://localhost:8080/"
        },
        "id": "SczA1OHOAyzU",
        "outputId": "c6dbed91-ee2c-40c8-9d24-cd011bc77b60"
      },
      "execution_count": 45,
      "outputs": [
        {
          "output_type": "execute_result",
          "data": {
            "text/plain": [
              "<Response [200]>"
            ]
          },
          "metadata": {},
          "execution_count": 45
        }
      ]
    },
    {
      "cell_type": "code",
      "source": [
        "want_lst= ['sneakers' ]"
      ],
      "metadata": {
        "id": "SG8UJyAf_iSb"
      },
      "execution_count": 46,
      "outputs": []
    },
    {
      "cell_type": "code",
      "source": [
        "scraper=AutoScraper()"
      ],
      "metadata": {
        "id": "osKetdCX_iPp"
      },
      "execution_count": 47,
      "outputs": []
    },
    {
      "cell_type": "code",
      "source": [
        "result = scraper.build(url,want_lst)"
      ],
      "metadata": {
        "id": "-qNxN1NG_iMd"
      },
      "execution_count": 48,
      "outputs": []
    },
    {
      "cell_type": "code",
      "source": [
        "result"
      ],
      "metadata": {
        "colab": {
          "base_uri": "https://localhost:8080/"
        },
        "id": "r_qLDh19Aj6L",
        "outputId": "5f1bd083-4767-492f-ac85-d69bc260d0ff"
      },
      "execution_count": 49,
      "outputs": [
        {
          "output_type": "execute_result",
          "data": {
            "text/plain": [
              "['sneakers']"
            ]
          },
          "metadata": {},
          "execution_count": 49
        }
      ]
    },
    {
      "cell_type": "code",
      "source": [],
      "metadata": {
        "id": "X9Js0cvTAkuD"
      },
      "execution_count": null,
      "outputs": []
    }
  ]
}