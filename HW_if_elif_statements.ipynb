{
  "nbformat": 4,
  "nbformat_minor": 0,
  "metadata": {
    "colab": {
      "provenance": [],
      "authorship_tag": "ABX9TyPr5ioexbBGTBONL1m16fWJ",
      "include_colab_link": true
    },
    "kernelspec": {
      "name": "python3",
      "display_name": "Python 3"
    },
    "language_info": {
      "name": "python"
    }
  },
  "cells": [
    {
      "cell_type": "markdown",
      "metadata": {
        "id": "view-in-github",
        "colab_type": "text"
      },
      "source": [
        "<a href=\"https://colab.research.google.com/github/smkandel/Courses/blob/main/HW_if_elif_statements.ipynb\" target=\"_parent\"><img src=\"https://colab.research.google.com/assets/colab-badge.svg\" alt=\"Open In Colab\"/></a>"
      ]
    },
    {
      "cell_type": "code",
      "execution_count": null,
      "metadata": {
        "colab": {
          "base_uri": "https://localhost:8080/"
        },
        "id": "R1yt0GrA6FwL",
        "outputId": "bd36e1e1-8384-40bd-f27f-672226aa2c8e"
      },
      "outputs": [
        {
          "output_type": "stream",
          "name": "stdout",
          "text": [
            "1\n"
          ]
        }
      ],
      "source": [
        "#Write a program to find list digit of a number for example 131 the last digit is 1\n",
        "\n",
        "n=131\n",
        "print(n%10)\n",
        "  \n",
        "\n",
        "  "
      ]
    },
    {
      "cell_type": "code",
      "source": [
        "'''\n",
        "2) Write a program to check criteria of the student according to %\n",
        "\n",
        "Marks                                 GRADES\n",
        "\n",
        "\n",
        "> 90 marks                         A\n",
        "\n",
        "<80 and >=90 marks                 B\n",
        "\n",
        "<60 and <= 80 marks                C\n",
        "\n",
        "Below 60                          Failed\n",
        "'''\n",
        "\n",
        "\n",
        "marks= 87\n",
        "\n",
        "if marks>90:\n",
        "  print('A')\n",
        "elif marks <=90 and marks >80:\n",
        "  print('B') \n",
        "elif marks <=80 and marks >60:\n",
        "  print('C')\n",
        "else:\n",
        "  print('Failed')    \n"
      ],
      "metadata": {
        "colab": {
          "base_uri": "https://localhost:8080/"
        },
        "id": "GyTwLkLN6a-f",
        "outputId": "60588195-f720-40a0-91af-3314f4e9600c"
      },
      "execution_count": null,
      "outputs": [
        {
          "output_type": "stream",
          "name": "stdout",
          "text": [
            "B\n"
          ]
        }
      ]
    },
    {
      "cell_type": "code",
      "source": [
        "'''\n",
        "3)  Write a program to take input between 1-12 and print which month of the year is it?\n",
        "\n",
        "Hint)  1 is January\n",
        "'''\n",
        "num=[1,2,3,4,5,6,7,8,9,10,11,12]\n",
        "for n in num:\n",
        "  if num ==1:\n",
        "    print(num, 'January')\n",
        "   else:\n",
        "    print('none') \n",
        "\n",
        "\n",
        "\n",
        "\n"
      ],
      "metadata": {
        "colab": {
          "base_uri": "https://localhost:8080/",
          "height": 130
        },
        "id": "CiFUSaKe6bFu",
        "outputId": "01bf92c2-00a3-4047-b4f3-a357358ad532"
      },
      "execution_count": null,
      "outputs": [
        {
          "output_type": "error",
          "ename": "IndentationError",
          "evalue": "ignored",
          "traceback": [
            "\u001b[0;36m  File \u001b[0;32m\"<tokenize>\"\u001b[0;36m, line \u001b[0;32m10\u001b[0m\n\u001b[0;31m    else:\u001b[0m\n\u001b[0m    ^\u001b[0m\n\u001b[0;31mIndentationError\u001b[0m\u001b[0;31m:\u001b[0m unindent does not match any outer indentation level\n"
          ]
        }
      ]
    },
    {
      "cell_type": "code",
      "source": [
        "'''\n",
        "4)  Write a program to take input between 1-7 and print which day of week it is\n",
        "\n",
        "Hint)  1 is Sunday\n",
        "\n",
        "'''\n",
        "\n",
        "a=2\n",
        "\n",
        "if a==1:\n",
        "  print('Sunday')\n",
        "elif a==2:\n",
        "  print('Monday')\n",
        "elif a==3:\n",
        "  print('Tuesday')\n",
        "elif a==4:\n",
        "  print('Wednesday')\n",
        "elif a==52:\n",
        "  print('Thursday')\n",
        "elif a==6:\n",
        "  print('Friday')\n",
        "elif a==7:\n",
        "  print('Saturday')\n",
        "else:\n",
        "  print('Not Valid')  "
      ],
      "metadata": {
        "colab": {
          "base_uri": "https://localhost:8080/"
        },
        "id": "RqXbOGPf6bKu",
        "outputId": "4610ef2d-be4d-4f37-a2db-770913c11c5d"
      },
      "execution_count": null,
      "outputs": [
        {
          "output_type": "stream",
          "name": "stdout",
          "text": [
            "Monday\n"
          ]
        }
      ]
    },
    {
      "cell_type": "code",
      "source": [
        "'''5) Check which number is greatest and smallest?'''\n",
        "\n",
        "A=82\n",
        "B=76\n",
        "C=51\n",
        "D=42\n",
        "\n",
        "set1= set([A,B,C,D])\n",
        "print('max is'+ str(max(set1)))\n",
        "print('min is'+ str(min(set1)))\n",
        "\n",
        "if B>A:\n",
        "  print('greatest is B')\n",
        "elif C>A:\n",
        "  print('greatest is C')\n",
        "elif D>A:\n",
        "  print('greatest is D')\n",
        "else:\n",
        "  print(\"The greatest number is A\")"
      ],
      "metadata": {
        "colab": {
          "base_uri": "https://localhost:8080/"
        },
        "id": "CB8TPpBj6bPQ",
        "outputId": "327e8e88-4dd1-4fbe-8403-d0e5eeb62aab"
      },
      "execution_count": null,
      "outputs": [
        {
          "output_type": "stream",
          "name": "stdout",
          "text": [
            "max is82\n",
            "min is42\n",
            "The greatest number is A\n"
          ]
        }
      ]
    },
    {
      "cell_type": "code",
      "source": [
        "#6) Check if a person is senior citizen or NO?\n",
        "\n",
        "age = 64\n",
        "\n",
        "if age>=65:\n",
        "  print('Senior Citizen')\n",
        "else:\n",
        "  print('NO')  \n"
      ],
      "metadata": {
        "colab": {
          "base_uri": "https://localhost:8080/"
        },
        "id": "YLxvG1fkPGwv",
        "outputId": "02356e2e-de62-412b-bcf1-66df1c37af25"
      },
      "execution_count": null,
      "outputs": [
        {
          "output_type": "stream",
          "name": "stdout",
          "text": [
            "NO\n"
          ]
        }
      ]
    },
    {
      "cell_type": "code",
      "source": [
        "#7) Check if a number is positive or negative\n",
        "\n",
        "n=-10\n",
        "\n",
        "if n>0:\n",
        "  print('Positive')\n",
        "else:\n",
        "  print('Negative')\n"
      ],
      "metadata": {
        "colab": {
          "base_uri": "https://localhost:8080/"
        },
        "id": "xfUY_5poPG39",
        "outputId": "a9ac84b1-8592-4ce8-f6d0-45d34411ecaf"
      },
      "execution_count": null,
      "outputs": [
        {
          "output_type": "stream",
          "name": "stdout",
          "text": [
            "Negative\n"
          ]
        }
      ]
    },
    {
      "cell_type": "code",
      "source": [
        "#8) Check if a number is divisible by both 2 and 3\n",
        "\n",
        "n=24\n",
        "\n",
        "if (n%6)==0:\n",
        "  print('Number is divisible by both 2 and 3')\n",
        "else:\n",
        "  print('Number is not divisible by both 2 and 3') \n"
      ],
      "metadata": {
        "colab": {
          "base_uri": "https://localhost:8080/"
        },
        "id": "ZmdarAHtPG7i",
        "outputId": "d35dae10-c4b2-4ec4-e6e0-99efe2006b20"
      },
      "execution_count": null,
      "outputs": [
        {
          "output_type": "stream",
          "name": "stdout",
          "text": [
            "Number is divisible by both 2 and 3\n"
          ]
        }
      ]
    },
    {
      "cell_type": "code",
      "source": [
        "#9) Check if a character entered is a vowel or not\n",
        "\n",
        "c='v'\n",
        "\n",
        "if c=='a' or c=='e' or c=='i' or c=='o' or c=='u':\n",
        "  print('Vowel')\n",
        "else:\n",
        "  print('not vowel')  "
      ],
      "metadata": {
        "colab": {
          "base_uri": "https://localhost:8080/"
        },
        "id": "QIgiFpM2PG-_",
        "outputId": "8cb81536-cb6d-4b82-fed7-2f5ca4b09550"
      },
      "execution_count": null,
      "outputs": [
        {
          "output_type": "stream",
          "name": "stdout",
          "text": [
            "not vowel\n"
          ]
        }
      ]
    },
    {
      "cell_type": "code",
      "source": [
        "\n",
        "# 10) Tell which person is the youngest and oldest\n",
        "Messi=82\n",
        "Ronaldo=91\n",
        "Ronaldino=62\n",
        "Neymar=51\n",
        "\n",
        "if Messi > Ronaldo:\n",
        "  print('Messi is the oldest')\n",
        "elif Ronaldino > Ronaldo:\n",
        "  print('Ronaldino is the oldest')  \n",
        "elif Neymar > Ronaldo:\n",
        "  print('Neymar is the oldest')\n",
        "else:\n",
        "  print('Ronaldo is the oldest')    \n",
        "\n",
        "if  Ronaldo<Neymar:\n",
        "  print('Ronaldo is the youngest')\n",
        "elif Ronaldino< Neymar:\n",
        "  print('Ronaldino is the youngest')  \n",
        "elif Ronaldo<Neymar:\n",
        "  print('Ronaldo is the youngest')\n",
        "else:\n",
        "  print('Neymar is the youngest') \n"
      ],
      "metadata": {
        "colab": {
          "base_uri": "https://localhost:8080/"
        },
        "id": "lmLyuYbPPHBy",
        "outputId": "75e0c13e-94a4-4880-8220-18f0cb7ecb51"
      },
      "execution_count": null,
      "outputs": [
        {
          "output_type": "stream",
          "name": "stdout",
          "text": [
            "Ronaldo is the oldest\n",
            "Neymar is the youngest\n"
          ]
        }
      ]
    },
    {
      "cell_type": "code",
      "source": [],
      "metadata": {
        "id": "jYCgb_EtPHEX"
      },
      "execution_count": null,
      "outputs": []
    },
    {
      "cell_type": "markdown",
      "source": [
        "Second Assignment\n"
      ],
      "metadata": {
        "id": "bQUVRXKPKy3F"
      }
    },
    {
      "cell_type": "code",
      "source": [],
      "metadata": {
        "id": "rnyccHwePHJS"
      },
      "execution_count": null,
      "outputs": []
    },
    {
      "cell_type": "code",
      "source": [
        "#1) Calculate the sum of all numbers from 1 to a given number\n",
        "n=20\n",
        "b=0\n",
        "for i in range (1,n+1):\n",
        "  b=b+i\n",
        "print(b)   \n"
      ],
      "metadata": {
        "id": "9qhfaHl6PHMm",
        "colab": {
          "base_uri": "https://localhost:8080/"
        },
        "outputId": "171ea7f7-fe5a-4e5d-d24a-4651902cf816"
      },
      "execution_count": null,
      "outputs": [
        {
          "output_type": "stream",
          "name": "stdout",
          "text": [
            "210\n"
          ]
        }
      ]
    },
    {
      "cell_type": "code",
      "source": [
        "#1) Calculate the sum of all numbers from 1 to a given number\n",
        "num=[1,2,3,4,5,6,7,8,9,10,11,12,13,14,15,16,17,18,19,20]\n",
        "print(sum(num))"
      ],
      "metadata": {
        "colab": {
          "base_uri": "https://localhost:8080/"
        },
        "id": "26LjKi7fV9gd",
        "outputId": "09e49bd2-c619-4654-ea7d-56b01adae6c9"
      },
      "execution_count": null,
      "outputs": [
        {
          "output_type": "stream",
          "name": "stdout",
          "text": [
            "210\n"
          ]
        }
      ]
    },
    {
      "cell_type": "code",
      "source": [
        "#2) Write a program to print multiplication table of a given number\n",
        "\n",
        "n=5\n",
        "for k in range(1,11):\n",
        "  print(n*k)"
      ],
      "metadata": {
        "colab": {
          "base_uri": "https://localhost:8080/"
        },
        "id": "S5Zn-5cRWBDG",
        "outputId": "3e0807c4-872e-41d9-a1c0-e7fcd4b15e77"
      },
      "execution_count": null,
      "outputs": [
        {
          "output_type": "stream",
          "name": "stdout",
          "text": [
            "5\n",
            "10\n",
            "15\n",
            "20\n",
            "25\n",
            "30\n",
            "35\n",
            "40\n",
            "45\n",
            "50\n"
          ]
        }
      ]
    },
    {
      "cell_type": "code",
      "source": [
        "#3) Count the total number of digits in a number\n",
        "\n",
        "n=4895632\n",
        "n_str=str(n)\n",
        "n_str\n",
        "len(str(n))\n",
        "\n",
        "for k in range(len(n_str)):\n",
        "  print(k)\n"
      ],
      "metadata": {
        "colab": {
          "base_uri": "https://localhost:8080/"
        },
        "id": "mBpins-iWA5d",
        "outputId": "ac656eb3-1781-4dfd-955e-7ad7b6146a6b"
      },
      "execution_count": null,
      "outputs": [
        {
          "output_type": "stream",
          "name": "stdout",
          "text": [
            "0\n",
            "1\n",
            "2\n",
            "3\n",
            "4\n",
            "5\n",
            "6\n"
          ]
        }
      ]
    },
    {
      "cell_type": "code",
      "source": [
        "#4) Reverse a given integer number\n",
        "n=4895632\n",
        "new_n=str(n)             ###str() converts integer into string\n",
        "new_n\n",
        "new_n[::-1]"
      ],
      "metadata": {
        "colab": {
          "base_uri": "https://localhost:8080/",
          "height": 35
        },
        "id": "JdBB9IYLX8Q4",
        "outputId": "60b102ed-9403-4c7b-d843-0e0342dba359"
      },
      "execution_count": null,
      "outputs": [
        {
          "output_type": "execute_result",
          "data": {
            "text/plain": [
              "'2365984'"
            ],
            "application/vnd.google.colaboratory.intrinsic+json": {
              "type": "string"
            }
          },
          "metadata": {},
          "execution_count": 26
        }
      ]
    },
    {
      "cell_type": "code",
      "source": [
        "#5) Calculate the cube of all numbers from 1 to a given number\n",
        "\n",
        "for n in range(1,11):\n",
        "  print(n*n*n)"
      ],
      "metadata": {
        "colab": {
          "base_uri": "https://localhost:8080/"
        },
        "id": "f7Sxsv-zZJSy",
        "outputId": "44863b2e-a6b4-4675-ce1d-4c791eeeccb5"
      },
      "execution_count": null,
      "outputs": [
        {
          "output_type": "stream",
          "name": "stdout",
          "text": [
            "1\n",
            "8\n",
            "27\n",
            "64\n",
            "125\n",
            "216\n",
            "343\n",
            "512\n",
            "729\n",
            "1000\n"
          ]
        }
      ]
    },
    {
      "cell_type": "code",
      "source": [],
      "metadata": {
        "id": "kBiirh3EZzLV"
      },
      "execution_count": null,
      "outputs": []
    }
  ]
}