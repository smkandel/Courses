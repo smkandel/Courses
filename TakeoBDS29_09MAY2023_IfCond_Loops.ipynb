{
  "nbformat": 4,
  "nbformat_minor": 0,
  "metadata": {
    "colab": {
      "provenance": [],
      "include_colab_link": true
    },
    "kernelspec": {
      "name": "python3",
      "display_name": "Python 3"
    },
    "language_info": {
      "name": "python"
    }
  },
  "cells": [
    {
      "cell_type": "markdown",
      "metadata": {
        "id": "view-in-github",
        "colab_type": "text"
      },
      "source": [
        "<a href=\"https://colab.research.google.com/github/smkandel/Courses/blob/main/TakeoBDS29_09MAY2023_IfCond_Loops.ipynb\" target=\"_parent\"><img src=\"https://colab.research.google.com/assets/colab-badge.svg\" alt=\"Open In Colab\"/></a>"
      ]
    },
    {
      "cell_type": "code",
      "execution_count": null,
      "metadata": {
        "colab": {
          "base_uri": "https://localhost:8080/",
          "height": 36
        },
        "id": "NDxnlchLvcQn",
        "outputId": "f550e142-0521-4f79-ddd9-bd253650dd86"
      },
      "outputs": [
        {
          "output_type": "execute_result",
          "data": {
            "text/plain": [
              "'\\nthis is python program\\nwe are adding two numbers\\nfirst I have to convert the number into string and\\nlater into interger\\n'"
            ],
            "application/vnd.google.colaboratory.intrinsic+json": {
              "type": "string"
            }
          },
          "metadata": {},
          "execution_count": 1
        }
      ],
      "source": [
        "\"\"\"\n",
        "this is python program\n",
        "we are adding two numbers\n",
        "first I have to convert the number into string and\n",
        "later into interger\n",
        "\"\"\""
      ]
    },
    {
      "cell_type": "code",
      "source": [
        "'''\n",
        "this is python program\n",
        "we are adding two numbers\n",
        "first I have to convert the number into string and\n",
        "later into interger\n",
        "'''"
      ],
      "metadata": {
        "colab": {
          "base_uri": "https://localhost:8080/",
          "height": 36
        },
        "id": "Wp6QGSjlv3ML",
        "outputId": "37495e4d-8621-453e-a15f-427fd556224e"
      },
      "execution_count": null,
      "outputs": [
        {
          "output_type": "execute_result",
          "data": {
            "text/plain": [
              "'\\nthis is python program\\nwe are adding two numbers\\nfirst I have to convert the number into string and\\nlater into interger\\n'"
            ],
            "application/vnd.google.colaboratory.intrinsic+json": {
              "type": "string"
            }
          },
          "metadata": {},
          "execution_count": 2
        }
      ]
    },
    {
      "cell_type": "code",
      "source": [
        "# this is comment"
      ],
      "metadata": {
        "id": "Txfr3Z_ov7tC"
      },
      "execution_count": null,
      "outputs": []
    },
    {
      "cell_type": "code",
      "source": [
        "a=9\n",
        "\n",
        "if a < 10:\n",
        "  print(\"a < 10\")\n",
        "  if a < 25:\n",
        "    print(\"a < 25\")\n",
        "    if a < 40:\n",
        "      print(\"a < 40\")\n",
        "      if a < 55:\n",
        "        print(\"a < 55\")\n",
        "        if a < 70:\n",
        "          print(\"a < 70\")\n",
        "          if a < 85:\n",
        "            print(\"a < 85\")\n",
        "            if a < 100:\n",
        "              print(\"a < 100\")\n",
        "            else:\n",
        "              print(\"a < 100 else\")\n",
        "          else:\n",
        "            print(\"a < 85 else\")\n",
        "        else:\n",
        "          print(\"a < 70 else\")\n",
        "      else:\n",
        "        print(\"a < 55 else\")\n",
        "    else:\n",
        "      print(\"a < 40 else\")\n",
        "  else:\n",
        "    print(\"a < 25 else\")\n",
        "else:\n",
        "  print(\"a < 10 else\")"
      ],
      "metadata": {
        "colab": {
          "base_uri": "https://localhost:8080/"
        },
        "id": "7fBsH53G0RYs",
        "outputId": "cc04c951-26d9-4b91-ccdd-65103cb5b6f3"
      },
      "execution_count": null,
      "outputs": [
        {
          "output_type": "stream",
          "name": "stdout",
          "text": [
            "a < 10\n",
            "a < 25\n",
            "a < 40\n",
            "a < 55\n",
            "a < 70\n",
            "a < 85\n",
            "a < 100\n"
          ]
        }
      ]
    },
    {
      "cell_type": "code",
      "source": [
        "a=100\n",
        "\n",
        "if a > 10:\n",
        "  print(\"a > 10\")\n",
        "  if a > 25:\n",
        "    print(\"a > 25\")\n",
        "    if a > 40:\n",
        "      print(\"a > 40\")\n",
        "      if a > 55:\n",
        "        print(\"a > 55\")\n",
        "        if a > 70:\n",
        "          print(\"a > 70\")\n",
        "          if a > 85:\n",
        "            print(\"a > 85\")\n",
        "            if a > 100:\n",
        "              print(\"a > 100\")\n",
        "            else:\n",
        "              print(\"a > 100 else\")\n",
        "          else:\n",
        "            print(\"a > 85 else\")\n",
        "        else:\n",
        "          print(\"a > 70 else\")\n",
        "      else:\n",
        "        print(\"a > 55 else\")\n",
        "    else:\n",
        "      print(\"a > 40 else\")\n",
        "  else:\n",
        "    print(\"a > 25 else\")\n",
        "else:\n",
        "  print(\"a > 10 else\")"
      ],
      "metadata": {
        "colab": {
          "base_uri": "https://localhost:8080/"
        },
        "id": "HSMkmO393LTN",
        "outputId": "b057e91b-77a6-416f-c131-af3ec8e69349"
      },
      "execution_count": null,
      "outputs": [
        {
          "output_type": "stream",
          "name": "stdout",
          "text": [
            "a > 10\n",
            "a > 25\n",
            "a > 40\n",
            "a > 55\n",
            "a > 70\n",
            "a > 85\n",
            "a > 100 else\n"
          ]
        }
      ]
    },
    {
      "cell_type": "code",
      "source": [
        "lst1 = [1,2,3,4,5,6,7,8,9,10,11,12,13]\n",
        "for i in lst1:\n",
        "  print(i)"
      ],
      "metadata": {
        "colab": {
          "base_uri": "https://localhost:8080/"
        },
        "id": "125PlXO24wNm",
        "outputId": "a5af13c4-237b-4ec3-8478-280c49a61b5d"
      },
      "execution_count": null,
      "outputs": [
        {
          "output_type": "stream",
          "name": "stdout",
          "text": [
            "1\n",
            "2\n",
            "3\n",
            "4\n",
            "5\n",
            "6\n",
            "7\n",
            "8\n",
            "9\n",
            "10\n",
            "11\n",
            "12\n",
            "13\n"
          ]
        }
      ]
    },
    {
      "cell_type": "code",
      "source": [
        "tup1 = ('a','b','c','d','e','f','g','h','i','j','k','l','m','n','o','p')\n",
        "for i in tup1:\n",
        "  print(i)"
      ],
      "metadata": {
        "colab": {
          "base_uri": "https://localhost:8080/"
        },
        "id": "7rjvbXbN54v3",
        "outputId": "7b3ccb44-a4ae-4c82-f115-de809ed54e29"
      },
      "execution_count": null,
      "outputs": [
        {
          "output_type": "stream",
          "name": "stdout",
          "text": [
            "a\n",
            "b\n",
            "c\n",
            "d\n",
            "e\n",
            "f\n",
            "g\n",
            "h\n",
            "i\n",
            "j\n",
            "k\n",
            "l\n",
            "m\n",
            "n\n",
            "o\n",
            "p\n"
          ]
        }
      ]
    },
    {
      "cell_type": "code",
      "source": [
        "set1 = {True,False,None,'python',\"PYTHON\",'Python',3.14,23+71j,0,'python',1,\"PYTHON\",2,'Python',3,3.14,23+71j}\n",
        "for i in set1:\n",
        "  print(i)"
      ],
      "metadata": {
        "colab": {
          "base_uri": "https://localhost:8080/"
        },
        "id": "VRPmz43K6nQ9",
        "outputId": "c9bab0e2-b851-4cf7-8317-7a666f3ec7c0"
      },
      "execution_count": null,
      "outputs": [
        {
          "output_type": "stream",
          "name": "stdout",
          "text": [
            "False\n",
            "True\n",
            "2\n",
            "PYTHON\n",
            "3.14\n",
            "3\n",
            "(23+71j)\n",
            "None\n",
            "python\n",
            "Python\n"
          ]
        }
      ]
    },
    {
      "cell_type": "code",
      "source": [
        "dict1 = {'a':'apple', 'b':'banana', 'c': 'cherries'}\n",
        "for i in dict1:\n",
        "  print(i)"
      ],
      "metadata": {
        "colab": {
          "base_uri": "https://localhost:8080/"
        },
        "id": "A1JPOPjy8J1d",
        "outputId": "5fb3cf13-fa12-4648-da62-832cf6fb5c11"
      },
      "execution_count": null,
      "outputs": [
        {
          "output_type": "stream",
          "name": "stdout",
          "text": [
            "a\n",
            "b\n",
            "c\n"
          ]
        }
      ]
    },
    {
      "cell_type": "code",
      "source": [
        "dict1 = {'a':'apple', 'b':'banana', 'c': 'cherries'}\n",
        "for i in dict1.values():\n",
        "  print(i)"
      ],
      "metadata": {
        "colab": {
          "base_uri": "https://localhost:8080/"
        },
        "id": "H02LmtN383_E",
        "outputId": "6277cea2-0b7e-4769-f071-0807854a3eea"
      },
      "execution_count": null,
      "outputs": [
        {
          "output_type": "stream",
          "name": "stdout",
          "text": [
            "apple\n",
            "banana\n",
            "cherries\n"
          ]
        }
      ]
    },
    {
      "cell_type": "code",
      "source": [
        "str1 = '''pneum'on\"oultra\"micro'sc\"pic'silicov'olc\"anoc'on\"iosis'''\n",
        "for i in str1:\n",
        "  print(i)"
      ],
      "metadata": {
        "colab": {
          "base_uri": "https://localhost:8080/"
        },
        "id": "mVuWqhEG8k_u",
        "outputId": "975c601b-eeb5-479a-f32e-f99d7a63604c"
      },
      "execution_count": null,
      "outputs": [
        {
          "output_type": "stream",
          "name": "stdout",
          "text": [
            "p\n",
            "n\n",
            "e\n",
            "u\n",
            "m\n",
            "'\n",
            "o\n",
            "n\n",
            "\"\n",
            "o\n",
            "u\n",
            "l\n",
            "t\n",
            "r\n",
            "a\n",
            "\"\n",
            "m\n",
            "i\n",
            "c\n",
            "r\n",
            "o\n",
            "'\n",
            "s\n",
            "c\n",
            "\"\n",
            "p\n",
            "i\n",
            "c\n",
            "'\n",
            "s\n",
            "i\n",
            "l\n",
            "i\n",
            "c\n",
            "o\n",
            "v\n",
            "'\n",
            "o\n",
            "l\n",
            "c\n",
            "\"\n",
            "a\n",
            "n\n",
            "o\n",
            "c\n",
            "'\n",
            "o\n",
            "n\n",
            "\"\n",
            "i\n",
            "o\n",
            "s\n",
            "i\n",
            "s\n"
          ]
        }
      ]
    },
    {
      "cell_type": "code",
      "source": [
        "for i in range(10):\n",
        "  print(i)"
      ],
      "metadata": {
        "colab": {
          "base_uri": "https://localhost:8080/"
        },
        "id": "zMHrvaUJ-ETn",
        "outputId": "1b0795a2-72b1-4640-c8a5-2aaccb30feb2"
      },
      "execution_count": null,
      "outputs": [
        {
          "output_type": "stream",
          "name": "stdout",
          "text": [
            "0\n",
            "1\n",
            "2\n",
            "3\n",
            "4\n",
            "5\n",
            "6\n",
            "7\n",
            "8\n",
            "9\n"
          ]
        }
      ]
    },
    {
      "cell_type": "code",
      "source": [
        "for i in range(0,10):\n",
        "  print(i)"
      ],
      "metadata": {
        "colab": {
          "base_uri": "https://localhost:8080/"
        },
        "id": "M5s0EeEV-Rqe",
        "outputId": "3e9e3317-984d-4b13-caca-e27efac76ef3"
      },
      "execution_count": null,
      "outputs": [
        {
          "output_type": "stream",
          "name": "stdout",
          "text": [
            "0\n",
            "1\n",
            "2\n",
            "3\n",
            "4\n",
            "5\n",
            "6\n",
            "7\n",
            "8\n",
            "9\n"
          ]
        }
      ]
    },
    {
      "cell_type": "code",
      "source": [
        "for i in range(0,10,1):\n",
        "  print(i)"
      ],
      "metadata": {
        "colab": {
          "base_uri": "https://localhost:8080/"
        },
        "id": "rHSOEzED-Xsf",
        "outputId": "af8f19c4-9e6d-49f5-890b-ac9dd6b68155"
      },
      "execution_count": null,
      "outputs": [
        {
          "output_type": "stream",
          "name": "stdout",
          "text": [
            "0\n",
            "1\n",
            "2\n",
            "3\n",
            "4\n",
            "5\n",
            "6\n",
            "7\n",
            "8\n",
            "9\n"
          ]
        }
      ]
    },
    {
      "cell_type": "code",
      "source": [
        "for i in range(10,100):\n",
        "  print(i)"
      ],
      "metadata": {
        "colab": {
          "base_uri": "https://localhost:8080/"
        },
        "id": "7jxliNB2-rDc",
        "outputId": "e71e1e76-b312-45d2-83ca-d0156f77c29a"
      },
      "execution_count": null,
      "outputs": [
        {
          "output_type": "stream",
          "name": "stdout",
          "text": [
            "10\n",
            "11\n",
            "12\n",
            "13\n",
            "14\n",
            "15\n",
            "16\n",
            "17\n",
            "18\n",
            "19\n",
            "20\n",
            "21\n",
            "22\n",
            "23\n",
            "24\n",
            "25\n",
            "26\n",
            "27\n",
            "28\n",
            "29\n",
            "30\n",
            "31\n",
            "32\n",
            "33\n",
            "34\n",
            "35\n",
            "36\n",
            "37\n",
            "38\n",
            "39\n",
            "40\n",
            "41\n",
            "42\n",
            "43\n",
            "44\n",
            "45\n",
            "46\n",
            "47\n",
            "48\n",
            "49\n",
            "50\n",
            "51\n",
            "52\n",
            "53\n",
            "54\n",
            "55\n",
            "56\n",
            "57\n",
            "58\n",
            "59\n",
            "60\n",
            "61\n",
            "62\n",
            "63\n",
            "64\n",
            "65\n",
            "66\n",
            "67\n",
            "68\n",
            "69\n",
            "70\n",
            "71\n",
            "72\n",
            "73\n",
            "74\n",
            "75\n",
            "76\n",
            "77\n",
            "78\n",
            "79\n",
            "80\n",
            "81\n",
            "82\n",
            "83\n",
            "84\n",
            "85\n",
            "86\n",
            "87\n",
            "88\n",
            "89\n",
            "90\n",
            "91\n",
            "92\n",
            "93\n",
            "94\n",
            "95\n",
            "96\n",
            "97\n",
            "98\n",
            "99\n"
          ]
        }
      ]
    },
    {
      "cell_type": "code",
      "source": [
        "for i in range(10,100,10):\n",
        "  print(i)"
      ],
      "metadata": {
        "colab": {
          "base_uri": "https://localhost:8080/"
        },
        "id": "c593cUeq-yQs",
        "outputId": "e6727d43-4485-42d8-ea6a-e195bf6b5c0d"
      },
      "execution_count": null,
      "outputs": [
        {
          "output_type": "stream",
          "name": "stdout",
          "text": [
            "10\n",
            "20\n",
            "30\n",
            "40\n",
            "50\n",
            "60\n",
            "70\n",
            "80\n",
            "90\n"
          ]
        }
      ]
    },
    {
      "cell_type": "code",
      "source": [
        "print(lst1)\n",
        "for i in lst1:\n",
        "  print(\"values of list1 \", i)\n",
        "else:\n",
        "  print('I am in else section')"
      ],
      "metadata": {
        "colab": {
          "base_uri": "https://localhost:8080/"
        },
        "id": "fiOhUsN8AAft",
        "outputId": "d118b7e0-697a-4130-87ab-d921e77b4ffb"
      },
      "execution_count": null,
      "outputs": [
        {
          "output_type": "stream",
          "name": "stdout",
          "text": [
            "[1, 2, 3, 4, 5, 6, 7, 8, 9, 10, 11, 12, 13]\n",
            "values of list1  1\n",
            "values of list1  2\n",
            "values of list1  3\n",
            "values of list1  4\n",
            "values of list1  5\n",
            "values of list1  6\n",
            "values of list1  7\n",
            "values of list1  8\n",
            "values of list1  9\n",
            "values of list1  10\n",
            "values of list1  11\n",
            "values of list1  12\n",
            "values of list1  13\n",
            "I am in else section\n"
          ]
        }
      ]
    },
    {
      "cell_type": "code",
      "source": [
        "stu_per = [98,87,76,65,54,43,32,88,77,66,55,44,33]\n",
        "for perc in stu_per:\n",
        "  if perc >= 85:\n",
        "    print(\"passed with first class distinction\", perc)\n",
        "  elif perc >= 60 and perc < 85:\n",
        "    print('passed with first class', perc)\n",
        "  elif perc >= 40 and perc < 60:\n",
        "    print('passed with second class', perc)\n",
        "  else:\n",
        "    print('better luck next time', perc)"
      ],
      "metadata": {
        "colab": {
          "base_uri": "https://localhost:8080/"
        },
        "id": "KPIvsb69CaIP",
        "outputId": "33ebb669-210c-43f1-e495-7b7485e5953a"
      },
      "execution_count": null,
      "outputs": [
        {
          "output_type": "stream",
          "name": "stdout",
          "text": [
            "passed with first class distinction 98\n",
            "passed with first class distinction 87\n",
            "passed with first class 76\n",
            "passed with first class 65\n",
            "passed with second class 54\n",
            "passed with second class 43\n",
            "better luck next time 32\n",
            "passed with first class distinction 88\n",
            "passed with first class 77\n",
            "passed with first class 66\n",
            "passed with second class 55\n",
            "passed with second class 44\n",
            "better luck next time 33\n"
          ]
        }
      ]
    },
    {
      "cell_type": "code",
      "source": [
        "for i in range(1, 11, 1):\n",
        "  for j in range(1, 11, 1):\n",
        "    print(i,\" * \",j, \" = \",i*j)"
      ],
      "metadata": {
        "colab": {
          "base_uri": "https://localhost:8080/"
        },
        "id": "-iufJTHYD2jO",
        "outputId": "9a1a5f5d-59c3-465e-9792-7a2239120ea2"
      },
      "execution_count": null,
      "outputs": [
        {
          "output_type": "stream",
          "name": "stdout",
          "text": [
            "1  *  1  =  1\n",
            "1  *  2  =  2\n",
            "1  *  3  =  3\n",
            "1  *  4  =  4\n",
            "1  *  5  =  5\n",
            "1  *  6  =  6\n",
            "1  *  7  =  7\n",
            "1  *  8  =  8\n",
            "1  *  9  =  9\n",
            "1  *  10  =  10\n",
            "2  *  1  =  2\n",
            "2  *  2  =  4\n",
            "2  *  3  =  6\n",
            "2  *  4  =  8\n",
            "2  *  5  =  10\n",
            "2  *  6  =  12\n",
            "2  *  7  =  14\n",
            "2  *  8  =  16\n",
            "2  *  9  =  18\n",
            "2  *  10  =  20\n",
            "3  *  1  =  3\n",
            "3  *  2  =  6\n",
            "3  *  3  =  9\n",
            "3  *  4  =  12\n",
            "3  *  5  =  15\n",
            "3  *  6  =  18\n",
            "3  *  7  =  21\n",
            "3  *  8  =  24\n",
            "3  *  9  =  27\n",
            "3  *  10  =  30\n",
            "4  *  1  =  4\n",
            "4  *  2  =  8\n",
            "4  *  3  =  12\n",
            "4  *  4  =  16\n",
            "4  *  5  =  20\n",
            "4  *  6  =  24\n",
            "4  *  7  =  28\n",
            "4  *  8  =  32\n",
            "4  *  9  =  36\n",
            "4  *  10  =  40\n",
            "5  *  1  =  5\n",
            "5  *  2  =  10\n",
            "5  *  3  =  15\n",
            "5  *  4  =  20\n",
            "5  *  5  =  25\n",
            "5  *  6  =  30\n",
            "5  *  7  =  35\n",
            "5  *  8  =  40\n",
            "5  *  9  =  45\n",
            "5  *  10  =  50\n",
            "6  *  1  =  6\n",
            "6  *  2  =  12\n",
            "6  *  3  =  18\n",
            "6  *  4  =  24\n",
            "6  *  5  =  30\n",
            "6  *  6  =  36\n",
            "6  *  7  =  42\n",
            "6  *  8  =  48\n",
            "6  *  9  =  54\n",
            "6  *  10  =  60\n",
            "7  *  1  =  7\n",
            "7  *  2  =  14\n",
            "7  *  3  =  21\n",
            "7  *  4  =  28\n",
            "7  *  5  =  35\n",
            "7  *  6  =  42\n",
            "7  *  7  =  49\n",
            "7  *  8  =  56\n",
            "7  *  9  =  63\n",
            "7  *  10  =  70\n",
            "8  *  1  =  8\n",
            "8  *  2  =  16\n",
            "8  *  3  =  24\n",
            "8  *  4  =  32\n",
            "8  *  5  =  40\n",
            "8  *  6  =  48\n",
            "8  *  7  =  56\n",
            "8  *  8  =  64\n",
            "8  *  9  =  72\n",
            "8  *  10  =  80\n",
            "9  *  1  =  9\n",
            "9  *  2  =  18\n",
            "9  *  3  =  27\n",
            "9  *  4  =  36\n",
            "9  *  5  =  45\n",
            "9  *  6  =  54\n",
            "9  *  7  =  63\n",
            "9  *  8  =  72\n",
            "9  *  9  =  81\n",
            "9  *  10  =  90\n",
            "10  *  1  =  10\n",
            "10  *  2  =  20\n",
            "10  *  3  =  30\n",
            "10  *  4  =  40\n",
            "10  *  5  =  50\n",
            "10  *  6  =  60\n",
            "10  *  7  =  70\n",
            "10  *  8  =  80\n",
            "10  *  9  =  90\n",
            "10  *  10  =  100\n"
          ]
        }
      ]
    },
    {
      "cell_type": "markdown",
      "source": [
        "(*values: object, sep: str | None = ..., end: str | None = ..., file: SupportsWrite[str] | None = ..., flush: Literal[False] = ...) -> None\n",
        "print(value, ..., sep=' ', end='\\n', file=sys.stdout, flush=False)\n",
        "\n",
        "Prints the values to a stream, or to sys.stdout by default.\n",
        "Optional keyword arguments:\n",
        "file:  a file-like object (stream); defaults to the current sys.stdout.\n",
        "sep:   string inserted between values, default a space.\n",
        "end:   string appended after the last value, default a newline.\n",
        "flush: whether to forcibly flush the stream."
      ],
      "metadata": {
        "id": "6rtgoKvwG-g5"
      }
    },
    {
      "cell_type": "code",
      "source": [
        "for i in range(0, 20):\n",
        "  for j in range(0, 20):\n",
        "    print(\"*\", end=' ')\n",
        "    print()\n",
        "  print('\\r')"
      ],
      "metadata": {
        "colab": {
          "base_uri": "https://localhost:8080/"
        },
        "id": "cptQnhKJFIiq",
        "outputId": "fdc3ac1b-ce02-4d03-bb5c-d71980d0ad03"
      },
      "execution_count": null,
      "outputs": [
        {
          "output_type": "stream",
          "name": "stdout",
          "text": [
            "* * * * * * * * * * * * * * * * * * * * \r\n",
            "* * * * * * * * * * * * * * * * * * * * \r\n",
            "* * * * * * * * * * * * * * * * * * * * \r\n",
            "* * * * * * * * * * * * * * * * * * * * \r\n",
            "* * * * * * * * * * * * * * * * * * * * \r\n",
            "* * * * * * * * * * * * * * * * * * * * \r\n",
            "* * * * * * * * * * * * * * * * * * * * \r\n",
            "* * * * * * * * * * * * * * * * * * * * \r\n",
            "* * * * * * * * * * * * * * * * * * * * \r\n",
            "* * * * * * * * * * * * * * * * * * * * \r\n",
            "* * * * * * * * * * * * * * * * * * * * \r\n",
            "* * * * * * * * * * * * * * * * * * * * \r\n",
            "* * * * * * * * * * * * * * * * * * * * \r\n",
            "* * * * * * * * * * * * * * * * * * * * \r\n",
            "* * * * * * * * * * * * * * * * * * * * \r\n",
            "* * * * * * * * * * * * * * * * * * * * \r\n",
            "* * * * * * * * * * * * * * * * * * * * \r\n",
            "* * * * * * * * * * * * * * * * * * * * \r\n",
            "* * * * * * * * * * * * * * * * * * * * \r\n",
            "* * * * * * * * * * * * * * * * * * * * \r\n"
          ]
        }
      ]
    },
    {
      "cell_type": "code",
      "source": [
        "for i in range(0, 20):\n",
        "  for j in range(0, 20):\n",
        "    print(\"*\", end=' ')\n",
        "  print('\\r')"
      ],
      "metadata": {
        "colab": {
          "base_uri": "https://localhost:8080/"
        },
        "id": "SdZ0QUdsFmCW",
        "outputId": "96ef549a-9410-4bf4-f34f-169ce2f5ac02"
      },
      "execution_count": null,
      "outputs": [
        {
          "output_type": "stream",
          "name": "stdout",
          "text": [
            "* * * * * * * * * * * * * * * * * * * * \r\n",
            "* * * * * * * * * * * * * * * * * * * * \r\n",
            "* * * * * * * * * * * * * * * * * * * * \r\n",
            "* * * * * * * * * * * * * * * * * * * * \r\n",
            "* * * * * * * * * * * * * * * * * * * * \r\n",
            "* * * * * * * * * * * * * * * * * * * * \r\n",
            "* * * * * * * * * * * * * * * * * * * * \r\n",
            "* * * * * * * * * * * * * * * * * * * * \r\n",
            "* * * * * * * * * * * * * * * * * * * * \r\n",
            "* * * * * * * * * * * * * * * * * * * * \r\n",
            "* * * * * * * * * * * * * * * * * * * * \r\n",
            "* * * * * * * * * * * * * * * * * * * * \r\n",
            "* * * * * * * * * * * * * * * * * * * * \r\n",
            "* * * * * * * * * * * * * * * * * * * * \r\n",
            "* * * * * * * * * * * * * * * * * * * * \r\n",
            "* * * * * * * * * * * * * * * * * * * * \r\n",
            "* * * * * * * * * * * * * * * * * * * * \r\n",
            "* * * * * * * * * * * * * * * * * * * * \r\n",
            "* * * * * * * * * * * * * * * * * * * * \r\n",
            "* * * * * * * * * * * * * * * * * * * * \r\n"
          ]
        }
      ]
    },
    {
      "cell_type": "code",
      "source": [
        "for i in range(0, 10): # 0, 1     , 2      , 3         , 4          ..., 9 \n",
        "  for j in range(i+1): # 0, 0,1   , 0,1,2  , 0,1,2,3   , 0,1,2,3,4  ..., 0,1,2,3,4,5,6,7,8,9\n",
        "    print(\"*\", end=\" \")\n",
        "  print('\\r')"
      ],
      "metadata": {
        "colab": {
          "base_uri": "https://localhost:8080/"
        },
        "id": "81MEfH8GKMf5",
        "outputId": "cda599ed-55d9-4fdf-bcba-70e4399321a3"
      },
      "execution_count": null,
      "outputs": [
        {
          "output_type": "stream",
          "name": "stdout",
          "text": [
            "* \r\n",
            "* * \r\n",
            "* * * \r\n",
            "* * * * \r\n",
            "* * * * * \r\n",
            "* * * * * * \r\n",
            "* * * * * * * \r\n",
            "* * * * * * * * \r\n",
            "* * * * * * * * * \r\n",
            "* * * * * * * * * * \r\n"
          ]
        }
      ]
    },
    {
      "cell_type": "code",
      "source": [
        "n = 6\n",
        "k = n-1\n",
        "for i in range(0, n):\n",
        "  for j in range(0, k):\n",
        "    print(end=\"^\")\n",
        "     \n",
        "  k = k - 1\n",
        "  for j in range(0, i+1):\n",
        "    print(j, end=\"\")\n",
        "  print(\"\\r\")"
      ],
      "metadata": {
        "colab": {
          "base_uri": "https://localhost:8080/"
        },
        "id": "xGXtJgBrOQv4",
        "outputId": "c7aed793-469b-43b5-88b8-af35f5498bba"
      },
      "execution_count": null,
      "outputs": [
        {
          "output_type": "stream",
          "name": "stdout",
          "text": [
            "^^^^^0\r\n",
            "^^^^01\r\n",
            "^^^012\r\n",
            "^^0123\r\n",
            "^01234\r\n",
            "012345\r\n"
          ]
        }
      ]
    }
  ]
}